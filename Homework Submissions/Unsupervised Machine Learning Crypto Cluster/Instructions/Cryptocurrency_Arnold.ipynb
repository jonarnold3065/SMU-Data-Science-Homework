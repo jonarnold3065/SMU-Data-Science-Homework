{
 "cells": [
  {
   "cell_type": "code",
   "execution_count": 1,
   "id": "6f1f45f9",
   "metadata": {},
   "outputs": [],
   "source": [
    "import pandas as pd \n",
    "import numpy as np\n",
    "import matplotlib.pyplot as plt"
   ]
  },
  {
   "cell_type": "code",
   "execution_count": 2,
   "id": "b08fe843",
   "metadata": {},
   "outputs": [
    {
     "data": {
      "text/html": [
       "<div>\n",
       "<style scoped>\n",
       "    .dataframe tbody tr th:only-of-type {\n",
       "        vertical-align: middle;\n",
       "    }\n",
       "\n",
       "    .dataframe tbody tr th {\n",
       "        vertical-align: top;\n",
       "    }\n",
       "\n",
       "    .dataframe thead th {\n",
       "        text-align: right;\n",
       "    }\n",
       "</style>\n",
       "<table border=\"1\" class=\"dataframe\">\n",
       "  <thead>\n",
       "    <tr style=\"text-align: right;\">\n",
       "      <th></th>\n",
       "      <th>Unnamed: 0</th>\n",
       "      <th>CoinName</th>\n",
       "      <th>Algorithm</th>\n",
       "      <th>IsTrading</th>\n",
       "      <th>ProofType</th>\n",
       "      <th>TotalCoinsMined</th>\n",
       "      <th>TotalCoinSupply</th>\n",
       "    </tr>\n",
       "  </thead>\n",
       "  <tbody>\n",
       "    <tr>\n",
       "      <th>0</th>\n",
       "      <td>42</td>\n",
       "      <td>42 Coin</td>\n",
       "      <td>Scrypt</td>\n",
       "      <td>True</td>\n",
       "      <td>PoW/PoS</td>\n",
       "      <td>4.199995e+01</td>\n",
       "      <td>42</td>\n",
       "    </tr>\n",
       "    <tr>\n",
       "      <th>1</th>\n",
       "      <td>365</td>\n",
       "      <td>365Coin</td>\n",
       "      <td>X11</td>\n",
       "      <td>True</td>\n",
       "      <td>PoW/PoS</td>\n",
       "      <td>NaN</td>\n",
       "      <td>2300000000</td>\n",
       "    </tr>\n",
       "    <tr>\n",
       "      <th>2</th>\n",
       "      <td>404</td>\n",
       "      <td>404Coin</td>\n",
       "      <td>Scrypt</td>\n",
       "      <td>True</td>\n",
       "      <td>PoW/PoS</td>\n",
       "      <td>1.055185e+09</td>\n",
       "      <td>532000000</td>\n",
       "    </tr>\n",
       "    <tr>\n",
       "      <th>3</th>\n",
       "      <td>611</td>\n",
       "      <td>SixEleven</td>\n",
       "      <td>SHA-256</td>\n",
       "      <td>True</td>\n",
       "      <td>PoW</td>\n",
       "      <td>NaN</td>\n",
       "      <td>611000</td>\n",
       "    </tr>\n",
       "    <tr>\n",
       "      <th>4</th>\n",
       "      <td>808</td>\n",
       "      <td>808</td>\n",
       "      <td>SHA-256</td>\n",
       "      <td>True</td>\n",
       "      <td>PoW/PoS</td>\n",
       "      <td>0.000000e+00</td>\n",
       "      <td>0</td>\n",
       "    </tr>\n",
       "  </tbody>\n",
       "</table>\n",
       "</div>"
      ],
      "text/plain": [
       "  Unnamed: 0   CoinName Algorithm  IsTrading ProofType  TotalCoinsMined  \\\n",
       "0         42    42 Coin    Scrypt       True   PoW/PoS     4.199995e+01   \n",
       "1        365    365Coin       X11       True   PoW/PoS              NaN   \n",
       "2        404    404Coin    Scrypt       True   PoW/PoS     1.055185e+09   \n",
       "3        611  SixEleven   SHA-256       True       PoW              NaN   \n",
       "4        808        808   SHA-256       True   PoW/PoS     0.000000e+00   \n",
       "\n",
       "  TotalCoinSupply  \n",
       "0              42  \n",
       "1      2300000000  \n",
       "2       532000000  \n",
       "3          611000  \n",
       "4               0  "
      ]
     },
     "execution_count": 2,
     "metadata": {},
     "output_type": "execute_result"
    }
   ],
   "source": [
    "df = pd.read_csv(\"crypto_data.csv\")\n",
    "df.head()"
   ]
  },
  {
   "cell_type": "code",
   "execution_count": 3,
   "id": "36945c39",
   "metadata": {},
   "outputs": [
    {
     "data": {
      "text/plain": [
       "PoW                                      535\n",
       "PoW/PoS                                  468\n",
       "PoS                                      185\n",
       "DPoS                                      21\n",
       "PoS/PoW                                    5\n",
       "PoA                                        3\n",
       "PoC                                        3\n",
       "PoW/PoS                                    2\n",
       "LPoS                                       2\n",
       "PoW/DPoW                                   1\n",
       "PoW and PoS                                1\n",
       "Proof of Trust                             1\n",
       "PoS/PoB                                    1\n",
       "DPoC                                       1\n",
       "PoS/LPoS                                   1\n",
       "DPoI                                       1\n",
       "POBh                                       1\n",
       "Pos                                        1\n",
       "PoW/nPoS                                   1\n",
       " PoW/PoS                                   1\n",
       "POS / MN                                   1\n",
       "DPOS                                       1\n",
       "PoS/PoW/PoT                                1\n",
       "PoB/PoS                                    1\n",
       "PoST                                       1\n",
       "DPoW                                       1\n",
       "HPoW                                       1\n",
       "Zero-Knowledge Proof                       1\n",
       "Proof of Stake                             1\n",
       "Limited Confidence Proof-of-Activity       1\n",
       "PoW/PoW                                    1\n",
       "Proof of Authority                         1\n",
       "PoW + Hive                                 1\n",
       "TPoS                                       1\n",
       "PoW/PoS/PoC                                1\n",
       "dPoW/PoW                                   1\n",
       "DPoS/LPoS                                  1\n",
       "Name: ProofType, dtype: int64"
      ]
     },
     "execution_count": 3,
     "metadata": {},
     "output_type": "execute_result"
    }
   ],
   "source": [
    "# break out the various \"prrof\" types as there appears to be duplicated due to spelling differences\n",
    "df.ProofType.value_counts()"
   ]
  },
  {
   "cell_type": "code",
   "execution_count": 4,
   "id": "e557ba20",
   "metadata": {},
   "outputs": [
    {
     "data": {
      "text/html": [
       "<div>\n",
       "<style scoped>\n",
       "    .dataframe tbody tr th:only-of-type {\n",
       "        vertical-align: middle;\n",
       "    }\n",
       "\n",
       "    .dataframe tbody tr th {\n",
       "        vertical-align: top;\n",
       "    }\n",
       "\n",
       "    .dataframe thead th {\n",
       "        text-align: right;\n",
       "    }\n",
       "</style>\n",
       "<table border=\"1\" class=\"dataframe\">\n",
       "  <thead>\n",
       "    <tr style=\"text-align: right;\">\n",
       "      <th></th>\n",
       "      <th>TotalCoinsMined</th>\n",
       "    </tr>\n",
       "  </thead>\n",
       "  <tbody>\n",
       "    <tr>\n",
       "      <th>count</th>\n",
       "      <td>7.440000e+02</td>\n",
       "    </tr>\n",
       "    <tr>\n",
       "      <th>mean</th>\n",
       "      <td>3.883103e+09</td>\n",
       "    </tr>\n",
       "    <tr>\n",
       "      <th>std</th>\n",
       "      <td>3.867263e+10</td>\n",
       "    </tr>\n",
       "    <tr>\n",
       "      <th>min</th>\n",
       "      <td>-5.917978e+09</td>\n",
       "    </tr>\n",
       "    <tr>\n",
       "      <th>25%</th>\n",
       "      <td>6.322164e+05</td>\n",
       "    </tr>\n",
       "    <tr>\n",
       "      <th>50%</th>\n",
       "      <td>1.340427e+07</td>\n",
       "    </tr>\n",
       "    <tr>\n",
       "      <th>75%</th>\n",
       "      <td>9.399895e+07</td>\n",
       "    </tr>\n",
       "    <tr>\n",
       "      <th>max</th>\n",
       "      <td>9.899887e+11</td>\n",
       "    </tr>\n",
       "  </tbody>\n",
       "</table>\n",
       "</div>"
      ],
      "text/plain": [
       "       TotalCoinsMined\n",
       "count     7.440000e+02\n",
       "mean      3.883103e+09\n",
       "std       3.867263e+10\n",
       "min      -5.917978e+09\n",
       "25%       6.322164e+05\n",
       "50%       1.340427e+07\n",
       "75%       9.399895e+07\n",
       "max       9.899887e+11"
      ]
     },
     "execution_count": 4,
     "metadata": {},
     "output_type": "execute_result"
    }
   ],
   "source": [
    "df.describe()"
   ]
  },
  {
   "cell_type": "code",
   "execution_count": 5,
   "id": "5f392632",
   "metadata": {},
   "outputs": [
    {
     "name": "stdout",
     "output_type": "stream",
     "text": [
      "<class 'pandas.core.frame.DataFrame'>\n",
      "RangeIndex: 1252 entries, 0 to 1251\n",
      "Data columns (total 7 columns):\n",
      " #   Column           Non-Null Count  Dtype  \n",
      "---  ------           --------------  -----  \n",
      " 0   Unnamed: 0       1252 non-null   object \n",
      " 1   CoinName         1252 non-null   object \n",
      " 2   Algorithm        1252 non-null   object \n",
      " 3   IsTrading        1252 non-null   bool   \n",
      " 4   ProofType        1252 non-null   object \n",
      " 5   TotalCoinsMined  744 non-null    float64\n",
      " 6   TotalCoinSupply  1252 non-null   object \n",
      "dtypes: bool(1), float64(1), object(5)\n",
      "memory usage: 60.0+ KB\n"
     ]
    }
   ],
   "source": [
    "# break out the columns to identify any columns with null or blanlk entries\n",
    "df.info()"
   ]
  },
  {
   "cell_type": "code",
   "execution_count": 6,
   "id": "777485e8",
   "metadata": {},
   "outputs": [],
   "source": [
    "# total coin supply is not a number as it is listed as an object (string)"
   ]
  },
  {
   "cell_type": "code",
   "execution_count": 7,
   "id": "103ac560",
   "metadata": {},
   "outputs": [],
   "source": [
    "# pd.to_numeric(df.TotalCoinSupply)  unable to convert due to the spaces in the string at position 427"
   ]
  },
  {
   "cell_type": "code",
   "execution_count": 8,
   "id": "26f83a18",
   "metadata": {},
   "outputs": [
    {
     "name": "stdout",
     "output_type": "stream",
     "text": [
      "<class 'pandas.core.frame.DataFrame'>\n",
      "RangeIndex: 1144 entries, 0 to 1143\n",
      "Data columns (total 7 columns):\n",
      " #   Column           Non-Null Count  Dtype  \n",
      "---  ------           --------------  -----  \n",
      " 0   Unnamed: 0       1144 non-null   object \n",
      " 1   CoinName         1144 non-null   object \n",
      " 2   Algorithm        1144 non-null   object \n",
      " 3   IsTrading        1144 non-null   bool   \n",
      " 4   ProofType        1144 non-null   object \n",
      " 5   TotalCoinsMined  685 non-null    float64\n",
      " 6   TotalCoinSupply  1144 non-null   object \n",
      "dtypes: bool(1), float64(1), object(5)\n",
      "memory usage: 54.9+ KB\n"
     ]
    }
   ],
   "source": [
    "# drop coins that are not being traded. \n",
    "df_sub = df.copy()\n",
    "\n",
    "df_sub = df_sub.loc[df_sub.IsTrading == True].reset_index(drop=True)\n",
    "\n",
    "df_sub.info()"
   ]
  },
  {
   "cell_type": "code",
   "execution_count": 9,
   "id": "764929fc",
   "metadata": {},
   "outputs": [
    {
     "name": "stdout",
     "output_type": "stream",
     "text": [
      "<class 'pandas.core.frame.DataFrame'>\n",
      "RangeIndex: 685 entries, 0 to 684\n",
      "Data columns (total 7 columns):\n",
      " #   Column           Non-Null Count  Dtype  \n",
      "---  ------           --------------  -----  \n",
      " 0   Unnamed: 0       685 non-null    object \n",
      " 1   CoinName         685 non-null    object \n",
      " 2   Algorithm        685 non-null    object \n",
      " 3   IsTrading        685 non-null    bool   \n",
      " 4   ProofType        685 non-null    object \n",
      " 5   TotalCoinsMined  685 non-null    float64\n",
      " 6   TotalCoinSupply  685 non-null    object \n",
      "dtypes: bool(1), float64(1), object(5)\n",
      "memory usage: 32.9+ KB\n"
     ]
    }
   ],
   "source": [
    "df_sub = df_sub.dropna(how=\"any\").reset_index(drop=True)\n",
    "df_sub.info()"
   ]
  },
  {
   "cell_type": "code",
   "execution_count": 10,
   "id": "f2bc6f05",
   "metadata": {},
   "outputs": [
    {
     "data": {
      "text/html": [
       "<div>\n",
       "<style scoped>\n",
       "    .dataframe tbody tr th:only-of-type {\n",
       "        vertical-align: middle;\n",
       "    }\n",
       "\n",
       "    .dataframe tbody tr th {\n",
       "        vertical-align: top;\n",
       "    }\n",
       "\n",
       "    .dataframe thead th {\n",
       "        text-align: right;\n",
       "    }\n",
       "</style>\n",
       "<table border=\"1\" class=\"dataframe\">\n",
       "  <thead>\n",
       "    <tr style=\"text-align: right;\">\n",
       "      <th></th>\n",
       "      <th>Unnamed: 0</th>\n",
       "      <th>CoinName</th>\n",
       "      <th>Algorithm</th>\n",
       "      <th>IsTrading</th>\n",
       "      <th>ProofType</th>\n",
       "      <th>TotalCoinsMined</th>\n",
       "      <th>TotalCoinSupply</th>\n",
       "    </tr>\n",
       "  </thead>\n",
       "  <tbody>\n",
       "    <tr>\n",
       "      <th>667</th>\n",
       "      <td>FIII</td>\n",
       "      <td>Fiii</td>\n",
       "      <td>SHA3-256</td>\n",
       "      <td>True</td>\n",
       "      <td>DPoC</td>\n",
       "      <td>-5.917978e+09</td>\n",
       "      <td>5000000000</td>\n",
       "    </tr>\n",
       "    <tr>\n",
       "      <th>408</th>\n",
       "      <td>LBTC</td>\n",
       "      <td>LiteBitcoin</td>\n",
       "      <td>Scrypt</td>\n",
       "      <td>True</td>\n",
       "      <td>PoW</td>\n",
       "      <td>0.000000e+00</td>\n",
       "      <td>1000000000</td>\n",
       "    </tr>\n",
       "    <tr>\n",
       "      <th>101</th>\n",
       "      <td>RIPO</td>\n",
       "      <td>RipOffCoin</td>\n",
       "      <td>Scrypt</td>\n",
       "      <td>True</td>\n",
       "      <td>PoW</td>\n",
       "      <td>0.000000e+00</td>\n",
       "      <td>12000000</td>\n",
       "    </tr>\n",
       "    <tr>\n",
       "      <th>291</th>\n",
       "      <td>BASH</td>\n",
       "      <td>LuckChain</td>\n",
       "      <td>Scrypt</td>\n",
       "      <td>True</td>\n",
       "      <td>PoW/PoS</td>\n",
       "      <td>0.000000e+00</td>\n",
       "      <td>1000000000</td>\n",
       "    </tr>\n",
       "    <tr>\n",
       "      <th>287</th>\n",
       "      <td>CSH</td>\n",
       "      <td>CashOut</td>\n",
       "      <td>SHA-256</td>\n",
       "      <td>True</td>\n",
       "      <td>PoW</td>\n",
       "      <td>0.000000e+00</td>\n",
       "      <td>100000000</td>\n",
       "    </tr>\n",
       "    <tr>\n",
       "      <th>...</th>\n",
       "      <td>...</td>\n",
       "      <td>...</td>\n",
       "      <td>...</td>\n",
       "      <td>...</td>\n",
       "      <td>...</td>\n",
       "      <td>...</td>\n",
       "      <td>...</td>\n",
       "    </tr>\n",
       "    <tr>\n",
       "      <th>571</th>\n",
       "      <td>QWC</td>\n",
       "      <td>Qwertycoin</td>\n",
       "      <td>CryptoNight Heavy</td>\n",
       "      <td>True</td>\n",
       "      <td>PoW</td>\n",
       "      <td>9.955311e+10</td>\n",
       "      <td>184470000000</td>\n",
       "    </tr>\n",
       "    <tr>\n",
       "      <th>407</th>\n",
       "      <td>NYC</td>\n",
       "      <td>NewYorkCoin</td>\n",
       "      <td>Scrypt</td>\n",
       "      <td>True</td>\n",
       "      <td>PoW</td>\n",
       "      <td>1.430067e+11</td>\n",
       "      <td>0</td>\n",
       "    </tr>\n",
       "    <tr>\n",
       "      <th>395</th>\n",
       "      <td>GCN</td>\n",
       "      <td>gCn Coin</td>\n",
       "      <td>Scrypt</td>\n",
       "      <td>True</td>\n",
       "      <td>PoW</td>\n",
       "      <td>1.630551e+11</td>\n",
       "      <td>200000000000</td>\n",
       "    </tr>\n",
       "    <tr>\n",
       "      <th>136</th>\n",
       "      <td>BCN</td>\n",
       "      <td>ByteCoin</td>\n",
       "      <td>CryptoNight</td>\n",
       "      <td>True</td>\n",
       "      <td>PoW</td>\n",
       "      <td>1.840668e+11</td>\n",
       "      <td>184467440735</td>\n",
       "    </tr>\n",
       "    <tr>\n",
       "      <th>678</th>\n",
       "      <td>BTT</td>\n",
       "      <td>BitTorrent</td>\n",
       "      <td>TRC10</td>\n",
       "      <td>True</td>\n",
       "      <td>DPoS</td>\n",
       "      <td>9.899887e+11</td>\n",
       "      <td>990000000000</td>\n",
       "    </tr>\n",
       "  </tbody>\n",
       "</table>\n",
       "<p>685 rows × 7 columns</p>\n",
       "</div>"
      ],
      "text/plain": [
       "    Unnamed: 0     CoinName          Algorithm  IsTrading ProofType  \\\n",
       "667       FIII         Fiii           SHA3-256       True      DPoC   \n",
       "408       LBTC  LiteBitcoin             Scrypt       True       PoW   \n",
       "101       RIPO   RipOffCoin             Scrypt       True       PoW   \n",
       "291       BASH    LuckChain             Scrypt       True   PoW/PoS   \n",
       "287        CSH      CashOut            SHA-256       True       PoW   \n",
       "..         ...          ...                ...        ...       ...   \n",
       "571        QWC   Qwertycoin  CryptoNight Heavy       True       PoW   \n",
       "407        NYC  NewYorkCoin             Scrypt       True       PoW   \n",
       "395        GCN     gCn Coin             Scrypt       True       PoW   \n",
       "136        BCN     ByteCoin        CryptoNight       True       PoW   \n",
       "678        BTT   BitTorrent              TRC10       True      DPoS   \n",
       "\n",
       "     TotalCoinsMined TotalCoinSupply  \n",
       "667    -5.917978e+09      5000000000  \n",
       "408     0.000000e+00      1000000000  \n",
       "101     0.000000e+00        12000000  \n",
       "291     0.000000e+00      1000000000  \n",
       "287     0.000000e+00       100000000  \n",
       "..               ...             ...  \n",
       "571     9.955311e+10    184470000000  \n",
       "407     1.430067e+11               0  \n",
       "395     1.630551e+11    200000000000  \n",
       "136     1.840668e+11    184467440735  \n",
       "678     9.899887e+11    990000000000  \n",
       "\n",
       "[685 rows x 7 columns]"
      ]
     },
     "execution_count": 10,
     "metadata": {},
     "output_type": "execute_result"
    }
   ],
   "source": [
    "df_sub.sort_values(by=\"TotalCoinsMined\")"
   ]
  },
  {
   "cell_type": "code",
   "execution_count": 11,
   "id": "3326caae",
   "metadata": {},
   "outputs": [
    {
     "name": "stdout",
     "output_type": "stream",
     "text": [
      "<class 'pandas.core.frame.DataFrame'>\n",
      "RangeIndex: 532 entries, 0 to 531\n",
      "Data columns (total 7 columns):\n",
      " #   Column           Non-Null Count  Dtype  \n",
      "---  ------           --------------  -----  \n",
      " 0   Unnamed: 0       532 non-null    object \n",
      " 1   CoinName         532 non-null    object \n",
      " 2   Algorithm        532 non-null    object \n",
      " 3   IsTrading        532 non-null    bool   \n",
      " 4   ProofType        532 non-null    object \n",
      " 5   TotalCoinsMined  532 non-null    float64\n",
      " 6   TotalCoinSupply  532 non-null    object \n",
      "dtypes: bool(1), float64(1), object(5)\n",
      "memory usage: 25.6+ KB\n"
     ]
    }
   ],
   "source": [
    "# drop all coins that have none mined \n",
    "mask = df_sub.TotalCoinsMined > 0\n",
    "df_sub = df_sub.loc[mask].reset_index(drop=True)\n",
    "df_sub.info()"
   ]
  },
  {
   "cell_type": "code",
   "execution_count": 12,
   "id": "1792ff6c",
   "metadata": {},
   "outputs": [
    {
     "name": "stdout",
     "output_type": "stream",
     "text": [
      "<class 'pandas.core.frame.DataFrame'>\n",
      "RangeIndex: 532 entries, 0 to 531\n",
      "Data columns (total 7 columns):\n",
      " #   Column           Non-Null Count  Dtype  \n",
      "---  ------           --------------  -----  \n",
      " 0   Unnamed: 0       532 non-null    object \n",
      " 1   CoinName         532 non-null    object \n",
      " 2   Algorithm        532 non-null    object \n",
      " 3   IsTrading        532 non-null    bool   \n",
      " 4   ProofType        532 non-null    object \n",
      " 5   TotalCoinsMined  532 non-null    float64\n",
      " 6   TotalCoinSupply  532 non-null    float64\n",
      "dtypes: bool(1), float64(2), object(4)\n",
      "memory usage: 25.6+ KB\n"
     ]
    }
   ],
   "source": [
    "# total coin supply converted from an object to a float. \n",
    "df_sub[\"TotalCoinSupply\"] = pd.to_numeric(df_sub.TotalCoinSupply)\n",
    "df_sub.info()"
   ]
  },
  {
   "cell_type": "code",
   "execution_count": 13,
   "id": "b70dad6b",
   "metadata": {},
   "outputs": [
    {
     "data": {
      "text/plain": [
       "['PoW',\n",
       " 'PoW/PoS',\n",
       " 'PoS',\n",
       " 'DPoS',\n",
       " 'PoC',\n",
       " 'PoS/PoW',\n",
       " 'PoW/nPoS',\n",
       " 'Pos',\n",
       " 'LPoS',\n",
       " 'Zero-Knowledge Proof',\n",
       " 'POBh',\n",
       " 'PoS/LPoS',\n",
       " 'PoW/PoW',\n",
       " 'PoA',\n",
       " 'Proof of Trust',\n",
       " 'Proof of Authority',\n",
       " 'PoW + Hive',\n",
       " 'PoW and PoS',\n",
       " 'DPOS',\n",
       " 'TPoS',\n",
       " 'PoW/PoS ',\n",
       " 'dPoW/PoW',\n",
       " 'PoST',\n",
       " 'PoS/PoW/PoT',\n",
       " 'HPoW']"
      ]
     },
     "execution_count": 13,
     "metadata": {},
     "output_type": "execute_result"
    }
   ],
   "source": [
    "# look for x within x and list out the value labels in order to get consistency among the various \"proof\" types \n",
    "[x for x in df_sub.ProofType.value_counts().index]"
   ]
  },
  {
   "cell_type": "code",
   "execution_count": 14,
   "id": "01d680de",
   "metadata": {},
   "outputs": [],
   "source": [
    "# rename the duplicates into one label type. \n",
    "df_sub.loc[df_sub.ProofType == \"PoW/PoS \", \"ProofType\"] = \"PoW/PoS\"\n",
    "df_sub.loc[df_sub.ProofType == \"Pos\", \"ProofType\"] = \"PoS\"\n",
    "df_sub.loc[df_sub.ProofType == \"Proof of Authority\", \"ProofType\"] = \"PoA\"\n",
    "df_sub.loc[df_sub.ProofType == \"PoW and PoS\", \"ProofType\"] = \"PoW/PoS\"\n",
    "df_sub.loc[df_sub.ProofType == \"Proof of Trust\", \"ProofType\"] = \"PoT\""
   ]
  },
  {
   "cell_type": "code",
   "execution_count": 15,
   "id": "beb05555",
   "metadata": {},
   "outputs": [
    {
     "data": {
      "text/plain": [
       "['PoW',\n",
       " 'PoW/PoS',\n",
       " 'PoS',\n",
       " 'DPoS',\n",
       " 'PoC',\n",
       " 'PoS/PoW',\n",
       " 'PoA',\n",
       " 'POBh',\n",
       " 'PoT',\n",
       " 'PoW/nPoS',\n",
       " 'LPoS',\n",
       " 'Zero-Knowledge Proof',\n",
       " 'PoS/LPoS',\n",
       " 'PoW/PoW',\n",
       " 'PoW + Hive',\n",
       " 'DPOS',\n",
       " 'TPoS',\n",
       " 'dPoW/PoW',\n",
       " 'PoST',\n",
       " 'PoS/PoW/PoT',\n",
       " 'HPoW']"
      ]
     },
     "execution_count": 15,
     "metadata": {},
     "output_type": "execute_result"
    }
   ],
   "source": [
    "# duplicated values have been relabled in order to clean up the data  \n",
    "[x for x in df_sub.ProofType.value_counts().index]"
   ]
  },
  {
   "cell_type": "code",
   "execution_count": null,
   "id": "6d35d8f1",
   "metadata": {},
   "outputs": [],
   "source": []
  },
  {
   "cell_type": "code",
   "execution_count": 16,
   "id": "f02cdbd8",
   "metadata": {},
   "outputs": [
    {
     "data": {
      "text/html": [
       "<div>\n",
       "<style scoped>\n",
       "    .dataframe tbody tr th:only-of-type {\n",
       "        vertical-align: middle;\n",
       "    }\n",
       "\n",
       "    .dataframe tbody tr th {\n",
       "        vertical-align: top;\n",
       "    }\n",
       "\n",
       "    .dataframe thead th {\n",
       "        text-align: right;\n",
       "    }\n",
       "</style>\n",
       "<table border=\"1\" class=\"dataframe\">\n",
       "  <thead>\n",
       "    <tr style=\"text-align: right;\">\n",
       "      <th></th>\n",
       "      <th>Algorithm</th>\n",
       "      <th>ProofType</th>\n",
       "      <th>TotalCoinsMined</th>\n",
       "      <th>TotalCoinSupply</th>\n",
       "    </tr>\n",
       "  </thead>\n",
       "  <tbody>\n",
       "    <tr>\n",
       "      <th>0</th>\n",
       "      <td>Scrypt</td>\n",
       "      <td>PoW/PoS</td>\n",
       "      <td>4.199995e+01</td>\n",
       "      <td>4.200000e+01</td>\n",
       "    </tr>\n",
       "    <tr>\n",
       "      <th>1</th>\n",
       "      <td>Scrypt</td>\n",
       "      <td>PoW/PoS</td>\n",
       "      <td>1.055185e+09</td>\n",
       "      <td>5.320000e+08</td>\n",
       "    </tr>\n",
       "    <tr>\n",
       "      <th>2</th>\n",
       "      <td>X13</td>\n",
       "      <td>PoW/PoS</td>\n",
       "      <td>2.927942e+10</td>\n",
       "      <td>3.141593e+11</td>\n",
       "    </tr>\n",
       "    <tr>\n",
       "      <th>3</th>\n",
       "      <td>SHA-256</td>\n",
       "      <td>PoW</td>\n",
       "      <td>1.792718e+07</td>\n",
       "      <td>2.100000e+07</td>\n",
       "    </tr>\n",
       "    <tr>\n",
       "      <th>4</th>\n",
       "      <td>Ethash</td>\n",
       "      <td>PoW</td>\n",
       "      <td>1.076842e+08</td>\n",
       "      <td>0.000000e+00</td>\n",
       "    </tr>\n",
       "  </tbody>\n",
       "</table>\n",
       "</div>"
      ],
      "text/plain": [
       "  Algorithm ProofType  TotalCoinsMined  TotalCoinSupply\n",
       "0    Scrypt   PoW/PoS     4.199995e+01     4.200000e+01\n",
       "1    Scrypt   PoW/PoS     1.055185e+09     5.320000e+08\n",
       "2       X13   PoW/PoS     2.927942e+10     3.141593e+11\n",
       "3   SHA-256       PoW     1.792718e+07     2.100000e+07\n",
       "4    Ethash       PoW     1.076842e+08     0.000000e+00"
      ]
     },
     "execution_count": 16,
     "metadata": {},
     "output_type": "execute_result"
    }
   ],
   "source": [
    "coin_sub = df_sub.CoinName\n",
    "\n",
    "df_sub.drop([\"Unnamed: 0\", \"CoinName\", \"IsTrading\"], axis=1, inplace=True)\n",
    "df_sub.head()"
   ]
  },
  {
   "cell_type": "code",
   "execution_count": 17,
   "id": "de8c19d4",
   "metadata": {},
   "outputs": [
    {
     "data": {
      "text/html": [
       "<div>\n",
       "<style scoped>\n",
       "    .dataframe tbody tr th:only-of-type {\n",
       "        vertical-align: middle;\n",
       "    }\n",
       "\n",
       "    .dataframe tbody tr th {\n",
       "        vertical-align: top;\n",
       "    }\n",
       "\n",
       "    .dataframe thead th {\n",
       "        text-align: right;\n",
       "    }\n",
       "</style>\n",
       "<table border=\"1\" class=\"dataframe\">\n",
       "  <thead>\n",
       "    <tr style=\"text-align: right;\">\n",
       "      <th></th>\n",
       "      <th>TotalCoinsMined</th>\n",
       "      <th>TotalCoinSupply</th>\n",
       "      <th>Algorithm_1GB AES Pattern Search</th>\n",
       "      <th>Algorithm_536</th>\n",
       "      <th>Algorithm_Argon2d</th>\n",
       "      <th>Algorithm_BLAKE256</th>\n",
       "      <th>Algorithm_Blake</th>\n",
       "      <th>Algorithm_Blake2S</th>\n",
       "      <th>Algorithm_Blake2b</th>\n",
       "      <th>Algorithm_C11</th>\n",
       "      <th>...</th>\n",
       "      <th>ProofType_PoST</th>\n",
       "      <th>ProofType_PoT</th>\n",
       "      <th>ProofType_PoW</th>\n",
       "      <th>ProofType_PoW + Hive</th>\n",
       "      <th>ProofType_PoW/PoS</th>\n",
       "      <th>ProofType_PoW/PoW</th>\n",
       "      <th>ProofType_PoW/nPoS</th>\n",
       "      <th>ProofType_TPoS</th>\n",
       "      <th>ProofType_Zero-Knowledge Proof</th>\n",
       "      <th>ProofType_dPoW/PoW</th>\n",
       "    </tr>\n",
       "  </thead>\n",
       "  <tbody>\n",
       "    <tr>\n",
       "      <th>0</th>\n",
       "      <td>4.199995e+01</td>\n",
       "      <td>4.200000e+01</td>\n",
       "      <td>0</td>\n",
       "      <td>0</td>\n",
       "      <td>0</td>\n",
       "      <td>0</td>\n",
       "      <td>0</td>\n",
       "      <td>0</td>\n",
       "      <td>0</td>\n",
       "      <td>0</td>\n",
       "      <td>...</td>\n",
       "      <td>0</td>\n",
       "      <td>0</td>\n",
       "      <td>0</td>\n",
       "      <td>0</td>\n",
       "      <td>1</td>\n",
       "      <td>0</td>\n",
       "      <td>0</td>\n",
       "      <td>0</td>\n",
       "      <td>0</td>\n",
       "      <td>0</td>\n",
       "    </tr>\n",
       "    <tr>\n",
       "      <th>1</th>\n",
       "      <td>1.055185e+09</td>\n",
       "      <td>5.320000e+08</td>\n",
       "      <td>0</td>\n",
       "      <td>0</td>\n",
       "      <td>0</td>\n",
       "      <td>0</td>\n",
       "      <td>0</td>\n",
       "      <td>0</td>\n",
       "      <td>0</td>\n",
       "      <td>0</td>\n",
       "      <td>...</td>\n",
       "      <td>0</td>\n",
       "      <td>0</td>\n",
       "      <td>0</td>\n",
       "      <td>0</td>\n",
       "      <td>1</td>\n",
       "      <td>0</td>\n",
       "      <td>0</td>\n",
       "      <td>0</td>\n",
       "      <td>0</td>\n",
       "      <td>0</td>\n",
       "    </tr>\n",
       "    <tr>\n",
       "      <th>2</th>\n",
       "      <td>2.927942e+10</td>\n",
       "      <td>3.141593e+11</td>\n",
       "      <td>0</td>\n",
       "      <td>0</td>\n",
       "      <td>0</td>\n",
       "      <td>0</td>\n",
       "      <td>0</td>\n",
       "      <td>0</td>\n",
       "      <td>0</td>\n",
       "      <td>0</td>\n",
       "      <td>...</td>\n",
       "      <td>0</td>\n",
       "      <td>0</td>\n",
       "      <td>0</td>\n",
       "      <td>0</td>\n",
       "      <td>1</td>\n",
       "      <td>0</td>\n",
       "      <td>0</td>\n",
       "      <td>0</td>\n",
       "      <td>0</td>\n",
       "      <td>0</td>\n",
       "    </tr>\n",
       "    <tr>\n",
       "      <th>3</th>\n",
       "      <td>1.792718e+07</td>\n",
       "      <td>2.100000e+07</td>\n",
       "      <td>0</td>\n",
       "      <td>0</td>\n",
       "      <td>0</td>\n",
       "      <td>0</td>\n",
       "      <td>0</td>\n",
       "      <td>0</td>\n",
       "      <td>0</td>\n",
       "      <td>0</td>\n",
       "      <td>...</td>\n",
       "      <td>0</td>\n",
       "      <td>0</td>\n",
       "      <td>1</td>\n",
       "      <td>0</td>\n",
       "      <td>0</td>\n",
       "      <td>0</td>\n",
       "      <td>0</td>\n",
       "      <td>0</td>\n",
       "      <td>0</td>\n",
       "      <td>0</td>\n",
       "    </tr>\n",
       "    <tr>\n",
       "      <th>4</th>\n",
       "      <td>1.076842e+08</td>\n",
       "      <td>0.000000e+00</td>\n",
       "      <td>0</td>\n",
       "      <td>0</td>\n",
       "      <td>0</td>\n",
       "      <td>0</td>\n",
       "      <td>0</td>\n",
       "      <td>0</td>\n",
       "      <td>0</td>\n",
       "      <td>0</td>\n",
       "      <td>...</td>\n",
       "      <td>0</td>\n",
       "      <td>0</td>\n",
       "      <td>1</td>\n",
       "      <td>0</td>\n",
       "      <td>0</td>\n",
       "      <td>0</td>\n",
       "      <td>0</td>\n",
       "      <td>0</td>\n",
       "      <td>0</td>\n",
       "      <td>0</td>\n",
       "    </tr>\n",
       "  </tbody>\n",
       "</table>\n",
       "<p>5 rows × 94 columns</p>\n",
       "</div>"
      ],
      "text/plain": [
       "   TotalCoinsMined  TotalCoinSupply  Algorithm_1GB AES Pattern Search  \\\n",
       "0     4.199995e+01     4.200000e+01                                 0   \n",
       "1     1.055185e+09     5.320000e+08                                 0   \n",
       "2     2.927942e+10     3.141593e+11                                 0   \n",
       "3     1.792718e+07     2.100000e+07                                 0   \n",
       "4     1.076842e+08     0.000000e+00                                 0   \n",
       "\n",
       "   Algorithm_536  Algorithm_Argon2d  Algorithm_BLAKE256  Algorithm_Blake  \\\n",
       "0              0                  0                   0                0   \n",
       "1              0                  0                   0                0   \n",
       "2              0                  0                   0                0   \n",
       "3              0                  0                   0                0   \n",
       "4              0                  0                   0                0   \n",
       "\n",
       "   Algorithm_Blake2S  Algorithm_Blake2b  Algorithm_C11  ...  ProofType_PoST  \\\n",
       "0                  0                  0              0  ...               0   \n",
       "1                  0                  0              0  ...               0   \n",
       "2                  0                  0              0  ...               0   \n",
       "3                  0                  0              0  ...               0   \n",
       "4                  0                  0              0  ...               0   \n",
       "\n",
       "   ProofType_PoT  ProofType_PoW  ProofType_PoW + Hive  ProofType_PoW/PoS  \\\n",
       "0              0              0                     0                  1   \n",
       "1              0              0                     0                  1   \n",
       "2              0              0                     0                  1   \n",
       "3              0              1                     0                  0   \n",
       "4              0              1                     0                  0   \n",
       "\n",
       "   ProofType_PoW/PoW  ProofType_PoW/nPoS  ProofType_TPoS  \\\n",
       "0                  0                   0               0   \n",
       "1                  0                   0               0   \n",
       "2                  0                   0               0   \n",
       "3                  0                   0               0   \n",
       "4                  0                   0               0   \n",
       "\n",
       "   ProofType_Zero-Knowledge Proof  ProofType_dPoW/PoW  \n",
       "0                               0                   0  \n",
       "1                               0                   0  \n",
       "2                               0                   0  \n",
       "3                               0                   0  \n",
       "4                               0                   0  \n",
       "\n",
       "[5 rows x 94 columns]"
      ]
     },
     "execution_count": 17,
     "metadata": {},
     "output_type": "execute_result"
    }
   ],
   "source": [
    "# one hot encoding the algorithm and ProofType columns per the homework instructions (dummy variable)\n",
    "df2_sub = pd.get_dummies(df_sub)\n",
    "df2_sub.head()"
   ]
  },
  {
   "cell_type": "markdown",
   "id": "d151f099",
   "metadata": {},
   "source": [
    "now look at dimensionality reduction and do not one hot encoding the columns that are already encoded.  \n",
    "- standard scaler python for guidance on encoding part of the data set "
   ]
  },
  {
   "cell_type": "code",
   "execution_count": 18,
   "id": "e0700d83",
   "metadata": {},
   "outputs": [],
   "source": [
    "from sklearn.preprocessing import StandardScaler"
   ]
  },
  {
   "cell_type": "code",
   "execution_count": 19,
   "id": "4084e910",
   "metadata": {},
   "outputs": [],
   "source": [
    "# transform coins mined and coin supply as they are the only columns that are not zeros and 1s (due to the get dummmies \n",
    "# transformation.  not clear as to why we would scale all of the columns)\n",
    "scaler = StandardScaler()\n",
    "scaler = scaler.fit(df2_sub.loc[:, [\"TotalCoinsMined\", \"TotalCoinSupply\"]])"
   ]
  },
  {
   "cell_type": "code",
   "execution_count": 20,
   "id": "2100fb3c",
   "metadata": {},
   "outputs": [
    {
     "data": {
      "text/html": [
       "<div>\n",
       "<style scoped>\n",
       "    .dataframe tbody tr th:only-of-type {\n",
       "        vertical-align: middle;\n",
       "    }\n",
       "\n",
       "    .dataframe tbody tr th {\n",
       "        vertical-align: top;\n",
       "    }\n",
       "\n",
       "    .dataframe thead th {\n",
       "        text-align: right;\n",
       "    }\n",
       "</style>\n",
       "<table border=\"1\" class=\"dataframe\">\n",
       "  <thead>\n",
       "    <tr style=\"text-align: right;\">\n",
       "      <th></th>\n",
       "      <th>TotalCoinsMined</th>\n",
       "      <th>TotalCoinSupply</th>\n",
       "      <th>Algorithm_1GB AES Pattern Search</th>\n",
       "      <th>Algorithm_536</th>\n",
       "      <th>Algorithm_Argon2d</th>\n",
       "      <th>Algorithm_BLAKE256</th>\n",
       "      <th>Algorithm_Blake</th>\n",
       "      <th>Algorithm_Blake2S</th>\n",
       "      <th>Algorithm_Blake2b</th>\n",
       "      <th>Algorithm_C11</th>\n",
       "      <th>...</th>\n",
       "      <th>ProofType_PoST</th>\n",
       "      <th>ProofType_PoT</th>\n",
       "      <th>ProofType_PoW</th>\n",
       "      <th>ProofType_PoW + Hive</th>\n",
       "      <th>ProofType_PoW/PoS</th>\n",
       "      <th>ProofType_PoW/PoW</th>\n",
       "      <th>ProofType_PoW/nPoS</th>\n",
       "      <th>ProofType_TPoS</th>\n",
       "      <th>ProofType_Zero-Knowledge Proof</th>\n",
       "      <th>ProofType_dPoW/PoW</th>\n",
       "    </tr>\n",
       "  </thead>\n",
       "  <tbody>\n",
       "    <tr>\n",
       "      <th>0</th>\n",
       "      <td>-0.117108</td>\n",
       "      <td>-0.152870</td>\n",
       "      <td>0</td>\n",
       "      <td>0</td>\n",
       "      <td>0</td>\n",
       "      <td>0</td>\n",
       "      <td>0</td>\n",
       "      <td>0</td>\n",
       "      <td>0</td>\n",
       "      <td>0</td>\n",
       "      <td>...</td>\n",
       "      <td>0</td>\n",
       "      <td>0</td>\n",
       "      <td>0</td>\n",
       "      <td>0</td>\n",
       "      <td>1</td>\n",
       "      <td>0</td>\n",
       "      <td>0</td>\n",
       "      <td>0</td>\n",
       "      <td>0</td>\n",
       "      <td>0</td>\n",
       "    </tr>\n",
       "    <tr>\n",
       "      <th>1</th>\n",
       "      <td>-0.093970</td>\n",
       "      <td>-0.145009</td>\n",
       "      <td>0</td>\n",
       "      <td>0</td>\n",
       "      <td>0</td>\n",
       "      <td>0</td>\n",
       "      <td>0</td>\n",
       "      <td>0</td>\n",
       "      <td>0</td>\n",
       "      <td>0</td>\n",
       "      <td>...</td>\n",
       "      <td>0</td>\n",
       "      <td>0</td>\n",
       "      <td>0</td>\n",
       "      <td>0</td>\n",
       "      <td>1</td>\n",
       "      <td>0</td>\n",
       "      <td>0</td>\n",
       "      <td>0</td>\n",
       "      <td>0</td>\n",
       "      <td>0</td>\n",
       "    </tr>\n",
       "    <tr>\n",
       "      <th>2</th>\n",
       "      <td>0.524946</td>\n",
       "      <td>4.489424</td>\n",
       "      <td>0</td>\n",
       "      <td>0</td>\n",
       "      <td>0</td>\n",
       "      <td>0</td>\n",
       "      <td>0</td>\n",
       "      <td>0</td>\n",
       "      <td>0</td>\n",
       "      <td>0</td>\n",
       "      <td>...</td>\n",
       "      <td>0</td>\n",
       "      <td>0</td>\n",
       "      <td>0</td>\n",
       "      <td>0</td>\n",
       "      <td>1</td>\n",
       "      <td>0</td>\n",
       "      <td>0</td>\n",
       "      <td>0</td>\n",
       "      <td>0</td>\n",
       "      <td>0</td>\n",
       "    </tr>\n",
       "    <tr>\n",
       "      <th>3</th>\n",
       "      <td>-0.116715</td>\n",
       "      <td>-0.152560</td>\n",
       "      <td>0</td>\n",
       "      <td>0</td>\n",
       "      <td>0</td>\n",
       "      <td>0</td>\n",
       "      <td>0</td>\n",
       "      <td>0</td>\n",
       "      <td>0</td>\n",
       "      <td>0</td>\n",
       "      <td>...</td>\n",
       "      <td>0</td>\n",
       "      <td>0</td>\n",
       "      <td>1</td>\n",
       "      <td>0</td>\n",
       "      <td>0</td>\n",
       "      <td>0</td>\n",
       "      <td>0</td>\n",
       "      <td>0</td>\n",
       "      <td>0</td>\n",
       "      <td>0</td>\n",
       "    </tr>\n",
       "    <tr>\n",
       "      <th>4</th>\n",
       "      <td>-0.114747</td>\n",
       "      <td>-0.152870</td>\n",
       "      <td>0</td>\n",
       "      <td>0</td>\n",
       "      <td>0</td>\n",
       "      <td>0</td>\n",
       "      <td>0</td>\n",
       "      <td>0</td>\n",
       "      <td>0</td>\n",
       "      <td>0</td>\n",
       "      <td>...</td>\n",
       "      <td>0</td>\n",
       "      <td>0</td>\n",
       "      <td>1</td>\n",
       "      <td>0</td>\n",
       "      <td>0</td>\n",
       "      <td>0</td>\n",
       "      <td>0</td>\n",
       "      <td>0</td>\n",
       "      <td>0</td>\n",
       "      <td>0</td>\n",
       "    </tr>\n",
       "  </tbody>\n",
       "</table>\n",
       "<p>5 rows × 94 columns</p>\n",
       "</div>"
      ],
      "text/plain": [
       "   TotalCoinsMined  TotalCoinSupply  Algorithm_1GB AES Pattern Search  \\\n",
       "0        -0.117108        -0.152870                                 0   \n",
       "1        -0.093970        -0.145009                                 0   \n",
       "2         0.524946         4.489424                                 0   \n",
       "3        -0.116715        -0.152560                                 0   \n",
       "4        -0.114747        -0.152870                                 0   \n",
       "\n",
       "   Algorithm_536  Algorithm_Argon2d  Algorithm_BLAKE256  Algorithm_Blake  \\\n",
       "0              0                  0                   0                0   \n",
       "1              0                  0                   0                0   \n",
       "2              0                  0                   0                0   \n",
       "3              0                  0                   0                0   \n",
       "4              0                  0                   0                0   \n",
       "\n",
       "   Algorithm_Blake2S  Algorithm_Blake2b  Algorithm_C11  ...  ProofType_PoST  \\\n",
       "0                  0                  0              0  ...               0   \n",
       "1                  0                  0              0  ...               0   \n",
       "2                  0                  0              0  ...               0   \n",
       "3                  0                  0              0  ...               0   \n",
       "4                  0                  0              0  ...               0   \n",
       "\n",
       "   ProofType_PoT  ProofType_PoW  ProofType_PoW + Hive  ProofType_PoW/PoS  \\\n",
       "0              0              0                     0                  1   \n",
       "1              0              0                     0                  1   \n",
       "2              0              0                     0                  1   \n",
       "3              0              1                     0                  0   \n",
       "4              0              1                     0                  0   \n",
       "\n",
       "   ProofType_PoW/PoW  ProofType_PoW/nPoS  ProofType_TPoS  \\\n",
       "0                  0                   0               0   \n",
       "1                  0                   0               0   \n",
       "2                  0                   0               0   \n",
       "3                  0                   0               0   \n",
       "4                  0                   0               0   \n",
       "\n",
       "   ProofType_Zero-Knowledge Proof  ProofType_dPoW/PoW  \n",
       "0                               0                   0  \n",
       "1                               0                   0  \n",
       "2                               0                   0  \n",
       "3                               0                   0  \n",
       "4                               0                   0  \n",
       "\n",
       "[5 rows x 94 columns]"
      ]
     },
     "execution_count": 20,
     "metadata": {},
     "output_type": "execute_result"
    }
   ],
   "source": [
    "# total coins mined and supply have been scaled down to manageble sizes for the visuals.\n",
    "df3_sub = df2_sub.copy()\n",
    "\n",
    "df3_sub.loc[:,[\"TotalCoinsMined\", \"TotalCoinSupply\"]] = scaler.transform(df2_sub.loc[:, [\"TotalCoinsMined\", \"TotalCoinSupply\"]])\n",
    "df3_sub.head()"
   ]
  },
  {
   "cell_type": "code",
   "execution_count": 21,
   "id": "040ddf93",
   "metadata": {},
   "outputs": [],
   "source": [
    "from sklearn.manifold import TSNE"
   ]
  },
  {
   "cell_type": "code",
   "execution_count": 22,
   "id": "a7cbf45e",
   "metadata": {},
   "outputs": [
    {
     "data": {
      "text/plain": [
       "(532, 2)"
      ]
     },
     "execution_count": 22,
     "metadata": {},
     "output_type": "execute_result"
    }
   ],
   "source": [
    "tsne = TSNE(learning_rate=35)\n",
    "# Reduce dimensions\n",
    "tsne_features = tsne.fit_transform(df3_sub)\n",
    "tsne_features.shape"
   ]
  },
  {
   "cell_type": "code",
   "execution_count": 23,
   "id": "cbc12f16",
   "metadata": {},
   "outputs": [
    {
     "data": {
      "image/png": "[encoded data removed]",
      "text/plain": [
       "<Figure size 432x288 with 1 Axes>"
      ]
     },
     "metadata": {
      "needs_background": "light"
     },
     "output_type": "display_data"
    }
   ],
   "source": [
    " # slap it on a chart \n",
    "plt.scatter(tsne_features[:,0], tsne_features[:,1])\n",
    "plt.show()"
   ]
  },
  {
   "cell_type": "markdown",
   "id": "e375d729",
   "metadata": {},
   "source": [
    "# Implement the PCA (principal component analysis) section "
   ]
  },
  {
   "cell_type": "code",
   "execution_count": 24,
   "id": "701fa56e",
   "metadata": {},
   "outputs": [],
   "source": [
    "from sklearn.decomposition import PCA"
   ]
  },
  {
   "cell_type": "code",
   "execution_count": 25,
   "id": "a3bb94d8",
   "metadata": {},
   "outputs": [
    {
     "name": "stdout",
     "output_type": "stream",
     "text": [
      "[4.86144130e-01 1.12847212e-01 8.45960792e-02 7.32508093e-02\n",
      " 5.77306595e-02 3.17660063e-02 1.97031162e-02 9.52271975e-03\n",
      " 8.92066253e-03 8.21403709e-03 7.70118235e-03 6.28819177e-03\n",
      " 5.84877136e-03 5.28749132e-03 4.91337373e-03 4.80729200e-03\n",
      " 3.99735722e-03 3.58612184e-03 3.08181848e-03 2.57597086e-03\n",
      " 2.14115526e-03 2.14115526e-03 2.14114718e-03 2.14049574e-03\n",
      " 2.12771942e-03 2.04914070e-03 1.84226967e-03 1.74607547e-03\n",
      " 1.70605685e-03 1.60585516e-03 1.60125900e-03 1.52901629e-03\n",
      " 1.47672963e-03 1.36767814e-03 1.26603922e-03 1.07747272e-03\n",
      " 1.07057763e-03 1.07057763e-03 1.07057763e-03 1.07057763e-03\n",
      " 1.07057763e-03 1.06898100e-03 1.06334477e-03 1.05790525e-03\n",
      " 1.02509486e-03 9.85277904e-04 7.99635191e-04 7.04929971e-04\n",
      " 5.35288814e-04 5.35288814e-04 5.35288814e-04 5.35288814e-04\n",
      " 5.35288814e-04 5.35288814e-04 5.35288814e-04 5.35288814e-04\n",
      " 5.35288814e-04 5.35288814e-04 5.35288814e-04 5.35288814e-04\n",
      " 5.35288814e-04 5.35288814e-04 5.35288814e-04 5.35288814e-04\n",
      " 5.35288814e-04 5.35288814e-04 5.35288814e-04 5.35288814e-04\n",
      " 5.35288814e-04 5.35288814e-04 5.35288814e-04 5.35288814e-04\n",
      " 5.35288814e-04 5.35288814e-04 5.35288814e-04 5.35288814e-04\n",
      " 5.34605597e-04 5.21392327e-04 5.17054371e-04 5.06909805e-04\n",
      " 4.90621330e-04 4.67458692e-04 3.23589751e-04 3.11159448e-04\n",
      " 2.76757307e-04 2.09423542e-04 5.26154807e-05 9.58750246e-32\n",
      " 9.99954105e-34 3.80439887e-35 2.14776525e-35 5.36396213e-36\n",
      " 2.28501271e-36 2.45965777e-37]\n",
      "1.0\n"
     ]
    }
   ],
   "source": [
    "pca = PCA()\n",
    "pca.fit(df3_sub)\n",
    "print(pca.explained_variance_ratio_)\n",
    "print(np.sum(pca.explained_variance_ratio_))"
   ]
  },
  {
   "cell_type": "code",
   "execution_count": 26,
   "id": "6d77ee4c",
   "metadata": {},
   "outputs": [
    {
     "data": {
      "image/png": "[encoded data removed]",
      "text/plain": [
       "<Figure size 432x288 with 1 Axes>"
      ]
     },
     "metadata": {
      "needs_background": "light"
     },
     "output_type": "display_data"
    }
   ],
   "source": [
    "# the numbers above dont really tell the story, we will place into a visual to help it be more understandable \n",
    "plt.plot(range(len(pca.explained_variance_ratio_)), pca.explained_variance_ratio_)\n",
    "plt.show()"
   ]
  },
  {
   "cell_type": "code",
   "execution_count": 27,
   "id": "5e6b5598",
   "metadata": {},
   "outputs": [
    {
     "data": {
      "image/png": "[encoded data removed]",
      "text/plain": [
       "<Figure size 432x288 with 1 Axes>"
      ]
     },
     "metadata": {
      "needs_background": "light"
     },
     "output_type": "display_data"
    }
   ],
   "source": [
    "# reduce range as the above elbow curve is hard to see where it starts to flatten \n",
    "plt.plot(range(10), pca.explained_variance_ratio_[0:10])\n",
    "plt.show()"
   ]
  },
  {
   "cell_type": "code",
   "execution_count": 28,
   "id": "7c020beb",
   "metadata": {},
   "outputs": [
    {
     "data": {
      "text/plain": [
       "array([0.48614413, 0.11284721, 0.08459608, 0.07325081, 0.05773066,\n",
       "       0.03176601, 0.01970312, 0.00952272, 0.00892066, 0.00821404])"
      ]
     },
     "execution_count": 28,
     "metadata": {},
     "output_type": "execute_result"
    }
   ],
   "source": [
    "# the first 10 components gives us an idea of what impact the PCAs have, this wil help to identify how \n",
    "# many components are needed.  \n",
    "pca.explained_variance_ratio_[0:10]"
   ]
  },
  {
   "cell_type": "code",
   "execution_count": 29,
   "id": "e6ea3eca",
   "metadata": {},
   "outputs": [
    {
     "data": {
      "text/plain": [
       "0.8755607322142902"
      ]
     },
     "execution_count": 29,
     "metadata": {},
     "output_type": "execute_result"
    }
   ],
   "source": [
    "# with 8 of the PCAs\n",
    "np.sum(pca.explained_variance_ratio_[0:8])"
   ]
  },
  {
   "cell_type": "code",
   "execution_count": 30,
   "id": "1d678434",
   "metadata": {},
   "outputs": [
    {
     "data": {
      "text/plain": [
       "0.8926954318321767"
      ]
     },
     "execution_count": 30,
     "metadata": {},
     "output_type": "execute_result"
    }
   ],
   "source": [
    " np.sum(pca.explained_variance_ratio_[0:10])"
   ]
  },
  {
   "cell_type": "code",
   "execution_count": 31,
   "id": "8b547524",
   "metadata": {},
   "outputs": [
    {
     "data": {
      "text/plain": [
       "0.900396614178474"
      ]
     },
     "execution_count": 31,
     "metadata": {},
     "output_type": "execute_result"
    }
   ],
   "source": [
    "np.sum(pca.explained_variance_ratio_[0:11])"
   ]
  },
  {
   "cell_type": "code",
   "execution_count": 32,
   "id": "9c99cec2",
   "metadata": {},
   "outputs": [
    {
     "data": {
      "text/plain": [
       "0.9066848059514387"
      ]
     },
     "execution_count": 32,
     "metadata": {},
     "output_type": "execute_result"
    }
   ],
   "source": [
    "# no additional gains after 11 components\n",
    "np.sum(pca.explained_variance_ratio_[0:12])"
   ]
  },
  {
   "cell_type": "code",
   "execution_count": null,
   "id": "f82205a8",
   "metadata": {},
   "outputs": [],
   "source": []
  },
  {
   "cell_type": "code",
   "execution_count": 33,
   "id": "7c746c7b",
   "metadata": {},
   "outputs": [
    {
     "name": "stdout",
     "output_type": "stream",
     "text": [
      "[0.48614413 0.11284721 0.08459608 0.07325081 0.05773066 0.03176601\n",
      " 0.01970312 0.00952272 0.00892066 0.00821404 0.00770118]\n",
      "0.900396614178474\n"
     ]
    }
   ],
   "source": [
    "pca = PCA(n_components=0.90)  # this will keep 90% of the components and give us a PCA result of 0.900396614178474\n",
    "pca.fit(df3_sub)\n",
    "print(pca.explained_variance_ratio_)\n",
    "print(np.sum(pca.explained_variance_ratio_))"
   ]
  },
  {
   "cell_type": "code",
   "execution_count": 34,
   "id": "cec587bb",
   "metadata": {},
   "outputs": [
    {
     "name": "stdout",
     "output_type": "stream",
     "text": [
      "11\n"
     ]
    }
   ],
   "source": [
    " print(len(pca.explained_variance_ratio_))"
   ]
  },
  {
   "cell_type": "code",
   "execution_count": 35,
   "id": "973ead97",
   "metadata": {},
   "outputs": [
    {
     "name": "stdout",
     "output_type": "stream",
     "text": [
      "[0.48614413 0.11284721 0.08459608 0.07325081 0.05773066 0.03176601\n",
      " 0.01970312 0.00952272 0.00892066 0.00821404 0.00770118 0.00628819\n",
      " 0.00584877 0.00528749 0.00491337 0.00480729 0.00399736 0.00358612\n",
      " 0.00308182 0.00257597 0.00214116 0.00214116 0.00214115 0.0021405\n",
      " 0.00212772]\n",
      "0.9514746756020571\n"
     ]
    }
   ],
   "source": [
    "pca = PCA(n_components=0.95)  # 95% produced a result of 0.9514746756020571, but more than doubled the amount of \n",
    "# components needed. \n",
    "pca.fit(df3_sub)\n",
    "print(pca.explained_variance_ratio_)\n",
    "print(np.sum(pca.explained_variance_ratio_))"
   ]
  },
  {
   "cell_type": "code",
   "execution_count": 36,
   "id": "cb1f41a9",
   "metadata": {},
   "outputs": [
    {
     "name": "stdout",
     "output_type": "stream",
     "text": [
      "25\n"
     ]
    }
   ],
   "source": [
    " print(len(pca.explained_variance_ratio_))"
   ]
  },
  {
   "cell_type": "code",
   "execution_count": 37,
   "id": "2a7015ba",
   "metadata": {},
   "outputs": [
    {
     "name": "stdout",
     "output_type": "stream",
     "text": [
      "[0.48614413 0.11284721 0.08459608 0.07325081 0.05773066 0.03176601\n",
      " 0.01970312 0.00952272 0.00892066 0.00821404 0.00770118 0.00628819\n",
      " 0.00584877 0.00528749 0.00491337 0.00480729 0.00399736 0.00358612\n",
      " 0.00308182 0.00257597 0.00214116 0.00214116 0.00214115 0.0021405\n",
      " 0.00212772 0.00204914 0.00184227 0.00174608 0.00170606 0.00160586\n",
      " 0.00160126 0.00152902 0.00147673 0.00136768 0.00126604 0.00107747\n",
      " 0.00107058 0.00107058 0.00107058 0.00107058 0.00107058 0.00106898\n",
      " 0.00106334 0.00105791 0.00102509 0.00098528 0.00079964 0.00070493\n",
      " 0.00053529 0.00053529 0.00053529 0.00053529 0.00053529 0.00053529\n",
      " 0.00053529 0.00053529 0.00053529 0.00053529 0.00053529 0.00053529\n",
      " 0.00053529 0.00053529 0.00053529 0.00053529 0.00053529 0.00053529]\n",
      "0.990435524204901\n"
     ]
    }
   ],
   "source": [
    "pca = PCA(n_components=0.99)  # 99% produced a result of 0.990435524204901, but the components needed to produce .09\n",
    "# improvement required 6 times the amount of components.  this could slow down your systems for such a minor increase. \n",
    "pca.fit(df3_sub)\n",
    "print(pca.explained_variance_ratio_)\n",
    "print(np.sum(pca.explained_variance_ratio_))"
   ]
  },
  {
   "cell_type": "code",
   "execution_count": 38,
   "id": "19c51422",
   "metadata": {},
   "outputs": [
    {
     "name": "stdout",
     "output_type": "stream",
     "text": [
      "66\n"
     ]
    }
   ],
   "source": [
    "print(len(pca.explained_variance_ratio_))"
   ]
  },
  {
   "cell_type": "code",
   "execution_count": 39,
   "id": "1169f56b",
   "metadata": {},
   "outputs": [
    {
     "name": "stdout",
     "output_type": "stream",
     "text": [
      "[0.48614413 0.11284721 0.08459608 0.07325081 0.05773066 0.03176601\n",
      " 0.01970312 0.00952272 0.00892066 0.00821404 0.00770118]\n",
      "0.900396614178474\n"
     ]
    }
   ],
   "source": [
    "pca = PCA(n_components=0.90)  # we will go with 90% per the homework instructions \n",
    "pca.fit(df3_sub)\n",
    "print(pca.explained_variance_ratio_)\n",
    "print(np.sum(pca.explained_variance_ratio_))"
   ]
  },
  {
   "cell_type": "code",
   "execution_count": 40,
   "id": "67b330c7",
   "metadata": {},
   "outputs": [
    {
     "name": "stdout",
     "output_type": "stream",
     "text": [
      "11\n"
     ]
    }
   ],
   "source": [
    "print(len(pca.explained_variance_ratio_))"
   ]
  },
  {
   "cell_type": "code",
   "execution_count": null,
   "id": "c2c3809d",
   "metadata": {},
   "outputs": [],
   "source": []
  },
  {
   "cell_type": "code",
   "execution_count": 41,
   "id": "70d1c227",
   "metadata": {},
   "outputs": [
    {
     "data": {
      "text/html": [
       "<div>\n",
       "<style scoped>\n",
       "    .dataframe tbody tr th:only-of-type {\n",
       "        vertical-align: middle;\n",
       "    }\n",
       "\n",
       "    .dataframe tbody tr th {\n",
       "        vertical-align: top;\n",
       "    }\n",
       "\n",
       "    .dataframe thead th {\n",
       "        text-align: right;\n",
       "    }\n",
       "</style>\n",
       "<table border=\"1\" class=\"dataframe\">\n",
       "  <thead>\n",
       "    <tr style=\"text-align: right;\">\n",
       "      <th></th>\n",
       "      <th>PCA1</th>\n",
       "      <th>PCA2</th>\n",
       "      <th>PCA3</th>\n",
       "      <th>PCA4</th>\n",
       "      <th>PCA5</th>\n",
       "      <th>PCA6</th>\n",
       "      <th>PCA7</th>\n",
       "      <th>PCA8</th>\n",
       "      <th>PCA9</th>\n",
       "      <th>PCA10</th>\n",
       "      <th>PCA11</th>\n",
       "    </tr>\n",
       "  </thead>\n",
       "  <tbody>\n",
       "    <tr>\n",
       "      <th>0</th>\n",
       "      <td>-0.209691</td>\n",
       "      <td>-0.808170</td>\n",
       "      <td>0.168907</td>\n",
       "      <td>-0.663340</td>\n",
       "      <td>-0.004221</td>\n",
       "      <td>-0.025304</td>\n",
       "      <td>0.002418</td>\n",
       "      <td>-0.012781</td>\n",
       "      <td>-0.046990</td>\n",
       "      <td>-0.021372</td>\n",
       "      <td>-0.007774</td>\n",
       "    </tr>\n",
       "    <tr>\n",
       "      <th>1</th>\n",
       "      <td>-0.187805</td>\n",
       "      <td>-0.810617</td>\n",
       "      <td>0.158472</td>\n",
       "      <td>-0.664012</td>\n",
       "      <td>-0.004872</td>\n",
       "      <td>-0.025161</td>\n",
       "      <td>0.002526</td>\n",
       "      <td>-0.013793</td>\n",
       "      <td>-0.047109</td>\n",
       "      <td>-0.021429</td>\n",
       "      <td>-0.007660</td>\n",
       "    </tr>\n",
       "    <tr>\n",
       "      <th>2</th>\n",
       "      <td>3.529267</td>\n",
       "      <td>-0.317246</td>\n",
       "      <td>2.910638</td>\n",
       "      <td>0.416936</td>\n",
       "      <td>-0.203725</td>\n",
       "      <td>-0.261915</td>\n",
       "      <td>-0.282133</td>\n",
       "      <td>-0.137953</td>\n",
       "      <td>0.753249</td>\n",
       "      <td>0.347229</td>\n",
       "      <td>-0.241091</td>\n",
       "    </tr>\n",
       "    <tr>\n",
       "      <th>3</th>\n",
       "      <td>-0.179927</td>\n",
       "      <td>0.699969</td>\n",
       "      <td>-0.165025</td>\n",
       "      <td>0.220439</td>\n",
       "      <td>-0.285466</td>\n",
       "      <td>-0.616501</td>\n",
       "      <td>0.622780</td>\n",
       "      <td>-0.016936</td>\n",
       "      <td>0.028175</td>\n",
       "      <td>0.008040</td>\n",
       "      <td>-0.026113</td>\n",
       "    </tr>\n",
       "    <tr>\n",
       "      <th>4</th>\n",
       "      <td>-0.173063</td>\n",
       "      <td>0.693041</td>\n",
       "      <td>-0.152954</td>\n",
       "      <td>0.115317</td>\n",
       "      <td>-0.215415</td>\n",
       "      <td>-0.104622</td>\n",
       "      <td>-0.242670</td>\n",
       "      <td>0.010629</td>\n",
       "      <td>0.111604</td>\n",
       "      <td>-0.125831</td>\n",
       "      <td>0.059776</td>\n",
       "    </tr>\n",
       "  </tbody>\n",
       "</table>\n",
       "</div>"
      ],
      "text/plain": [
       "       PCA1      PCA2      PCA3      PCA4      PCA5      PCA6      PCA7  \\\n",
       "0 -0.209691 -0.808170  0.168907 -0.663340 -0.004221 -0.025304  0.002418   \n",
       "1 -0.187805 -0.810617  0.158472 -0.664012 -0.004872 -0.025161  0.002526   \n",
       "2  3.529267 -0.317246  2.910638  0.416936 -0.203725 -0.261915 -0.282133   \n",
       "3 -0.179927  0.699969 -0.165025  0.220439 -0.285466 -0.616501  0.622780   \n",
       "4 -0.173063  0.693041 -0.152954  0.115317 -0.215415 -0.104622 -0.242670   \n",
       "\n",
       "       PCA8      PCA9     PCA10     PCA11  \n",
       "0 -0.012781 -0.046990 -0.021372 -0.007774  \n",
       "1 -0.013793 -0.047109 -0.021429 -0.007660  \n",
       "2 -0.137953  0.753249  0.347229 -0.241091  \n",
       "3 -0.016936  0.028175  0.008040 -0.026113  \n",
       "4  0.010629  0.111604 -0.125831  0.059776  "
      ]
     },
     "execution_count": 41,
     "metadata": {},
     "output_type": "execute_result"
    }
   ],
   "source": [
    "df_pca = pca.transform(df3_sub)\n",
    "df_pca = pd.DataFrame(df_pca, columns = [\"PCA\"+ str(x) for x in range(1, len(pca.explained_variance_ratio_) + 1)])\n",
    "df_pca.head()"
   ]
  },
  {
   "cell_type": "code",
   "execution_count": 42,
   "id": "bb635da3",
   "metadata": {},
   "outputs": [
    {
     "data": {
      "text/plain": [
       "(532, 2)"
      ]
     },
     "execution_count": 42,
     "metadata": {},
     "output_type": "execute_result"
    }
   ],
   "source": [
    "tsne = TSNE(learning_rate=35)\n",
    "# Reduce dimensions\n",
    "tsne_features = tsne.fit_transform(df_pca)\n",
    "tsne_features.shape"
   ]
  },
  {
   "cell_type": "code",
   "execution_count": 43,
   "id": "c94c8752",
   "metadata": {},
   "outputs": [
    {
     "data": {
      "image/png": "[encoded data removed]",
      "text/plain": [
       "<Figure size 432x288 with 1 Axes>"
      ]
     },
     "metadata": {
      "needs_background": "light"
     },
     "output_type": "display_data"
    }
   ],
   "source": [
    "# and chart for visual \n",
    "plt.scatter(tsne_features[:,0], tsne_features[:,1])\n",
    "plt.show()"
   ]
  },
  {
   "cell_type": "code",
   "execution_count": null,
   "id": "653baaa9",
   "metadata": {},
   "outputs": [],
   "source": []
  },
  {
   "cell_type": "code",
   "execution_count": 44,
   "id": "a4eb8964",
   "metadata": {},
   "outputs": [],
   "source": [
    "from sklearn.cluster import KMeans"
   ]
  },
  {
   "cell_type": "code",
   "execution_count": 45,
   "id": "904c03a0",
   "metadata": {},
   "outputs": [
    {
     "name": "stderr",
     "output_type": "stream",
     "text": [
      "C:\\Users\\arnol\\anaconda3\\lib\\site-packages\\sklearn\\cluster\\_kmeans.py:881: UserWarning: KMeans is known to have a memory leak on Windows with MKL, when there are less chunks than available threads. You can avoid it by setting the environment variable OMP_NUM_THREADS=3.\n",
      "  warnings.warn(\n"
     ]
    },
    {
     "data": {
      "image/png": "[encoded data removed]",
      "text/plain": [
       "<Figure size 432x288 with 1 Axes>"
      ]
     },
     "metadata": {
      "needs_background": "light"
     },
     "output_type": "display_data"
    }
   ],
   "source": [
    "# Find optimal x, pulled over from lessons \n",
    "inertia = []\n",
    "k = list(range(1, 20))\n",
    "\n",
    "\n",
    "# Calculate the inertia for the range of k values\n",
    "for i in k:\n",
    "    km = KMeans(n_clusters=i, random_state=0)\n",
    "    km.fit(df_pca)\n",
    "    inertia.append(km.inertia_)\n",
    "\n",
    "# Creating the Elbow Curve\n",
    "elbow_data = {\"k\": k, \"inertia\": inertia}\n",
    "df_elbow = pd.DataFrame(elbow_data)\n",
    "\n",
    "plt.plot(df_elbow['k'], df_elbow['inertia'])\n",
    "plt.xticks(list(range(20)))\n",
    "plt.title('Elbow Curve')\n",
    "plt.xlabel('Number of clusters')\n",
    "plt.ylabel('Inertia')\n",
    "plt.show()"
   ]
  },
  {
   "cell_type": "code",
   "execution_count": 46,
   "id": "e5e00213",
   "metadata": {},
   "outputs": [
    {
     "data": {
      "text/html": [
       "<div>\n",
       "<style scoped>\n",
       "    .dataframe tbody tr th:only-of-type {\n",
       "        vertical-align: middle;\n",
       "    }\n",
       "\n",
       "    .dataframe tbody tr th {\n",
       "        vertical-align: top;\n",
       "    }\n",
       "\n",
       "    .dataframe thead th {\n",
       "        text-align: right;\n",
       "    }\n",
       "</style>\n",
       "<table border=\"1\" class=\"dataframe\">\n",
       "  <thead>\n",
       "    <tr style=\"text-align: right;\">\n",
       "      <th></th>\n",
       "      <th>PCA1</th>\n",
       "      <th>PCA2</th>\n",
       "      <th>PCA3</th>\n",
       "      <th>PCA4</th>\n",
       "      <th>PCA5</th>\n",
       "      <th>PCA6</th>\n",
       "      <th>PCA7</th>\n",
       "      <th>PCA8</th>\n",
       "      <th>PCA9</th>\n",
       "      <th>PCA10</th>\n",
       "      <th>PCA11</th>\n",
       "      <th>class</th>\n",
       "    </tr>\n",
       "  </thead>\n",
       "  <tbody>\n",
       "    <tr>\n",
       "      <th>0</th>\n",
       "      <td>-0.209691</td>\n",
       "      <td>-0.808170</td>\n",
       "      <td>0.168907</td>\n",
       "      <td>-0.663340</td>\n",
       "      <td>-0.004221</td>\n",
       "      <td>-0.025304</td>\n",
       "      <td>0.002418</td>\n",
       "      <td>-0.012781</td>\n",
       "      <td>-0.046990</td>\n",
       "      <td>-0.021372</td>\n",
       "      <td>-0.007774</td>\n",
       "      <td>0</td>\n",
       "    </tr>\n",
       "    <tr>\n",
       "      <th>1</th>\n",
       "      <td>-0.187805</td>\n",
       "      <td>-0.810617</td>\n",
       "      <td>0.158472</td>\n",
       "      <td>-0.664012</td>\n",
       "      <td>-0.004872</td>\n",
       "      <td>-0.025161</td>\n",
       "      <td>0.002526</td>\n",
       "      <td>-0.013793</td>\n",
       "      <td>-0.047109</td>\n",
       "      <td>-0.021429</td>\n",
       "      <td>-0.007660</td>\n",
       "      <td>0</td>\n",
       "    </tr>\n",
       "    <tr>\n",
       "      <th>2</th>\n",
       "      <td>3.529267</td>\n",
       "      <td>-0.317246</td>\n",
       "      <td>2.910638</td>\n",
       "      <td>0.416936</td>\n",
       "      <td>-0.203725</td>\n",
       "      <td>-0.261915</td>\n",
       "      <td>-0.282133</td>\n",
       "      <td>-0.137953</td>\n",
       "      <td>0.753249</td>\n",
       "      <td>0.347229</td>\n",
       "      <td>-0.241091</td>\n",
       "      <td>2</td>\n",
       "    </tr>\n",
       "    <tr>\n",
       "      <th>3</th>\n",
       "      <td>-0.179927</td>\n",
       "      <td>0.699969</td>\n",
       "      <td>-0.165025</td>\n",
       "      <td>0.220439</td>\n",
       "      <td>-0.285466</td>\n",
       "      <td>-0.616501</td>\n",
       "      <td>0.622780</td>\n",
       "      <td>-0.016936</td>\n",
       "      <td>0.028175</td>\n",
       "      <td>0.008040</td>\n",
       "      <td>-0.026113</td>\n",
       "      <td>5</td>\n",
       "    </tr>\n",
       "    <tr>\n",
       "      <th>4</th>\n",
       "      <td>-0.173063</td>\n",
       "      <td>0.693041</td>\n",
       "      <td>-0.152954</td>\n",
       "      <td>0.115317</td>\n",
       "      <td>-0.215415</td>\n",
       "      <td>-0.104622</td>\n",
       "      <td>-0.242670</td>\n",
       "      <td>0.010629</td>\n",
       "      <td>0.111604</td>\n",
       "      <td>-0.125831</td>\n",
       "      <td>0.059776</td>\n",
       "      <td>5</td>\n",
       "    </tr>\n",
       "  </tbody>\n",
       "</table>\n",
       "</div>"
      ],
      "text/plain": [
       "       PCA1      PCA2      PCA3      PCA4      PCA5      PCA6      PCA7  \\\n",
       "0 -0.209691 -0.808170  0.168907 -0.663340 -0.004221 -0.025304  0.002418   \n",
       "1 -0.187805 -0.810617  0.158472 -0.664012 -0.004872 -0.025161  0.002526   \n",
       "2  3.529267 -0.317246  2.910638  0.416936 -0.203725 -0.261915 -0.282133   \n",
       "3 -0.179927  0.699969 -0.165025  0.220439 -0.285466 -0.616501  0.622780   \n",
       "4 -0.173063  0.693041 -0.152954  0.115317 -0.215415 -0.104622 -0.242670   \n",
       "\n",
       "       PCA8      PCA9     PCA10     PCA11  class  \n",
       "0 -0.012781 -0.046990 -0.021372 -0.007774      0  \n",
       "1 -0.013793 -0.047109 -0.021429 -0.007660      0  \n",
       "2 -0.137953  0.753249  0.347229 -0.241091      2  \n",
       "3 -0.016936  0.028175  0.008040 -0.026113      5  \n",
       "4  0.010629  0.111604 -0.125831  0.059776      5  "
      ]
     },
     "execution_count": 46,
     "metadata": {},
     "output_type": "execute_result"
    }
   ],
   "source": [
    "# Predicting clusters with k=6\n",
    "\n",
    "# Initialize the k-means model\n",
    "model = KMeans(n_clusters=6, random_state=0)\n",
    "\n",
    "# Fit the model\n",
    "model.fit(df_pca)\n",
    "\n",
    "# Predict clusters\n",
    "predictions = model.predict(df_pca)\n",
    "\n",
    "# Add the predicted class column to the dataframe\n",
    "df_pca[\"class\"] = model.labels_\n",
    "df_pca.head()"
   ]
  },
  {
   "cell_type": "code",
   "execution_count": 47,
   "id": "0979fbe1",
   "metadata": {},
   "outputs": [
    {
     "data": {
      "image/png": "[encoded data removed]",
      "text/plain": [
       "<Figure size 432x288 with 1 Axes>"
      ]
     },
     "metadata": {
      "needs_background": "light"
     },
     "output_type": "display_data"
    }
   ],
   "source": [
    " # Visualize the clusters\n",
    "plt.scatter(tsne_features[:,0], tsne_features[:,1], c=df_pca[\"class\"])\n",
    "plt.show()"
   ]
  },
  {
   "cell_type": "code",
   "execution_count": 48,
   "id": "80fd584e",
   "metadata": {},
   "outputs": [
    {
     "data": {
      "image/png": "[encoded data removed]",
      "text/plain": [
       "<Figure size 432x288 with 1 Axes>"
      ]
     },
     "metadata": {
      "needs_background": "light"
     },
     "output_type": "display_data"
    }
   ],
   "source": [
    "plt.scatter(tsne_features[:,0], tsne_features[:,1], c=df_pca[\"class\"])\n",
    "plt.savefig(r'TSNE scatter.png', dpi = 100)"
   ]
  },
  {
   "cell_type": "code",
   "execution_count": 49,
   "id": "caae5ee3",
   "metadata": {},
   "outputs": [
    {
     "data": {
      "text/plain": [
       "5    229\n",
       "0    182\n",
       "3    109\n",
       "2     10\n",
       "1      1\n",
       "4      1\n",
       "Name: class, dtype: int64"
      ]
     },
     "execution_count": 49,
     "metadata": {},
     "output_type": "execute_result"
    }
   ],
   "source": [
    "df_pca[\"class\"].value_counts()"
   ]
  },
  {
   "cell_type": "code",
   "execution_count": 50,
   "id": "a0f0753f",
   "metadata": {},
   "outputs": [
    {
     "data": {
      "text/html": [
       "<div>\n",
       "<style scoped>\n",
       "    .dataframe tbody tr th:only-of-type {\n",
       "        vertical-align: middle;\n",
       "    }\n",
       "\n",
       "    .dataframe tbody tr th {\n",
       "        vertical-align: top;\n",
       "    }\n",
       "\n",
       "    .dataframe thead th {\n",
       "        text-align: right;\n",
       "    }\n",
       "</style>\n",
       "<table border=\"1\" class=\"dataframe\">\n",
       "  <thead>\n",
       "    <tr style=\"text-align: right;\">\n",
       "      <th></th>\n",
       "      <th>Algorithm</th>\n",
       "      <th>ProofType</th>\n",
       "      <th>TotalCoinsMined</th>\n",
       "      <th>TotalCoinSupply</th>\n",
       "    </tr>\n",
       "  </thead>\n",
       "  <tbody>\n",
       "    <tr>\n",
       "      <th>0</th>\n",
       "      <td>Scrypt</td>\n",
       "      <td>PoW/PoS</td>\n",
       "      <td>4.199995e+01</td>\n",
       "      <td>4.200000e+01</td>\n",
       "    </tr>\n",
       "    <tr>\n",
       "      <th>1</th>\n",
       "      <td>Scrypt</td>\n",
       "      <td>PoW/PoS</td>\n",
       "      <td>1.055185e+09</td>\n",
       "      <td>5.320000e+08</td>\n",
       "    </tr>\n",
       "    <tr>\n",
       "      <th>2</th>\n",
       "      <td>X13</td>\n",
       "      <td>PoW/PoS</td>\n",
       "      <td>2.927942e+10</td>\n",
       "      <td>3.141593e+11</td>\n",
       "    </tr>\n",
       "    <tr>\n",
       "      <th>3</th>\n",
       "      <td>SHA-256</td>\n",
       "      <td>PoW</td>\n",
       "      <td>1.792718e+07</td>\n",
       "      <td>2.100000e+07</td>\n",
       "    </tr>\n",
       "    <tr>\n",
       "      <th>4</th>\n",
       "      <td>Ethash</td>\n",
       "      <td>PoW</td>\n",
       "      <td>1.076842e+08</td>\n",
       "      <td>0.000000e+00</td>\n",
       "    </tr>\n",
       "  </tbody>\n",
       "</table>\n",
       "</div>"
      ],
      "text/plain": [
       "  Algorithm ProofType  TotalCoinsMined  TotalCoinSupply\n",
       "0    Scrypt   PoW/PoS     4.199995e+01     4.200000e+01\n",
       "1    Scrypt   PoW/PoS     1.055185e+09     5.320000e+08\n",
       "2       X13   PoW/PoS     2.927942e+10     3.141593e+11\n",
       "3   SHA-256       PoW     1.792718e+07     2.100000e+07\n",
       "4    Ethash       PoW     1.076842e+08     0.000000e+00"
      ]
     },
     "execution_count": 50,
     "metadata": {},
     "output_type": "execute_result"
    }
   ],
   "source": [
    "df_sub.head()"
   ]
  },
  {
   "cell_type": "code",
   "execution_count": 51,
   "id": "276cfef1",
   "metadata": {},
   "outputs": [],
   "source": [
    "classes = df_pca[\"class\"]\n",
    "df_pca[\"coin\"] = coin_sub"
   ]
  },
  {
   "cell_type": "code",
   "execution_count": 52,
   "id": "dd5b14cc",
   "metadata": {},
   "outputs": [
    {
     "data": {
      "text/html": [
       "<div>\n",
       "<style scoped>\n",
       "    .dataframe tbody tr th:only-of-type {\n",
       "        vertical-align: middle;\n",
       "    }\n",
       "\n",
       "    .dataframe tbody tr th {\n",
       "        vertical-align: top;\n",
       "    }\n",
       "\n",
       "    .dataframe thead th {\n",
       "        text-align: right;\n",
       "    }\n",
       "</style>\n",
       "<table border=\"1\" class=\"dataframe\">\n",
       "  <thead>\n",
       "    <tr style=\"text-align: right;\">\n",
       "      <th></th>\n",
       "      <th>Algorithm</th>\n",
       "      <th>ProofType</th>\n",
       "      <th>TotalCoinsMined</th>\n",
       "      <th>TotalCoinSupply</th>\n",
       "      <th>coin</th>\n",
       "      <th>class</th>\n",
       "    </tr>\n",
       "  </thead>\n",
       "  <tbody>\n",
       "    <tr>\n",
       "      <th>0</th>\n",
       "      <td>Scrypt</td>\n",
       "      <td>PoW/PoS</td>\n",
       "      <td>4.199995e+01</td>\n",
       "      <td>4.200000e+01</td>\n",
       "      <td>42 Coin</td>\n",
       "      <td>0</td>\n",
       "    </tr>\n",
       "    <tr>\n",
       "      <th>1</th>\n",
       "      <td>Scrypt</td>\n",
       "      <td>PoW/PoS</td>\n",
       "      <td>1.055185e+09</td>\n",
       "      <td>5.320000e+08</td>\n",
       "      <td>404Coin</td>\n",
       "      <td>0</td>\n",
       "    </tr>\n",
       "    <tr>\n",
       "      <th>2</th>\n",
       "      <td>X13</td>\n",
       "      <td>PoW/PoS</td>\n",
       "      <td>2.927942e+10</td>\n",
       "      <td>3.141593e+11</td>\n",
       "      <td>EliteCoin</td>\n",
       "      <td>2</td>\n",
       "    </tr>\n",
       "    <tr>\n",
       "      <th>3</th>\n",
       "      <td>SHA-256</td>\n",
       "      <td>PoW</td>\n",
       "      <td>1.792718e+07</td>\n",
       "      <td>2.100000e+07</td>\n",
       "      <td>Bitcoin</td>\n",
       "      <td>5</td>\n",
       "    </tr>\n",
       "    <tr>\n",
       "      <th>4</th>\n",
       "      <td>Ethash</td>\n",
       "      <td>PoW</td>\n",
       "      <td>1.076842e+08</td>\n",
       "      <td>0.000000e+00</td>\n",
       "      <td>Ethereum</td>\n",
       "      <td>5</td>\n",
       "    </tr>\n",
       "  </tbody>\n",
       "</table>\n",
       "</div>"
      ],
      "text/plain": [
       "  Algorithm ProofType  TotalCoinsMined  TotalCoinSupply       coin  class\n",
       "0    Scrypt   PoW/PoS     4.199995e+01     4.200000e+01    42 Coin      0\n",
       "1    Scrypt   PoW/PoS     1.055185e+09     5.320000e+08    404Coin      0\n",
       "2       X13   PoW/PoS     2.927942e+10     3.141593e+11  EliteCoin      2\n",
       "3   SHA-256       PoW     1.792718e+07     2.100000e+07    Bitcoin      5\n",
       "4    Ethash       PoW     1.076842e+08     0.000000e+00   Ethereum      5"
      ]
     },
     "execution_count": 52,
     "metadata": {},
     "output_type": "execute_result"
    }
   ],
   "source": [
    "preds = df_sub.copy()\n",
    "preds[\"coin\"] = coin_sub\n",
    "preds[\"class\"] = classes\n",
    "\n",
    "preds.head()"
   ]
  },
  {
   "cell_type": "code",
   "execution_count": 53,
   "id": "a264151e",
   "metadata": {},
   "outputs": [
    {
     "data": {
      "text/html": [
       "<div>\n",
       "<style scoped>\n",
       "    .dataframe tbody tr th:only-of-type {\n",
       "        vertical-align: middle;\n",
       "    }\n",
       "\n",
       "    .dataframe tbody tr th {\n",
       "        vertical-align: top;\n",
       "    }\n",
       "\n",
       "    .dataframe thead th {\n",
       "        text-align: right;\n",
       "    }\n",
       "</style>\n",
       "<table border=\"1\" class=\"dataframe\">\n",
       "  <thead>\n",
       "    <tr style=\"text-align: right;\">\n",
       "      <th></th>\n",
       "      <th>TotalCoinsMined</th>\n",
       "      <th>TotalCoinSupply</th>\n",
       "    </tr>\n",
       "    <tr>\n",
       "      <th>class</th>\n",
       "      <th></th>\n",
       "      <th></th>\n",
       "    </tr>\n",
       "  </thead>\n",
       "  <tbody>\n",
       "    <tr>\n",
       "      <th>0</th>\n",
       "      <td>2.492499e+09</td>\n",
       "      <td>3.204951e+09</td>\n",
       "    </tr>\n",
       "    <tr>\n",
       "      <th>1</th>\n",
       "      <td>9.899887e+11</td>\n",
       "      <td>9.900000e+11</td>\n",
       "    </tr>\n",
       "    <tr>\n",
       "      <th>2</th>\n",
       "      <td>8.841782e+10</td>\n",
       "      <td>1.720409e+11</td>\n",
       "    </tr>\n",
       "    <tr>\n",
       "      <th>3</th>\n",
       "      <td>1.649582e+09</td>\n",
       "      <td>3.587962e+09</td>\n",
       "    </tr>\n",
       "    <tr>\n",
       "      <th>4</th>\n",
       "      <td>5.313984e+10</td>\n",
       "      <td>1.000000e+12</td>\n",
       "    </tr>\n",
       "    <tr>\n",
       "      <th>5</th>\n",
       "      <td>1.224351e+09</td>\n",
       "      <td>3.575834e+09</td>\n",
       "    </tr>\n",
       "  </tbody>\n",
       "</table>\n",
       "</div>"
      ],
      "text/plain": [
       "       TotalCoinsMined  TotalCoinSupply\n",
       "class                                  \n",
       "0         2.492499e+09     3.204951e+09\n",
       "1         9.899887e+11     9.900000e+11\n",
       "2         8.841782e+10     1.720409e+11\n",
       "3         1.649582e+09     3.587962e+09\n",
       "4         5.313984e+10     1.000000e+12\n",
       "5         1.224351e+09     3.575834e+09"
      ]
     },
     "execution_count": 53,
     "metadata": {},
     "output_type": "execute_result"
    }
   ],
   "source": [
    "preds.groupby(\"class\").mean()"
   ]
  },
  {
   "cell_type": "code",
   "execution_count": 54,
   "id": "359a1a42",
   "metadata": {},
   "outputs": [
    {
     "data": {
      "text/html": [
       "<div>\n",
       "<style scoped>\n",
       "    .dataframe tbody tr th:only-of-type {\n",
       "        vertical-align: middle;\n",
       "    }\n",
       "\n",
       "    .dataframe tbody tr th {\n",
       "        vertical-align: top;\n",
       "    }\n",
       "\n",
       "    .dataframe thead th {\n",
       "        text-align: right;\n",
       "    }\n",
       "</style>\n",
       "<table border=\"1\" class=\"dataframe\">\n",
       "  <thead>\n",
       "    <tr style=\"text-align: right;\">\n",
       "      <th></th>\n",
       "      <th>Algorithm</th>\n",
       "      <th>ProofType</th>\n",
       "      <th>TotalCoinsMined</th>\n",
       "      <th>TotalCoinSupply</th>\n",
       "      <th>coin</th>\n",
       "    </tr>\n",
       "    <tr>\n",
       "      <th>class</th>\n",
       "      <th></th>\n",
       "      <th></th>\n",
       "      <th></th>\n",
       "      <th></th>\n",
       "      <th></th>\n",
       "    </tr>\n",
       "  </thead>\n",
       "  <tbody>\n",
       "    <tr>\n",
       "      <th>0</th>\n",
       "      <td>182</td>\n",
       "      <td>182</td>\n",
       "      <td>182</td>\n",
       "      <td>182</td>\n",
       "      <td>182</td>\n",
       "    </tr>\n",
       "    <tr>\n",
       "      <th>1</th>\n",
       "      <td>1</td>\n",
       "      <td>1</td>\n",
       "      <td>1</td>\n",
       "      <td>1</td>\n",
       "      <td>1</td>\n",
       "    </tr>\n",
       "    <tr>\n",
       "      <th>2</th>\n",
       "      <td>10</td>\n",
       "      <td>10</td>\n",
       "      <td>10</td>\n",
       "      <td>10</td>\n",
       "      <td>10</td>\n",
       "    </tr>\n",
       "    <tr>\n",
       "      <th>3</th>\n",
       "      <td>109</td>\n",
       "      <td>109</td>\n",
       "      <td>109</td>\n",
       "      <td>109</td>\n",
       "      <td>109</td>\n",
       "    </tr>\n",
       "    <tr>\n",
       "      <th>4</th>\n",
       "      <td>1</td>\n",
       "      <td>1</td>\n",
       "      <td>1</td>\n",
       "      <td>1</td>\n",
       "      <td>1</td>\n",
       "    </tr>\n",
       "    <tr>\n",
       "      <th>5</th>\n",
       "      <td>229</td>\n",
       "      <td>229</td>\n",
       "      <td>229</td>\n",
       "      <td>229</td>\n",
       "      <td>229</td>\n",
       "    </tr>\n",
       "  </tbody>\n",
       "</table>\n",
       "</div>"
      ],
      "text/plain": [
       "       Algorithm  ProofType  TotalCoinsMined  TotalCoinSupply  coin\n",
       "class                                                              \n",
       "0            182        182              182              182   182\n",
       "1              1          1                1                1     1\n",
       "2             10         10               10               10    10\n",
       "3            109        109              109              109   109\n",
       "4              1          1                1                1     1\n",
       "5            229        229              229              229   229"
      ]
     },
     "execution_count": 54,
     "metadata": {},
     "output_type": "execute_result"
    }
   ],
   "source": [
    "preds.groupby(\"class\").count()"
   ]
  },
  {
   "cell_type": "code",
   "execution_count": 55,
   "id": "e48855c2",
   "metadata": {},
   "outputs": [
    {
     "data": {
      "text/html": [
       "<div>\n",
       "<style scoped>\n",
       "    .dataframe tbody tr th:only-of-type {\n",
       "        vertical-align: middle;\n",
       "    }\n",
       "\n",
       "    .dataframe tbody tr th {\n",
       "        vertical-align: top;\n",
       "    }\n",
       "\n",
       "    .dataframe thead th {\n",
       "        text-align: right;\n",
       "    }\n",
       "</style>\n",
       "<table border=\"1\" class=\"dataframe\">\n",
       "  <thead>\n",
       "    <tr style=\"text-align: right;\">\n",
       "      <th></th>\n",
       "      <th>Algorithm</th>\n",
       "      <th>ProofType</th>\n",
       "      <th>TotalCoinsMined</th>\n",
       "      <th>TotalCoinSupply</th>\n",
       "      <th>coin</th>\n",
       "      <th>class</th>\n",
       "    </tr>\n",
       "  </thead>\n",
       "  <tbody>\n",
       "    <tr>\n",
       "      <th>525</th>\n",
       "      <td>TRC10</td>\n",
       "      <td>DPoS</td>\n",
       "      <td>9.899887e+11</td>\n",
       "      <td>9.900000e+11</td>\n",
       "      <td>BitTorrent</td>\n",
       "      <td>1</td>\n",
       "    </tr>\n",
       "  </tbody>\n",
       "</table>\n",
       "</div>"
      ],
      "text/plain": [
       "    Algorithm ProofType  TotalCoinsMined  TotalCoinSupply        coin  class\n",
       "525     TRC10      DPoS     9.899887e+11     9.900000e+11  BitTorrent      1"
      ]
     },
     "execution_count": 55,
     "metadata": {},
     "output_type": "execute_result"
    }
   ],
   "source": [
    "preds.loc[preds[\"class\"] == 1]"
   ]
  },
  {
   "cell_type": "code",
   "execution_count": 56,
   "id": "609b631d",
   "metadata": {},
   "outputs": [
    {
     "data": {
      "text/html": [
       "<div>\n",
       "<style scoped>\n",
       "    .dataframe tbody tr th:only-of-type {\n",
       "        vertical-align: middle;\n",
       "    }\n",
       "\n",
       "    .dataframe tbody tr th {\n",
       "        vertical-align: top;\n",
       "    }\n",
       "\n",
       "    .dataframe thead th {\n",
       "        text-align: right;\n",
       "    }\n",
       "</style>\n",
       "<table border=\"1\" class=\"dataframe\">\n",
       "  <thead>\n",
       "    <tr style=\"text-align: right;\">\n",
       "      <th></th>\n",
       "      <th>Algorithm</th>\n",
       "      <th>ProofType</th>\n",
       "      <th>TotalCoinsMined</th>\n",
       "      <th>TotalCoinSupply</th>\n",
       "      <th>coin</th>\n",
       "      <th>class</th>\n",
       "    </tr>\n",
       "  </thead>\n",
       "  <tbody>\n",
       "    <tr>\n",
       "      <th>370</th>\n",
       "      <td>CryptoNight</td>\n",
       "      <td>PoW</td>\n",
       "      <td>5.313984e+10</td>\n",
       "      <td>1.000000e+12</td>\n",
       "      <td>TurtleCoin</td>\n",
       "      <td>4</td>\n",
       "    </tr>\n",
       "  </tbody>\n",
       "</table>\n",
       "</div>"
      ],
      "text/plain": [
       "       Algorithm ProofType  TotalCoinsMined  TotalCoinSupply        coin  \\\n",
       "370  CryptoNight       PoW     5.313984e+10     1.000000e+12  TurtleCoin   \n",
       "\n",
       "     class  \n",
       "370      4  "
      ]
     },
     "execution_count": 56,
     "metadata": {},
     "output_type": "execute_result"
    }
   ],
   "source": [
    "preds.loc[preds[\"class\"] == 4]"
   ]
  },
  {
   "cell_type": "code",
   "execution_count": 57,
   "id": "013a1695",
   "metadata": {},
   "outputs": [
    {
     "data": {
      "text/html": [
       "<div>\n",
       "<style scoped>\n",
       "    .dataframe tbody tr th:only-of-type {\n",
       "        vertical-align: middle;\n",
       "    }\n",
       "\n",
       "    .dataframe tbody tr th {\n",
       "        vertical-align: top;\n",
       "    }\n",
       "\n",
       "    .dataframe thead th {\n",
       "        text-align: right;\n",
       "    }\n",
       "</style>\n",
       "<table border=\"1\" class=\"dataframe\">\n",
       "  <thead>\n",
       "    <tr style=\"text-align: right;\">\n",
       "      <th></th>\n",
       "      <th>Algorithm</th>\n",
       "      <th>ProofType</th>\n",
       "      <th>TotalCoinsMined</th>\n",
       "      <th>TotalCoinSupply</th>\n",
       "      <th>coin</th>\n",
       "      <th>class</th>\n",
       "    </tr>\n",
       "  </thead>\n",
       "  <tbody>\n",
       "    <tr>\n",
       "      <th>525</th>\n",
       "      <td>TRC10</td>\n",
       "      <td>DPoS</td>\n",
       "      <td>9.899887e+11</td>\n",
       "      <td>9.900000e+11</td>\n",
       "      <td>BitTorrent</td>\n",
       "      <td>1</td>\n",
       "    </tr>\n",
       "    <tr>\n",
       "      <th>98</th>\n",
       "      <td>CryptoNight</td>\n",
       "      <td>PoW</td>\n",
       "      <td>1.840668e+11</td>\n",
       "      <td>1.844674e+11</td>\n",
       "      <td>ByteCoin</td>\n",
       "      <td>2</td>\n",
       "    </tr>\n",
       "    <tr>\n",
       "      <th>294</th>\n",
       "      <td>Scrypt</td>\n",
       "      <td>PoW</td>\n",
       "      <td>1.630551e+11</td>\n",
       "      <td>2.000000e+11</td>\n",
       "      <td>gCn Coin</td>\n",
       "      <td>2</td>\n",
       "    </tr>\n",
       "    <tr>\n",
       "      <th>305</th>\n",
       "      <td>Scrypt</td>\n",
       "      <td>PoW</td>\n",
       "      <td>1.430067e+11</td>\n",
       "      <td>0.000000e+00</td>\n",
       "      <td>NewYorkCoin</td>\n",
       "      <td>2</td>\n",
       "    </tr>\n",
       "    <tr>\n",
       "      <th>443</th>\n",
       "      <td>CryptoNight Heavy</td>\n",
       "      <td>PoW</td>\n",
       "      <td>9.955311e+10</td>\n",
       "      <td>1.844700e+11</td>\n",
       "      <td>Qwertycoin</td>\n",
       "      <td>2</td>\n",
       "    </tr>\n",
       "    <tr>\n",
       "      <th>...</th>\n",
       "      <td>...</td>\n",
       "      <td>...</td>\n",
       "      <td>...</td>\n",
       "      <td>...</td>\n",
       "      <td>...</td>\n",
       "      <td>...</td>\n",
       "    </tr>\n",
       "    <tr>\n",
       "      <th>415</th>\n",
       "      <td>CryptoNight</td>\n",
       "      <td>PoW</td>\n",
       "      <td>8.430000e+04</td>\n",
       "      <td>6.000005e+08</td>\n",
       "      <td>PlatinCoin</td>\n",
       "      <td>5</td>\n",
       "    </tr>\n",
       "    <tr>\n",
       "      <th>29</th>\n",
       "      <td>Scrypt</td>\n",
       "      <td>PoW/PoS</td>\n",
       "      <td>4.257948e+04</td>\n",
       "      <td>5.000000e+05</td>\n",
       "      <td>BitBar</td>\n",
       "      <td>0</td>\n",
       "    </tr>\n",
       "    <tr>\n",
       "      <th>77</th>\n",
       "      <td>X11</td>\n",
       "      <td>PoW/PoS</td>\n",
       "      <td>1.177000e+03</td>\n",
       "      <td>1.000000e+03</td>\n",
       "      <td>SyncCoin</td>\n",
       "      <td>0</td>\n",
       "    </tr>\n",
       "    <tr>\n",
       "      <th>21</th>\n",
       "      <td>Scrypt</td>\n",
       "      <td>PoW</td>\n",
       "      <td>8.800000e+01</td>\n",
       "      <td>3.840000e+11</td>\n",
       "      <td>MoonCoin</td>\n",
       "      <td>2</td>\n",
       "    </tr>\n",
       "    <tr>\n",
       "      <th>0</th>\n",
       "      <td>Scrypt</td>\n",
       "      <td>PoW/PoS</td>\n",
       "      <td>4.199995e+01</td>\n",
       "      <td>4.200000e+01</td>\n",
       "      <td>42 Coin</td>\n",
       "      <td>0</td>\n",
       "    </tr>\n",
       "  </tbody>\n",
       "</table>\n",
       "<p>532 rows × 6 columns</p>\n",
       "</div>"
      ],
      "text/plain": [
       "             Algorithm ProofType  TotalCoinsMined  TotalCoinSupply  \\\n",
       "525              TRC10      DPoS     9.899887e+11     9.900000e+11   \n",
       "98         CryptoNight       PoW     1.840668e+11     1.844674e+11   \n",
       "294             Scrypt       PoW     1.630551e+11     2.000000e+11   \n",
       "305             Scrypt       PoW     1.430067e+11     0.000000e+00   \n",
       "443  CryptoNight Heavy       PoW     9.955311e+10     1.844700e+11   \n",
       "..                 ...       ...              ...              ...   \n",
       "415        CryptoNight       PoW     8.430000e+04     6.000005e+08   \n",
       "29              Scrypt   PoW/PoS     4.257948e+04     5.000000e+05   \n",
       "77                 X11   PoW/PoS     1.177000e+03     1.000000e+03   \n",
       "21              Scrypt       PoW     8.800000e+01     3.840000e+11   \n",
       "0               Scrypt   PoW/PoS     4.199995e+01     4.200000e+01   \n",
       "\n",
       "            coin  class  \n",
       "525   BitTorrent      1  \n",
       "98      ByteCoin      2  \n",
       "294     gCn Coin      2  \n",
       "305  NewYorkCoin      2  \n",
       "443   Qwertycoin      2  \n",
       "..           ...    ...  \n",
       "415   PlatinCoin      5  \n",
       "29        BitBar      0  \n",
       "77      SyncCoin      0  \n",
       "21      MoonCoin      2  \n",
       "0        42 Coin      0  \n",
       "\n",
       "[532 rows x 6 columns]"
      ]
     },
     "execution_count": 57,
     "metadata": {},
     "output_type": "execute_result"
    }
   ],
   "source": [
    "preds.sort_values(by=\"TotalCoinsMined\", ascending=False)"
   ]
  },
  {
   "cell_type": "code",
   "execution_count": 58,
   "id": "dc709b34",
   "metadata": {},
   "outputs": [
    {
     "data": {
      "text/html": [
       "<div>\n",
       "<style scoped>\n",
       "    .dataframe tbody tr th:only-of-type {\n",
       "        vertical-align: middle;\n",
       "    }\n",
       "\n",
       "    .dataframe tbody tr th {\n",
       "        vertical-align: top;\n",
       "    }\n",
       "\n",
       "    .dataframe thead th {\n",
       "        text-align: right;\n",
       "    }\n",
       "</style>\n",
       "<table border=\"1\" class=\"dataframe\">\n",
       "  <thead>\n",
       "    <tr style=\"text-align: right;\">\n",
       "      <th></th>\n",
       "      <th>Algorithm</th>\n",
       "      <th>ProofType</th>\n",
       "      <th>TotalCoinsMined</th>\n",
       "      <th>TotalCoinSupply</th>\n",
       "      <th>coin</th>\n",
       "      <th>class</th>\n",
       "    </tr>\n",
       "  </thead>\n",
       "  <tbody>\n",
       "    <tr>\n",
       "      <th>3</th>\n",
       "      <td>SHA-256</td>\n",
       "      <td>PoW</td>\n",
       "      <td>1.792718e+07</td>\n",
       "      <td>2.100000e+07</td>\n",
       "      <td>Bitcoin</td>\n",
       "      <td>5</td>\n",
       "    </tr>\n",
       "    <tr>\n",
       "      <th>4</th>\n",
       "      <td>Ethash</td>\n",
       "      <td>PoW</td>\n",
       "      <td>1.076842e+08</td>\n",
       "      <td>0.000000e+00</td>\n",
       "      <td>Ethereum</td>\n",
       "      <td>5</td>\n",
       "    </tr>\n",
       "    <tr>\n",
       "      <th>5</th>\n",
       "      <td>Scrypt</td>\n",
       "      <td>PoW</td>\n",
       "      <td>6.303924e+07</td>\n",
       "      <td>8.400000e+07</td>\n",
       "      <td>Litecoin</td>\n",
       "      <td>5</td>\n",
       "    </tr>\n",
       "    <tr>\n",
       "      <th>7</th>\n",
       "      <td>CryptoNight-V7</td>\n",
       "      <td>PoW</td>\n",
       "      <td>1.720114e+07</td>\n",
       "      <td>0.000000e+00</td>\n",
       "      <td>Monero</td>\n",
       "      <td>5</td>\n",
       "    </tr>\n",
       "    <tr>\n",
       "      <th>8</th>\n",
       "      <td>Ethash</td>\n",
       "      <td>PoW</td>\n",
       "      <td>1.133597e+08</td>\n",
       "      <td>2.100000e+08</td>\n",
       "      <td>Ethereum Classic</td>\n",
       "      <td>5</td>\n",
       "    </tr>\n",
       "    <tr>\n",
       "      <th>9</th>\n",
       "      <td>Equihash</td>\n",
       "      <td>PoW</td>\n",
       "      <td>7.383056e+06</td>\n",
       "      <td>2.100000e+07</td>\n",
       "      <td>ZCash</td>\n",
       "      <td>5</td>\n",
       "    </tr>\n",
       "    <tr>\n",
       "      <th>11</th>\n",
       "      <td>Multiple</td>\n",
       "      <td>PoW</td>\n",
       "      <td>1.140622e+10</td>\n",
       "      <td>2.100000e+10</td>\n",
       "      <td>DigiByte</td>\n",
       "      <td>5</td>\n",
       "    </tr>\n",
       "    <tr>\n",
       "      <th>14</th>\n",
       "      <td>Scrypt</td>\n",
       "      <td>PoW</td>\n",
       "      <td>5.768310e+06</td>\n",
       "      <td>2.100000e+07</td>\n",
       "      <td>ProsperCoin</td>\n",
       "      <td>5</td>\n",
       "    </tr>\n",
       "    <tr>\n",
       "      <th>16</th>\n",
       "      <td>X11</td>\n",
       "      <td>PoW</td>\n",
       "      <td>1.114973e+07</td>\n",
       "      <td>2.000000e+07</td>\n",
       "      <td>Spreadcoin</td>\n",
       "      <td>5</td>\n",
       "    </tr>\n",
       "    <tr>\n",
       "      <th>17</th>\n",
       "      <td>Scrypt</td>\n",
       "      <td>PoW</td>\n",
       "      <td>1.220580e+07</td>\n",
       "      <td>6.400000e+07</td>\n",
       "      <td>Argentum</td>\n",
       "      <td>5</td>\n",
       "    </tr>\n",
       "  </tbody>\n",
       "</table>\n",
       "</div>"
      ],
      "text/plain": [
       "         Algorithm ProofType  TotalCoinsMined  TotalCoinSupply  \\\n",
       "3          SHA-256       PoW     1.792718e+07     2.100000e+07   \n",
       "4           Ethash       PoW     1.076842e+08     0.000000e+00   \n",
       "5           Scrypt       PoW     6.303924e+07     8.400000e+07   \n",
       "7   CryptoNight-V7       PoW     1.720114e+07     0.000000e+00   \n",
       "8           Ethash       PoW     1.133597e+08     2.100000e+08   \n",
       "9         Equihash       PoW     7.383056e+06     2.100000e+07   \n",
       "11        Multiple       PoW     1.140622e+10     2.100000e+10   \n",
       "14          Scrypt       PoW     5.768310e+06     2.100000e+07   \n",
       "16             X11       PoW     1.114973e+07     2.000000e+07   \n",
       "17          Scrypt       PoW     1.220580e+07     6.400000e+07   \n",
       "\n",
       "                coin  class  \n",
       "3            Bitcoin      5  \n",
       "4           Ethereum      5  \n",
       "5           Litecoin      5  \n",
       "7             Monero      5  \n",
       "8   Ethereum Classic      5  \n",
       "9              ZCash      5  \n",
       "11          DigiByte      5  \n",
       "14       ProsperCoin      5  \n",
       "16        Spreadcoin      5  \n",
       "17          Argentum      5  "
      ]
     },
     "execution_count": 58,
     "metadata": {},
     "output_type": "execute_result"
    }
   ],
   "source": [
    "preds.loc[preds[\"class\"] == 5].head(10)"
   ]
  },
  {
   "cell_type": "code",
   "execution_count": 59,
   "id": "8e2053b6",
   "metadata": {},
   "outputs": [
    {
     "data": {
      "text/html": [
       "<div>\n",
       "<style scoped>\n",
       "    .dataframe tbody tr th:only-of-type {\n",
       "        vertical-align: middle;\n",
       "    }\n",
       "\n",
       "    .dataframe tbody tr th {\n",
       "        vertical-align: top;\n",
       "    }\n",
       "\n",
       "    .dataframe thead th {\n",
       "        text-align: right;\n",
       "    }\n",
       "</style>\n",
       "<table border=\"1\" class=\"dataframe\">\n",
       "  <thead>\n",
       "    <tr style=\"text-align: right;\">\n",
       "      <th></th>\n",
       "      <th>Algorithm</th>\n",
       "      <th>ProofType</th>\n",
       "      <th>TotalCoinsMined</th>\n",
       "      <th>TotalCoinSupply</th>\n",
       "      <th>coin</th>\n",
       "      <th>class</th>\n",
       "    </tr>\n",
       "  </thead>\n",
       "  <tbody>\n",
       "    <tr>\n",
       "      <th>278</th>\n",
       "      <td>Blake2b</td>\n",
       "      <td>PoW</td>\n",
       "      <td>133248297.0</td>\n",
       "      <td>340282367.0</td>\n",
       "      <td>Nano</td>\n",
       "      <td>5</td>\n",
       "    </tr>\n",
       "  </tbody>\n",
       "</table>\n",
       "</div>"
      ],
      "text/plain": [
       "    Algorithm ProofType  TotalCoinsMined  TotalCoinSupply  coin  class\n",
       "278   Blake2b       PoW      133248297.0      340282367.0  Nano      5"
      ]
     },
     "execution_count": 59,
     "metadata": {},
     "output_type": "execute_result"
    }
   ],
   "source": [
    "preds.loc[preds.coin == \"Nano\"]"
   ]
  },
  {
   "cell_type": "code",
   "execution_count": 60,
   "id": "e7db40b1",
   "metadata": {},
   "outputs": [],
   "source": [
    "import plotly.express as px"
   ]
  },
  {
   "cell_type": "code",
   "execution_count": 61,
   "id": "f3ef5a3f",
   "metadata": {},
   "outputs": [],
   "source": [
    "import plotly.graph_objects as go"
   ]
  },
  {
   "cell_type": "code",
   "execution_count": 66,
   "id": "8e2dec4e",
   "metadata": {},
   "outputs": [
    {
     "data": {
      "application/vnd.plotly.v1+json": {
       "config": {
        "plotlyServerURL": "https://plot.ly"
       },
       "data": [
        {
         "customdata": [
          [
           "42 Coin"
          ],
          [
           "404Coin"
          ],
          [
           "EliteCoin"
          ],
          [
           "Bitcoin"
          ],
          [
           "Ethereum"
          ],
          [
           "Litecoin"
          ],
          [
           "Dash"
          ],
          [
           "Monero"
          ],
          [
           "Ethereum Classic"
          ],
          [
           "ZCash"
          ],
          [
           "Bitshares"
          ],
          [
           "DigiByte"
          ],
          [
           "BitcoinDark"
          ],
          [
           "PayCoin"
          ],
          [
           "ProsperCoin"
          ],
          [
           "KoboCoin"
          ],
          [
           "Spreadcoin"
          ],
          [
           "Argentum"
          ],
          [
           "Aurora Coin"
          ],
          [
           "BlueCoin"
          ],
          [
           "MyriadCoin"
          ],
          [
           "MoonCoin"
          ],
          [
           "ZetaCoin"
          ],
          [
           "SexCoin"
          ],
          [
           "Quatloo"
          ],
          [
           "EnergyCoin"
          ],
          [
           "QuarkCoin"
          ],
          [
           "Riecoin"
          ],
          [
           "Digitalcoin "
          ],
          [
           "BitBar"
          ],
          [
           "Catcoin"
          ],
          [
           "CryptoBullion"
          ],
          [
           "CannaCoin"
          ],
          [
           "CryptCoin"
          ],
          [
           "CasinoCoin"
          ],
          [
           "Diamond"
          ],
          [
           "Verge"
          ],
          [
           "DevCoin"
          ],
          [
           "EarthCoin"
          ],
          [
           "E-Gulden"
          ],
          [
           "Einsteinium"
          ],
          [
           "Emerald"
          ],
          [
           "Exclusive Coin"
          ],
          [
           "FlutterCoin"
          ],
          [
           "Franko"
          ],
          [
           "FeatherCoin"
          ],
          [
           "GrandCoin"
          ],
          [
           "GlobalCoin"
          ],
          [
           "GoldCoin"
          ],
          [
           "HoboNickels"
          ],
          [
           "HyperStake"
          ],
          [
           "Infinite Coin"
          ],
          [
           "IOCoin"
          ],
          [
           "IXcoin"
          ],
          [
           "KrugerCoin"
          ],
          [
           "LuckyCoin"
          ],
          [
           "Litebar "
          ],
          [
           "MaxCoin"
          ],
          [
           "MegaCoin"
          ],
          [
           "MediterraneanCoin"
          ],
          [
           "MintCoin"
          ],
          [
           "MinCoin"
          ],
          [
           "MazaCoin"
          ],
          [
           "Nautilus Coin"
          ],
          [
           "NavCoin"
          ],
          [
           "NobleCoin"
          ],
          [
           "Namecoin"
          ],
          [
           "NyanCoin"
          ],
          [
           "OpalCoin"
          ],
          [
           "Orbitcoin"
          ],
          [
           "PotCoin"
          ],
          [
           "PhoenixCoin"
          ],
          [
           "Reddcoin"
          ],
          [
           "RonPaulCoin"
          ],
          [
           "StableCoin"
          ],
          [
           "SmartCoin"
          ],
          [
           "SuperCoin"
          ],
          [
           "SyncCoin"
          ],
          [
           "SysCoin"
          ],
          [
           "TeslaCoin"
          ],
          [
           "TigerCoin"
          ],
          [
           "TittieCoin"
          ],
          [
           "TorCoin"
          ],
          [
           "TerraCoin"
          ],
          [
           "UnbreakableCoin"
          ],
          [
           "Unobtanium"
          ],
          [
           "UroCoin"
          ],
          [
           "UnitaryStatus Dollar"
          ],
          [
           "UltraCoin"
          ],
          [
           "ViaCoin"
          ],
          [
           "VeriCoin"
          ],
          [
           "Vertcoin"
          ],
          [
           "WorldCoin"
          ],
          [
           "X11 Coin"
          ],
          [
           "Crypti"
          ],
          [
           "JouleCoin"
          ],
          [
           "StealthCoin"
          ],
          [
           "ZCC Coin"
          ],
          [
           "ByteCoin"
          ],
          [
           "DigitalNote "
          ],
          [
           "BurstCoin"
          ],
          [
           "StorjCoin"
          ],
          [
           "MonaCoin"
          ],
          [
           "Neutron"
          ],
          [
           "FairCoin"
          ],
          [
           "Gulden"
          ],
          [
           "RubyCoin"
          ],
          [
           "PesetaCoin"
          ],
          [
           "Kore"
          ],
          [
           "Wild Beast Coin"
          ],
          [
           "Dnotes"
          ],
          [
           "Flo"
          ],
          [
           "8BIT Coin"
          ],
          [
           "Sativa Coin"
          ],
          [
           "ArtByte"
          ],
          [
           "Folding Coin"
          ],
          [
           "Ucoin"
          ],
          [
           "Unitus"
          ],
          [
           "CypherPunkCoin"
          ],
          [
           "OmniCron"
          ],
          [
           "Vtorrent"
          ],
          [
           "GreenCoin"
          ],
          [
           "Cryptonite"
          ],
          [
           "MasterCoin"
          ],
          [
           "SoonCoin"
          ],
          [
           "1Credit"
          ],
          [
           "IslaCoin"
          ],
          [
           "Nexus"
          ],
          [
           "MarsCoin "
          ],
          [
           "Crypto"
          ],
          [
           "Anarchists Prime"
          ],
          [
           "Droidz"
          ],
          [
           "BowsCoin"
          ],
          [
           "Squall Coin"
          ],
          [
           "Song Coin"
          ],
          [
           "BitZeny"
          ],
          [
           "Diggits"
          ],
          [
           "Expanse"
          ],
          [
           "Paycon"
          ],
          [
           "Siacoin"
          ],
          [
           "Emercoin"
          ],
          [
           "EverGreenCoin"
          ],
          [
           "MindCoin"
          ],
          [
           "I0coin"
          ],
          [
           "Decred"
          ],
          [
           "Revolution VR"
          ],
          [
           "HOdlcoin"
          ],
          [
           "EDRCoin"
          ],
          [
           "Hitcoin"
          ],
          [
           "Gamecredits"
          ],
          [
           "DubaiCoin"
          ],
          [
           "CarpeDiemCoin"
          ],
          [
           "PWR Coin"
          ],
          [
           "BillaryCoin"
          ],
          [
           "GPU Coin"
          ],
          [
           "Adzcoin"
          ],
          [
           "SoilCoin"
          ],
          [
           "YoCoin"
          ],
          [
           "SibCoin"
          ],
          [
           "EuropeCoin"
          ],
          [
           "ZeitCoin"
          ],
          [
           "SwingCoin"
          ],
          [
           "SafeExchangeCoin"
          ],
          [
           "Nebuchadnezzar"
          ],
          [
           "Francs"
          ],
          [
           "BolivarCoin"
          ],
          [
           "Ratecoin"
          ],
          [
           "Revenu"
          ],
          [
           "Clockcoin"
          ],
          [
           "VIP Tokens"
          ],
          [
           "BitSend"
          ],
          [
           "Omni"
          ],
          [
           "Let it Ride"
          ],
          [
           "PutinCoin"
          ],
          [
           "iBankCoin"
          ],
          [
           "Frankywillcoin"
          ],
          [
           "MudraCoin"
          ],
          [
           "PizzaCoin"
          ],
          [
           "Lutetium Coin"
          ],
          [
           "Komodo"
          ],
          [
           "GoldBlocks"
          ],
          [
           "CarterCoin"
          ],
          [
           "Karbo"
          ],
          [
           "BitTokens"
          ],
          [
           "ZayedCoin"
          ],
          [
           "MustangCoin"
          ],
          [
           "ZoneCoin"
          ],
          [
           "Circuits of Value"
          ],
          [
           "RootCoin"
          ],
          [
           "DopeCoin"
          ],
          [
           "BitCurrency"
          ],
          [
           "DollarCoin"
          ],
          [
           "Swiscoin"
          ],
          [
           "Shilling"
          ],
          [
           "BuzzCoin"
          ],
          [
           "Opair"
          ],
          [
           "PesoBit"
          ],
          [
           "Halloween Coin"
          ],
          [
           "ZCoin"
          ],
          [
           "CoffeeCoin"
          ],
          [
           "RoyalCoin"
          ],
          [
           "GanjaCoin V2"
          ],
          [
           "TeamUP"
          ],
          [
           "LanaCoin"
          ],
          [
           "Elementrem"
          ],
          [
           "ZClassic"
          ],
          [
           "ARK"
          ],
          [
           "InsaneCoin"
          ],
          [
           "KiloCoin"
          ],
          [
           "ArtexCoin"
          ],
          [
           "EmberCoin"
          ],
          [
           "XenixCoin"
          ],
          [
           "FreeCoin"
          ],
          [
           "PLNCoin"
          ],
          [
           "AquariusCoin"
          ],
          [
           "Kurrent"
          ],
          [
           "Creatio"
          ],
          [
           "Eternity"
          ],
          [
           "Eurocoin"
          ],
          [
           "BitcoinFast"
          ],
          [
           "Stakenet"
          ],
          [
           "BitConnect Coin"
          ],
          [
           "MoneyCoin"
          ],
          [
           "Enigma"
          ],
          [
           "Cannabis Industry Coin"
          ],
          [
           "Russiacoin"
          ],
          [
           "PandaCoin"
          ],
          [
           "GameUnits"
          ],
          [
           "GAKHcoin"
          ],
          [
           "Allsafe"
          ],
          [
           "LiteCreed"
          ],
          [
           "OsmiumCoin"
          ],
          [
           "Bikercoins"
          ],
          [
           "HexxCoin"
          ],
          [
           "Klingon Empire Darsek"
          ],
          [
           "Internet of People"
          ],
          [
           "KushCoin"
          ],
          [
           "Printerium"
          ],
          [
           "PacCoin"
          ],
          [
           "Impeach"
          ],
          [
           "Citadel"
          ],
          [
           "Zilbercoin"
          ],
          [
           "FirstCoin"
          ],
          [
           "BeaverCoin"
          ],
          [
           "FindCoin"
          ],
          [
           "VaultCoin"
          ],
          [
           "Zero"
          ],
          [
           "OpenChat"
          ],
          [
           "Canada eCoin"
          ],
          [
           "Zoin"
          ],
          [
           "RenosCoin"
          ],
          [
           "DubaiCoin"
          ],
          [
           "VirtacoinPlus"
          ],
          [
           "TajCoin"
          ],
          [
           "Impact"
          ],
          [
           "EB3coin"
          ],
          [
           "Atmos"
          ],
          [
           "HappyCoin"
          ],
          [
           "Coinonat"
          ],
          [
           "MacronCoin"
          ],
          [
           "Condensate"
          ],
          [
           "Independent Money System"
          ],
          [
           "ArgusCoin"
          ],
          [
           "LomoCoin"
          ],
          [
           "ProCurrency"
          ],
          [
           "GoldReserve"
          ],
          [
           "BenjiRolls"
          ],
          [
           "GrowthCoin"
          ],
          [
           "ILCoin"
          ],
          [
           "Phreak"
          ],
          [
           "Degas Coin"
          ],
          [
           "HTML5 Coin"
          ],
          [
           "Ultimate Secure Cash"
          ],
          [
           "EquiTrader"
          ],
          [
           "QTUM"
          ],
          [
           "Quantum Resistant Ledger"
          ],
          [
           "Espers"
          ],
          [
           "Dynamic"
          ],
          [
           "Nano"
          ],
          [
           "ChanCoin"
          ],
          [
           "Dinastycoin"
          ],
          [
           "Denarius"
          ],
          [
           "DigitalPrice"
          ],
          [
           "Virta Unique Coin"
          ],
          [
           "Bitcoin Planet"
          ],
          [
           "Unify"
          ],
          [
           "BritCoin"
          ],
          [
           "SocialCoin"
          ],
          [
           "ArcticCoin"
          ],
          [
           "DAS"
          ],
          [
           "Linda"
          ],
          [
           "LeviarCoin"
          ],
          [
           "DeepOnion"
          ],
          [
           "Bitcore"
          ],
          [
           "gCn Coin"
          ],
          [
           "SmartCash"
          ],
          [
           "Signatum"
          ],
          [
           "Onix"
          ],
          [
           "Cream"
          ],
          [
           "Bitcoin Cash"
          ],
          [
           "Monoeci"
          ],
          [
           "Draftcoin"
          ],
          [
           "Vechain"
          ],
          [
           "Sojourn Coin"
          ],
          [
           "Stakecoin"
          ],
          [
           "NewYorkCoin"
          ],
          [
           "FrazCoin"
          ],
          [
           "Kronecoin"
          ],
          [
           "AdCoin"
          ],
          [
           "Linx"
          ],
          [
           "CoinonatX"
          ],
          [
           "Ethereum Dark"
          ],
          [
           "Sumokoin"
          ],
          [
           "Obsidian"
          ],
          [
           "Cardano"
          ],
          [
           "Regalcoin"
          ],
          [
           "BitcoinZ"
          ],
          [
           "TrezarCoin"
          ],
          [
           "Elements"
          ],
          [
           "TerraNovaCoin"
          ],
          [
           "VIVO Coin"
          ],
          [
           "Rupee"
          ],
          [
           "Bitcoin Gold"
          ],
          [
           "WomenCoin"
          ],
          [
           "Theresa May Coin"
          ],
          [
           "NamoCoin"
          ],
          [
           "LUXCoin"
          ],
          [
           "Pirl"
          ],
          [
           "Xios"
          ],
          [
           "Bitcloud 2.0"
          ],
          [
           "eBoost"
          ],
          [
           "KekCoin"
          ],
          [
           "BlackholeCoin"
          ],
          [
           "Infinity Economics"
          ],
          [
           "Pura"
          ],
          [
           "Innova"
          ],
          [
           "Ellaism"
          ],
          [
           "GoByte"
          ],
          [
           "Magnet"
          ],
          [
           "Lamden Tau"
          ],
          [
           "Electra"
          ],
          [
           "Bitcoin Diamond"
          ],
          [
           "SHIELD"
          ],
          [
           "Cash & Back Coin"
          ],
          [
           "UltraNote"
          ],
          [
           "BitCoal"
          ],
          [
           "DaxxCoin"
          ],
          [
           "Bulwark"
          ],
          [
           "Kalkulus"
          ],
          [
           "AC3"
          ],
          [
           "Lethean"
          ],
          [
           "GermanCoin"
          ],
          [
           "LiteCoin Ultra"
          ],
          [
           "PopularCoin"
          ],
          [
           "PhantomX"
          ],
          [
           "Photon"
          ],
          [
           "Sucre"
          ],
          [
           "SparksPay"
          ],
          [
           "Digiwage"
          ],
          [
           "GunCoin"
          ],
          [
           "IrishCoin"
          ],
          [
           "Trollcoin"
          ],
          [
           "Litecoin Plus"
          ],
          [
           "Monkey Project"
          ],
          [
           "Pioneer Coin"
          ],
          [
           "UnitedBitcoin"
          ],
          [
           "Interzone"
          ],
          [
           "TokenPay"
          ],
          [
           "1717 Masonic Commemorative Token"
          ],
          [
           "My Big Coin"
          ],
          [
           "TurtleCoin"
          ],
          [
           "MUNcoin"
          ],
          [
           "Unified Society USDEX"
          ],
          [
           "Niobio Cash"
          ],
          [
           "ShareChain"
          ],
          [
           "Travelflex"
          ],
          [
           "KREDS"
          ],
          [
           "Tokyo Coin"
          ],
          [
           "BiblePay"
          ],
          [
           "LitecoinCash"
          ],
          [
           "BitFlip"
          ],
          [
           "LottoCoin"
          ],
          [
           "Crypto Improvement Fund"
          ],
          [
           "Stipend"
          ],
          [
           "Poa Network"
          ],
          [
           "Pushi"
          ],
          [
           "Ellerium"
          ],
          [
           "Velox"
          ],
          [
           "Ontology"
          ],
          [
           "Callisto Network"
          ],
          [
           "BitTube"
          ],
          [
           "Poseidon"
          ],
          [
           "Aidos Kuneen"
          ],
          [
           "Bitspace"
          ],
          [
           "Briacoin"
          ],
          [
           "Ignition"
          ],
          [
           "Bitrolium"
          ],
          [
           "MedicCoin"
          ],
          [
           "Alpenschillling"
          ],
          [
           "Bitcoin Green"
          ],
          [
           "Deviant Coin"
          ],
          [
           "Abjcoin"
          ],
          [
           "Semux"
          ],
          [
           "FuturoCoin"
          ],
          [
           "Carebit"
          ],
          [
           "Zealium"
          ],
          [
           "Monero Classic"
          ],
          [
           "Proton"
          ],
          [
           "iDealCash"
          ],
          [
           "Jumpcoin"
          ],
          [
           "Infinex"
          ],
          [
           "Bitcoin Incognito"
          ],
          [
           "KEYCO"
          ],
          [
           "HollyWoodCoin"
          ],
          [
           "GINcoin"
          ],
          [
           "PlatinCoin"
          ],
          [
           "Loki"
          ],
          [
           "Newton Coin"
          ],
          [
           "Swisscoin"
          ],
          [
           "Xt3ch"
          ],
          [
           "MassGrid"
          ],
          [
           "TheVig"
          ],
          [
           "PluraCoin"
          ],
          [
           "EmaratCoin"
          ],
          [
           "Dekado"
          ],
          [
           "Lynx"
          ],
          [
           "Poseidon Quark"
          ],
          [
           "BitcoinWSpectrum"
          ],
          [
           "Muse"
          ],
          [
           "Motion"
          ],
          [
           "PlusOneCoin"
          ],
          [
           "Axe"
          ],
          [
           "Trivechain"
          ],
          [
           "Dystem"
          ],
          [
           "Giant"
          ],
          [
           "Peony Coin"
          ],
          [
           "Absolute Coin"
          ],
          [
           "Vitae"
          ],
          [
           "HexCoin"
          ],
          [
           "TPCash"
          ],
          [
           "Webchain"
          ],
          [
           "Ryo"
          ],
          [
           "Urals Coin"
          ],
          [
           "Qwertycoin"
          ],
          [
           "ARENON"
          ],
          [
           "EUNO"
          ],
          [
           "MMOCoin"
          ],
          [
           "Ketan"
          ],
          [
           "Project Pai"
          ],
          [
           "XDNA"
          ],
          [
           "PAXEX"
          ],
          [
           "Azart"
          ],
          [
           "ThunderStake"
          ],
          [
           "Kcash"
          ],
          [
           "Xchange"
          ],
          [
           "Acute Angle Cloud"
          ],
          [
           "CrypticCoin"
          ],
          [
           "Bettex coin"
          ],
          [
           "Actinium"
          ],
          [
           "Bitcoin SV"
          ],
          [
           "BitMoney"
          ],
          [
           "Junson Ming Chan Coin"
          ],
          [
           "FREDEnergy"
          ],
          [
           "HerbCoin"
          ],
          [
           "Universal Molecule"
          ],
          [
           "Lithium"
          ],
          [
           "PirateCash"
          ],
          [
           "Exosis"
          ],
          [
           "Block-Logic"
          ],
          [
           "Oduwa"
          ],
          [
           "Beam"
          ],
          [
           "Galilel"
          ],
          [
           "Bithereum"
          ],
          [
           "Crypto Sports"
          ],
          [
           "Credit"
          ],
          [
           "SLICE"
          ],
          [
           "Dash Platinum"
          ],
          [
           "Nasdacoin"
          ],
          [
           "Beetle Coin"
          ],
          [
           "Titan Coin"
          ],
          [
           "Award"
          ],
          [
           "BLAST"
          ],
          [
           "Bitcoin Rhodium"
          ],
          [
           "GlobalToken"
          ],
          [
           "Insane Coin"
          ],
          [
           "ALAX"
          ],
          [
           "LiteDoge"
          ],
          [
           "SolarCoin"
          ],
          [
           "TruckCoin"
          ],
          [
           "UFO Coin"
          ],
          [
           "OrangeCoin"
          ],
          [
           "BlakeCoin"
          ],
          [
           "BitstarCoin"
          ],
          [
           "NeosCoin"
          ],
          [
           "HyperCoin"
          ],
          [
           "PinkCoin"
          ],
          [
           "Crypto Escudo"
          ],
          [
           "AudioCoin"
          ],
          [
           "IncaKoin"
          ],
          [
           "Piggy Coin"
          ],
          [
           "Crown Coin"
          ],
          [
           "Genstake"
          ],
          [
           "SmileyCoin"
          ],
          [
           "XiaoMiCoin"
          ],
          [
           "Groestlcoin"
          ],
          [
           "CapriCoin"
          ],
          [
           " ClubCoin"
          ],
          [
           "Radium"
          ],
          [
           "Bata"
          ],
          [
           "Pakcoin"
          ],
          [
           "Creditbit "
          ],
          [
           "OKCash"
          ],
          [
           "Lisk"
          ],
          [
           "HiCoin"
          ],
          [
           "WhiteCoin"
          ],
          [
           "FriendshipCoin"
          ],
          [
           "JoinCoin"
          ],
          [
           "Triangles Coin"
          ],
          [
           "Vollar"
          ],
          [
           "EOS"
          ],
          [
           "Reality Clash"
          ],
          [
           "Oxycoin"
          ],
          [
           "TigerCash"
          ],
          [
           "Waves"
          ],
          [
           "Particl"
          ],
          [
           "BitTorrent"
          ],
          [
           "Nxt"
          ],
          [
           "ZEPHYR"
          ],
          [
           "Gapcoin"
          ],
          [
           "Beldex"
          ],
          [
           "Horizen"
          ],
          [
           "BitcoinPlus"
          ]
         ],
         "hovertemplate": "PCA1=%{x}<br>PCA2=%{y}<br>PCA3=%{z}<br>coin=%{customdata[0]}<br>class=%{marker.color}<extra></extra>",
         "legendgroup": "",
         "marker": {
          "color": [
           0,
           0,
           2,
           5,
           5,
           5,
           0,
           5,
           5,
           5,
           3,
           5,
           0,
           3,
           5,
           0,
           5,
           5,
           0,
           0,
           5,
           2,
           5,
           5,
           5,
           0,
           5,
           5,
           5,
           0,
           5,
           0,
           5,
           5,
           0,
           0,
           5,
           5,
           5,
           5,
           5,
           5,
           3,
           0,
           5,
           5,
           5,
           5,
           5,
           0,
           3,
           2,
           0,
           5,
           5,
           5,
           5,
           0,
           5,
           5,
           3,
           5,
           0,
           3,
           0,
           5,
           5,
           5,
           0,
           0,
           0,
           0,
           0,
           5,
           5,
           5,
           3,
           0,
           5,
           3,
           5,
           3,
           0,
           5,
           5,
           5,
           5,
           0,
           0,
           5,
           0,
           5,
           5,
           0,
           3,
           5,
           0,
           0,
           2,
           5,
           3,
           3,
           5,
           0,
           0,
           5,
           3,
           5,
           0,
           5,
           3,
           5,
           0,
           0,
           5,
           5,
           3,
           5,
           5,
           5,
           0,
           5,
           5,
           5,
           5,
           5,
           0,
           3,
           5,
           5,
           5,
           0,
           5,
           3,
           5,
           5,
           3,
           5,
           0,
           5,
           0,
           0,
           5,
           5,
           0,
           5,
           5,
           0,
           0,
           5,
           0,
           5,
           0,
           0,
           3,
           5,
           5,
           5,
           5,
           0,
           3,
           0,
           0,
           3,
           5,
           5,
           0,
           0,
           0,
           0,
           0,
           5,
           3,
           0,
           0,
           0,
           3,
           5,
           3,
           3,
           0,
           0,
           5,
           0,
           5,
           0,
           0,
           5,
           0,
           5,
           3,
           5,
           0,
           5,
           0,
           3,
           0,
           0,
           5,
           3,
           3,
           0,
           3,
           0,
           5,
           5,
           3,
           0,
           5,
           5,
           0,
           0,
           3,
           0,
           0,
           5,
           3,
           0,
           0,
           0,
           3,
           0,
           0,
           0,
           5,
           0,
           3,
           0,
           0,
           3,
           0,
           5,
           5,
           5,
           0,
           0,
           0,
           0,
           5,
           0,
           5,
           3,
           0,
           5,
           3,
           5,
           5,
           0,
           5,
           5,
           3,
           5,
           0,
           0,
           0,
           5,
           3,
           0,
           5,
           3,
           0,
           0,
           0,
           0,
           3,
           0,
           5,
           3,
           5,
           3,
           0,
           0,
           3,
           5,
           3,
           5,
           0,
           5,
           5,
           5,
           5,
           0,
           5,
           0,
           0,
           5,
           0,
           5,
           5,
           5,
           0,
           5,
           0,
           5,
           2,
           5,
           3,
           5,
           0,
           5,
           0,
           3,
           2,
           5,
           3,
           2,
           5,
           5,
           5,
           5,
           0,
           0,
           5,
           3,
           3,
           0,
           5,
           0,
           5,
           0,
           5,
           3,
           5,
           0,
           0,
           0,
           0,
           5,
           0,
           0,
           5,
           3,
           0,
           3,
           5,
           5,
           5,
           5,
           0,
           3,
           0,
           0,
           5,
           0,
           5,
           5,
           5,
           3,
           3,
           5,
           5,
           0,
           0,
           5,
           0,
           5,
           5,
           5,
           3,
           5,
           5,
           0,
           0,
           3,
           5,
           5,
           5,
           3,
           3,
           0,
           4,
           5,
           0,
           5,
           5,
           5,
           5,
           3,
           3,
           3,
           5,
           5,
           5,
           0,
           3,
           0,
           0,
           3,
           3,
           5,
           5,
           5,
           5,
           0,
           0,
           0,
           5,
           3,
           5,
           3,
           3,
           0,
           3,
           5,
           0,
           3,
           5,
           3,
           0,
           5,
           5,
           3,
           5,
           3,
           5,
           5,
           5,
           2,
           0,
           3,
           5,
           0,
           5,
           0,
           3,
           2,
           3,
           3,
           3,
           5,
           5,
           5,
           0,
           3,
           0,
           3,
           0,
           3,
           5,
           0,
           5,
           5,
           5,
           2,
           3,
           0,
           3,
           3,
           5,
           0,
           3,
           5,
           0,
           3,
           5,
           3,
           5,
           3,
           5,
           5,
           3,
           3,
           5,
           0,
           5,
           5,
           3,
           5,
           5,
           0,
           5,
           0,
           5,
           3,
           0,
           5,
           3,
           0,
           0,
           0,
           0,
           5,
           5,
           5,
           0,
           3,
           0,
           5,
           0,
           5,
           0,
           5,
           0,
           3,
           0,
           0,
           5,
           0,
           0,
           0,
           5,
           0,
           5,
           0,
           5,
           0,
           0,
           3,
           5,
           5,
           3,
           0,
           3,
           3,
           0,
           0,
           5,
           0,
           5,
           3,
           5,
           3,
           3,
           3,
           3,
           1,
           3,
           3,
           0,
           5,
           5,
           3
          ],
          "coloraxis": "coloraxis",
          "symbol": "circle"
         },
         "mode": "markers",
         "name": "",
         "scene": "scene",
         "showlegend": false,
         "type": "scatter3d",
         "x": [
          -0.2096911738652987,
          -0.1878048262789202,
          3.5292672875394655,
          -0.17992673208252907,
          -0.17306299706282713,
          -0.17696376516642037,
          -0.21790470080640362,
          -0.17383998752269064,
          -0.17078392767496742,
          -0.17469619468479236,
          -0.11235146147400388,
          0.22174427890515824,
          -0.21104889299047508,
          -0.19877361066009766,
          -0.1785077372142272,
          -0.19916764773649662,
          -0.18701775599943565,
          -0.1779594028642726,
          -0.2092354571557728,
          -0.19985419418146758,
          -0.12695138174801962,
          3.827963136884848,
          -0.17601675156507304,
          -0.1742114452524333,
          -0.17765881907686717,
          -0.20778604294897038,
          -0.16939999122699492,
          -0.1723777320697676,
          -0.17779584747648886,
          -0.20968529862143526,
          -0.17848526431047362,
          -0.20966465409496987,
          -0.17860622939831225,
          -0.1871338751691852,
          0.8514303913470436,
          -0.20479943431639602,
          0.24538898916017324,
          0.3293349564139477,
          0.15616334355825628,
          -0.17827332169507912,
          -0.17229967614685665,
          -0.17818042949980797,
          -0.19535483430858766,
          -0.17888147308023758,
          -0.17868122832611222,
          -0.1683457896389506,
          -0.15030593176853496,
          -0.17706907687027412,
          -0.177417405743116,
          -0.20705711735980487,
          -0.18008028173537646,
          2.1690438146824076,
          -0.21777126070089795,
          -0.1798777785495777,
          -0.17370211406152994,
          -0.17830828035044463,
          -0.17878497435541613,
          -0.20249254256315524,
          -0.1777872854140886,
          -0.17066724038218128,
          0.13216818954142673,
          -0.17862195905822334,
          -0.16107193690627444,
          -0.1970632037280987,
          -0.2010222696666218,
          0.01432766968143637,
          -0.1799761283868287,
          -0.17011816607869223,
          -0.20181072699438737,
          -0.2058679445636177,
          -0.20186149979216866,
          -0.20752364989287206,
          0.2441423534524123,
          -0.17857994283827075,
          -0.1758327021496326,
          -0.17788570379896068,
          -0.20528040336308925,
          -0.2182740404465684,
          -0.16243670758012557,
          -0.19033625771371535,
          -0.17925885292200297,
          -0.14312621369280026,
          -0.21814755944338052,
          -0.17963007920169,
          -0.17955336928576812,
          -0.18041766406180632,
          -0.18738036082672055,
          -0.1759834048990238,
          -0.20787005285684815,
          -0.17821776927229024,
          -0.18554266639933542,
          -0.17231728912185698,
          -0.17419503924146282,
          -0.21810907470171736,
          -0.1910741025766146,
          -0.17934705028827316,
          -0.20153303917674947,
          -0.19696582087692968,
          4.620178880059952,
          0.057116527117820434,
          -0.1291061964081311,
          -0.18605395683357445,
          -0.17666358120405143,
          -0.2099832251386275,
          -0.2040728010249862,
          -0.1548613915719881,
          -0.1970616708152188,
          -0.17495112485640205,
          -0.20188884069518107,
          -0.17878591933015608,
          -0.18956166074181052,
          -0.1747893674620181,
          -0.20966845134562026,
          -0.2018311531618439,
          -0.15611258750537332,
          -0.15178764429145505,
          -0.2058150800173549,
          -0.17294782644886694,
          -0.1736987654516528,
          -0.17862400163753853,
          -0.20930283613456882,
          -0.0031003834215763662,
          -0.1431822439627898,
          -0.1788001030579282,
          -0.18001132871552325,
          0.781142747446789,
          -0.21825063548997242,
          -0.17902789880578626,
          -0.18655589720895335,
          -0.17305697644125076,
          -0.17963413283391372,
          -0.204106427394579,
          -0.18693434276536888,
          -0.19482534672444365,
          -0.17611830279298335,
          -0.17503699064809936,
          -0.19489098370850486,
          -0.1743911697984048,
          -0.20116692427066638,
          0.339391143340658,
          -0.20019747226183718,
          -0.20273121547217465,
          -0.18698645465288385,
          -0.17987920081968028,
          -0.20255309624042256,
          -0.17337394508129486,
          -0.1723494216028997,
          -0.2110120354259315,
          0.22899086823167308,
          -0.17685854320566355,
          -0.21110943839018173,
          0.38178810289378445,
          -0.04932887874964591,
          -0.20911362415992282,
          -0.19454935503491597,
          -0.18582421644531205,
          -0.17335898824721224,
          -0.17704967243527453,
          -0.17286477154433266,
          -0.21410617513813876,
          1.4078660111755397,
          -0.21081326656415458,
          -0.12952869133301878,
          -0.19492445577484652,
          -0.17850574809007147,
          -0.18692681464043479,
          -0.21540845349761664,
          -0.20895590884048915,
          -0.20556242564850397,
          -0.20298277337888412,
          -0.21644615274768403,
          -0.17880018158127178,
          -0.19154282182065435,
          -0.17623507158332372,
          -0.20915851481949532,
          -0.20709964546245685,
          -0.1876724314360705,
          -0.18711686163735908,
          -0.189039058590311,
          -0.17836285388188008,
          -0.21751140913754102,
          -0.20808384208082556,
          -0.15392194364799988,
          -0.21107006232968117,
          -0.18022513367859183,
          -0.21823258528771283,
          -0.209432082801158,
          -0.1459536846459715,
          -0.20966114358288174,
          -0.1749204148803036,
          -0.19485696146244252,
          -0.18017139873405813,
          -0.1433475837146898,
          -0.17833099133645558,
          0.3075456596538369,
          -0.19352450648744493,
          -0.2091722069334334,
          -0.19852510720214187,
          -0.1736120753838854,
          -0.19272310875658694,
          -0.1897719090693467,
          -0.20169768490149198,
          -0.192026180477296,
          -0.1091510287715987,
          -0.17405092942552378,
          -0.1747235883647557,
          -0.15149385289549153,
          -0.2176770748615884,
          -0.07143406251627149,
          -0.16942556818114626,
          1.23405848731352,
          -0.2181742090021723,
          -0.19414699692746146,
          -0.2090244725690256,
          -0.2092150116247371,
          -0.18407003889164364,
          -0.19492445577484652,
          -0.21755404834428627,
          -0.21089749412388858,
          -0.20903344515791952,
          -0.192660677978961,
          -0.20922747359043004,
          -0.2027330155265399,
          -0.2182092855961861,
          -0.15391312235538718,
          -0.20805893508630408,
          0.6652489643225442,
          -0.2095017636208097,
          -0.20960524530393662,
          -0.1943424822180657,
          -0.2033817774072577,
          -0.17877399488826176,
          -0.15374167087371246,
          -0.17382280422696905,
          -0.20410300711962226,
          -0.2110401739956634,
          -0.21808885813072112,
          -0.20929947667036,
          0.8643460617092287,
          -0.209457544603952,
          -0.17200611283788186,
          -0.1968633806303806,
          -0.2068404925133285,
          -0.1787328704665823,
          -0.18946028471038606,
          -0.17649433233712486,
          -0.17474507492680197,
          -0.18377588004090525,
          -0.1762270517134724,
          -0.17344996487205475,
          -0.1965652020913321,
          -0.17332508936100963,
          -0.21702686482032418,
          -0.2037177890447899,
          -0.21541362764376254,
          -0.1360866034115806,
          -0.19257146910538672,
          -0.21689746597155862,
          -0.17367854398563945,
          -0.18505463903627412,
          -0.21117340889088904,
          -0.20938672454576449,
          -0.20937497619721293,
          -0.19924911339250986,
          0.5850408874822015,
          -0.21759086654350993,
          -0.1781316319942676,
          -0.17204488661759712,
          -0.13393756569320495,
          -0.19495340025055122,
          -0.20826491677423048,
          1.3653150381703154,
          -0.1968418748926028,
          -0.17785320824837436,
          -0.1898982499037493,
          -0.17194192948638373,
          0.6713835331891086,
          -0.1730764027581708,
          -0.1673892904668877,
          -0.1727843683373885,
          -0.10526643008402894,
          -0.20504483551487382,
          -0.18581163350112687,
          -0.20298723263589466,
          -0.2033655136271545,
          -0.1783342971751011,
          -0.20140308186600073,
          -0.17795358074283849,
          -0.18636983073522653,
          -0.1871612376633936,
          0.4520492180654124,
          -0.15336469389534088,
          -0.201508875733671,
          -0.17288776316170607,
          4.432299756484716,
          -0.08664366202958719,
          -0.1889602848917937,
          -0.17402525582573505,
          -0.20273810938138118,
          -0.17992567295717013,
          -0.2179802827593529,
          -0.19701196852445346,
          1.5863736759129534,
          -0.0692482741474821,
          -0.19473808396477277,
          2.035066355992487,
          -0.17845724257117407,
          -0.1776694730048366,
          -0.1772673217160589,
          -0.17725076024862718,
          -0.20888520624261916,
          -0.20958233071510649,
          -0.15308138763673715,
          -0.19102253763787783,
          0.6798108172895537,
          -0.2178799133769622,
          0.12477104987793466,
          -0.19895599150839613,
          -0.12677443532866794,
          -0.20950934861824558,
          -0.17473590238563327,
          -0.1920303802806144,
          -0.1745441822834674,
          0.8013666771930827,
          -0.20882993275896708,
          -0.18401450594839724,
          -0.20369436711921377,
          -0.17160318495195245,
          -0.20943877494749083,
          -0.20430817522759845,
          -0.17622478230832478,
          -0.19165948603832234,
          -0.20928356120296193,
          0.034147914921644804,
          -0.1810345266559631,
          -0.1745138826229243,
          -0.17161096281244986,
          -0.17466002108936712,
          -0.21618017541999807,
          -0.14479613358580423,
          0.5474623778544657,
          -0.19701286941067395,
          -0.15961153356639518,
          -0.20578193584597776,
          1.0312712784427183,
          -0.15394729233940077,
          -0.06232293093506406,
          -0.19251081589214217,
          -0.19419064422444768,
          -0.18041680147099787,
          -0.15684638360477451,
          0.3880596859404604,
          -0.20799568624552628,
          -0.06527485582744885,
          -0.21705301222150042,
          1.2328486543992494,
          -0.1871269819385707,
          -0.174741515884679,
          -0.1929870782379975,
          -0.16522379748528873,
          -0.1774442385673083,
          -0.19115067828709978,
          -0.20961066578367288,
          -0.20577805805257135,
          -0.1870278124650532,
          -0.17990077511505104,
          -0.17318306935854155,
          -0.1919123995206545,
          -0.19335447808148307,
          -0.20923263434572958,
          11.102830087303975,
          -0.17313494397192764,
          -0.20363476356785157,
          -0.14856804882439453,
          0.08033679211536085,
          -0.1710553593923357,
          -0.15254165032608108,
          -0.17792399202771123,
          -0.09873529754317638,
          -0.16191900215457444,
          -0.1782061064214831,
          0.23758319579111686,
          -0.17891079741032206,
          -0.20410656937091645,
          -0.17304457946934534,
          -0.21797965100051636,
          -0.2038775794042048,
          -0.19579280868218318,
          -0.17153725165335912,
          -0.10307368480704977,
          -0.14247382690253046,
          -0.1785340254226291,
          -0.17273442289872476,
          -0.20447859031073184,
          -0.20964678069365017,
          -0.2096207024609622,
          -0.17319455758013333,
          -0.18812732432854073,
          -0.1703989803058107,
          -0.19169865136322511,
          -0.19418587054981584,
          -0.2092251855227819,
          -0.15242890977624882,
          -0.18586330146515495,
          -0.20262031490015853,
          -0.19443656026828957,
          -0.1537074375747765,
          -0.19213781760520493,
          -0.13450936541855962,
          -0.17379344309979267,
          -0.1736030608424061,
          -0.18067856322823855,
          -0.17318266675518446,
          -0.19661200174713211,
          -0.17373481757657463,
          -0.14788548263944334,
          -0.16788583014571382,
          2.405047075995739,
          0.0546448331571777,
          -0.19690528324189233,
          -0.16952252022632017,
          -0.2026659826450721,
          -0.13504238868429083,
          -0.20848031317109422,
          -0.18959850393536457,
          1.9818409609326684,
          -0.18783746327381629,
          -0.19714860050639937,
          -0.1925377719709137,
          -0.1736530397337956,
          -0.1730296703164853,
          -0.1871026334410841,
          -0.20345127570336977,
          -0.19433305932713751,
          -0.20672509749865522,
          -0.021335042097901536,
          -0.20410680534652367,
          -0.19259581193990866,
          -0.17856357227755337,
          -0.19917319775436143,
          -0.15560501943176733,
          -0.17238601462132455,
          -0.1712156192831944,
          3.296250813035488,
          -0.20519320890969425,
          -0.21727598605206241,
          -0.19310130010049578,
          -0.19310716116725488,
          -0.12600126363530956,
          -0.20049199277511878,
          -0.20495223904210155,
          -0.1870605424060728,
          -0.005464274226896666,
          -0.15497005659890573,
          -0.17281475126736615,
          -0.1546352770430639,
          -0.030165121766586606,
          -0.1916746760101597,
          -0.1728649704925184,
          -0.17992572056116446,
          0.5413290361370745,
          0.06036097165317156,
          -0.04093424380627055,
          -0.20576036379105442,
          -0.17256192606855764,
          -0.17317464717004694,
          -0.19239174443703294,
          -0.17315736352653996,
          -0.1770177967006033,
          -0.20924328335561262,
          -0.17173499518619673,
          -0.2063890962659107,
          -0.17431797920400055,
          -0.19449236446001153,
          1.048008051469123,
          -0.1725537703314054,
          -0.205848772117775,
          -0.20849661171786874,
          -0.19621321271432254,
          -0.1381758250419197,
          -0.21365293400330382,
          -0.1789460268867564,
          -0.17113031499149525,
          -0.17736052382428263,
          -0.21759296445005502,
          -0.12855792174862307,
          0.39266135278364106,
          0.8456509418708152,
          -0.2145187857251221,
          -0.07413498938106901,
          -0.2075495522122652,
          -0.10028138186920364,
          -0.2088065044342688,
          -0.19880262196149512,
          -0.20954207459861363,
          -0.2063017295197605,
          -0.1563034145034426,
          -0.08494810904974762,
          0.0684085342082328,
          -0.2001884212069615,
          -0.17962928141934273,
          -0.20860580170731427,
          0.8008888614498859,
          -0.19925823374361237,
          -0.17179094410072415,
          -0.21298641443362182,
          -0.20641751602780967,
          -0.19528969617807962,
          -0.17868576692160631,
          -0.17583832734586727,
          -0.19419695193674288,
          -0.2090467389723735,
          -0.15094667193052277,
          0.06176641763012379,
          -0.20265958708501938,
          -0.205311981836103,
          -0.17387503078863245,
          -0.2020419307788316,
          -0.14989698754234296,
          -0.13867419359872865,
          -0.1740954414050062,
          -0.13709764589578455,
          -0.1731744442262263,
          -0.17801051899095752,
          -0.19520895827450085,
          25.530755352675868,
          -0.15805306935985808,
          -0.10872424737899251,
          -0.20685144755026047,
          -0.1243622130977279,
          -0.17469753407929767,
          -0.19747009225184095
         ],
         "y": [
          -0.8081703563629158,
          -0.8106167449261192,
          -0.3172464198649299,
          0.6999688016244492,
          0.693040785045272,
          0.5560279621164019,
          -0.7562869249902887,
          0.6835766957923077,
          0.6933659475275504,
          0.700172387489424,
          -0.12523317164618777,
          0.6876701116418985,
          -0.6642364737914636,
          -0.088467397925503,
          0.5561050045546799,
          -0.7069642234757092,
          0.6079623374162053,
          0.5561550106684432,
          -0.8081999471141755,
          -0.8101668080883042,
          0.6871703649248958,
          1.1832785772505843,
          0.6997333874447226,
          0.5560920330486184,
          0.5562290417431676,
          -0.8085570099168357,
          0.6484701487650638,
          0.6670969635300327,
          0.55606242330567,
          -0.8081696734275943,
          0.556100443595384,
          -0.8081719878154979,
          0.5560955111211486,
          0.6079784022513298,
          -0.23090095510450923,
          -0.6971469700269408,
          0.6661981754928964,
          0.6753042874538742,
          0.5387418713193596,
          0.5560574290542954,
          0.5558908034619067,
          0.5560798371376576,
          -0.13135541625261768,
          -0.1706042960546321,
          0.5561035898441091,
          0.6801214579068532,
          0.555631266248485,
          0.5559968216458622,
          0.5560759398847014,
          -0.8082548291697188,
          -0.18575002871788762,
          0.4194216978145695,
          -0.7563140071553854,
          0.6999588663230911,
          0.5560465056712807,
          0.5560607730524018,
          0.556087563891935,
          -0.7004996030082646,
          0.5560375569936606,
          0.6707829707516351,
          -0.29925595978785274,
          0.5560869254027588,
          -0.665387607387507,
          -0.23237653450973259,
          -0.7385788302881257,
          0.5731544344929906,
          0.6999788267878972,
          0.5555876230399579,
          -0.7384188099446065,
          -0.6840348576337092,
          -0.8081840017971442,
          -0.8082426664580344,
          -0.900277556725838,
          0.5561196589542988,
          0.5564210731583196,
          0.5560920404863691,
          -0.180635570423715,
          -0.7562944841862664,
          0.6996712452574682,
          -0.09932168182257244,
          0.699930823722085,
          -0.12630299060391345,
          -0.7562826478180923,
          0.6999873656283697,
          0.7001143347186456,
          0.699990605032952,
          0.6079609095956644,
          -0.8090098880696954,
          -0.8081648607080079,
          0.5560536564654512,
          -0.16924743445672139,
          0.6698760958126055,
          0.5561465466675963,
          -0.7563073378982385,
          -0.09954703255276175,
          0.6999411768316149,
          -0.7384751677187114,
          -0.8070020233202196,
          0.46398373041471,
          0.7356484096718391,
          -0.06170682789266346,
          -0.12095734595131623,
          0.5560462595931124,
          -0.6642802094610477,
          -0.6973108722925913,
          0.5575287847045136,
          -0.23243753665220349,
          0.5559285184221694,
          -0.7383579445885501,
          0.5560925494443872,
          -0.23208419612679312,
          0.5558717353304766,
          -0.8081749681402325,
          -0.7383771544694494,
          0.5552320457824588,
          0.6699523583176722,
          -0.18045203599339985,
          0.6890035325188669,
          0.6704519200190189,
          0.5560624758974942,
          -0.8081741512882596,
          0.5579365683117057,
          0.6713653180800447,
          0.5560878941369631,
          0.699985970825363,
          0.7063527621909433,
          -0.7562992380601398,
          -0.061005510497327414,
          0.6079173643402038,
          0.680374294725384,
          0.7000322999805958,
          -0.7001977208024567,
          0.6079491593813594,
          -0.11732136645727174,
          0.5563298974732203,
          0.5562595805532875,
          -0.232502986577915,
          0.6933737583762798,
          -0.7383619225559146,
          0.5693041627375012,
          -0.6627703408770066,
          -0.7074551874095396,
          0.6079409807282106,
          0.6999591549780917,
          -0.6967457930246612,
          0.555772019643477,
          0.6706807558225502,
          -0.6642439541711009,
          -0.7474797552682969,
          0.5560066069286028,
          -0.6642673222725726,
          0.6670078970858263,
          -0.7470990623486589,
          -0.8081300307624615,
          -0.23211825407009587,
          0.6079601675451166,
          0.677067133198983,
          0.5563617982710239,
          0.6705672792605986,
          -0.7556999911937258,
          -0.18681547637302046,
          -0.6642167772144848,
          -0.17379610819869348,
          -0.13136774335755827,
          0.5561008498636841,
          0.6079626354838779,
          -0.756594745138755,
          -0.6639083350591382,
          -0.6634632243165072,
          -0.7155768444846569,
          -0.7561440768062444,
          0.5560878987080651,
          -0.12285445806071164,
          -0.8074584150374375,
          -0.8081121677255925,
          -0.8083212177504995,
          -0.16224200694863536,
          0.6080012062278631,
          -0.18146741068165814,
          -0.024424888519739715,
          -0.7562617172513607,
          -0.8081589812994434,
          0.7410070525624695,
          -0.6642359283862944,
          0.6999871121757879,
          -0.75629164844316,
          -0.8081441692063086,
          0.6880261601974407,
          -0.8081764512778261,
          0.5560483715251964,
          -0.23288499060509024,
          0.6999795909807385,
          -0.1661589319499878,
          0.5561028922399718,
          -0.739251761714044,
          -0.13144931475935276,
          -0.808275682787064,
          -0.754676121010404,
          0.6803232588374454,
          -0.13173949547757477,
          -0.16255673039376098,
          -0.7003305567893013,
          -0.13090193066376102,
          -0.7015465007118284,
          0.6933395863253707,
          0.7001779471385308,
          -0.06972998699795006,
          -0.7563031145944651,
          0.571805142320208,
          0.6061924131621141,
          -1.0266454585205445,
          -0.7563002953062173,
          -0.13141300179284185,
          -0.8081611028373757,
          -0.8081094537998577,
          0.6081442933782069,
          -0.13136774335755827,
          -0.7562155535573661,
          -0.6642747027355514,
          -0.8081800623064916,
          -0.11713631530305683,
          -0.8081594384696622,
          -0.8071419215162204,
          -0.7562888752203867,
          0.7410465231478208,
          -0.8079614827600864,
          -0.2854835271586205,
          -0.8081600351519964,
          -0.8081753585469498,
          -0.1395672700595654,
          -0.6937534768989655,
          0.556090452992607,
          0.7410267303961696,
          0.6803204579113696,
          -0.8074290002898401,
          -0.6642419943347082,
          -0.756296984607647,
          -0.8081748331040001,
          0.7696082112941319,
          -0.8081355007152978,
          0.6838984374218273,
          -0.23227147588452082,
          -0.808336303895594,
          0.5560845287057757,
          -0.16257487107211363,
          0.6095025405353893,
          0.700167303952675,
          -0.8096789708090074,
          0.5559384592382407,
          0.6802860496825254,
          -0.23240916362592742,
          0.6705790070451376,
          -0.7561725077774782,
          -0.700156884293767,
          -0.7564624103464899,
          0.5624206704996224,
          -0.13150661366542607,
          -0.7561987697545077,
          0.6488445415096127,
          -0.13194548280101084,
          -0.7558600920581193,
          -0.808152579168799,
          -0.8081272516731781,
          -0.8065386206225323,
          0.03373196515505664,
          -0.7562831009842579,
          0.5560831384908641,
          -0.2300128042147854,
          0.699933835812567,
          -0.13132435906009957,
          -0.808065966654893,
          -0.6882054655388454,
          -0.08815582425565575,
          0.5561634660035465,
          -0.12293878914810873,
          0.6835853319034568,
          -0.6901075889711713,
          0.6705199349507088,
          0.6734335303429189,
          0.6705735146213044,
          0.7385967071566011,
          -0.7154584205830673,
          0.608017629643606,
          -0.7154634097360952,
          -0.7033893723008166,
          0.5560633405470198,
          -0.738389013311888,
          0.5561950899467262,
          0.6079808782113958,
          0.6079873314629454,
          -0.7549234842239547,
          0.7410590002529958,
          -0.738409184850212,
          0.6705606559667437,
          0.370443897240208,
          0.6683940737552049,
          -0.12173155197392736,
          0.6093765313715843,
          -0.7035167063230883,
          0.6999685866710234,
          -0.7563184454644666,
          -0.23238233457795862,
          -0.09077488040465802,
          0.5732370238810858,
          -0.13124952712024726,
          0.10677314886006004,
          0.5560910054884425,
          0.5561711881436716,
          0.5561495858995128,
          0.5561462246881773,
          -0.8081529378324187,
          -0.8081766924804938,
          0.7411323700954145,
          -0.12242949244369188,
          -0.12961630341546662,
          -0.7562732007368729,
          0.7180864350297705,
          -0.6839514090735237,
          0.602412495432767,
          -0.808148243041492,
          0.6802592988502709,
          -0.11857747870557837,
          0.7001415360079011,
          -0.9195935316377125,
          -0.6643942427260805,
          -0.7152629249661863,
          -0.7007087028280211,
          0.6771845617978977,
          -0.8081428110103513,
          -0.7151467867616728,
          0.5559379986540359,
          -0.12162080738644741,
          -0.8081976123363493,
          -0.10202765641579291,
          0.6079858457789524,
          0.6802817569501737,
          0.6937963667410241,
          0.6802619032154466,
          -0.7561793029386152,
          -0.06968269243925178,
          -0.7556903389649898,
          -0.7386048448831128,
          0.6887725363059138,
          -0.8081760428174527,
          0.8192643987058292,
          0.7410215746507,
          0.7080755858587818,
          -0.13963976899060696,
          -0.1395793311900986,
          0.6086106743299379,
          0.6838768267825575,
          -0.7419365709799813,
          -0.8079518134021126,
          0.5518001541418205,
          -0.7563547506082589,
          0.719969880780184,
          0.6079837550281179,
          0.6802379321855971,
          -0.13944850029192854,
          0.6801030005031027,
          0.5560504561607152,
          -0.8085573271960463,
          -0.808171691971245,
          -0.180455798747817,
          0.6079756313858373,
          0.6999604052351014,
          0.6672605400703775,
          -0.12281133431594814,
          -0.09506427442375813,
          -0.8081508890934845,
          2.2073607625494103,
          0.6705944228053978,
          -0.8085292976083983,
          0.7411432827403478,
          0.5410026835959295,
          0.6768621725258621,
          0.6696735631725839,
          -0.16196989442294293,
          -0.05462413209042938,
          -0.05821741340112935,
          0.556115056291169,
          0.5406234463896916,
          0.608117475668556,
          -0.6970025317015657,
          -0.05824460216932098,
          -0.7562604605974006,
          -0.7012135737106788,
          -0.23222993406890638,
          -0.12202991341297957,
          0.7032176347237507,
          0.7423970956941037,
          0.5561103398442269,
          0.6705444965693989,
          -0.7154233025162727,
          -0.8081681133069702,
          -0.8081659039994469,
          0.7000514232130839,
          -0.23237530002993514,
          0.6807161753092745,
          -0.12161282954782536,
          -0.13126257459411958,
          -0.8081524008597717,
          -0.06714515614560744,
          0.6080281158488342,
          -0.7154893442849501,
          -0.13124170411140532,
          0.7409950260813124,
          -0.11847936726161161,
          -0.8042163916100873,
          0.6487656387087363,
          0.6803369263101458,
          -0.06233606788875662,
          0.6706094201839121,
          -0.23243127289758983,
          0.6803072840210277,
          0.741995016927549,
          0.6739244217356157,
          0.9117995925818001,
          -0.8235582242959775,
          -0.2323042324933158,
          0.6704291915015967,
          -0.710347131753048,
          0.740888857702462,
          -0.8081010219640764,
          -0.1315855499531793,
          -0.2639999443159185,
          -0.13850560862240027,
          -0.088468004543783,
          -0.12367516327795229,
          0.6699124497096679,
          0.6705895619539393,
          0.607983314599138,
          -0.6943384465231415,
          -0.13954667652512473,
          -0.7153871402267168,
          -0.2047851830053196,
          -0.6943156445657178,
          -0.13960292905773722,
          0.5561204823196005,
          -0.8065540279832951,
          0.6864400752858166,
          0.670711677636075,
          0.6632455933549087,
          0.6622476571537016,
          -0.18044696236465338,
          -0.7563094972410749,
          -0.23226605097669314,
          -0.13102388178548038,
          0.6968227374854472,
          -0.6964074608268138,
          -0.18032707350572172,
          0.607989776030667,
          -0.7821011289630553,
          -0.060286673127919584,
          0.6700346092884887,
          -0.05910063765486345,
          0.6992680290817944,
          -0.12543168376615652,
          0.6804064431523118,
          0.6999685963324308,
          -0.011815699378244204,
          -0.23454847425007022,
          0.748346275405591,
          -0.7153997043638314,
          0.6772581799506884,
          0.6770828628079242,
          -0.08815051186791194,
          0.6706155726106996,
          0.5561739636879172,
          -0.8081824867551074,
          0.7004783906411826,
          -0.7154032504206979,
          0.7001327095482939,
          -0.13954296501690236,
          -0.7828509699293034,
          0.6705946380920554,
          -0.18044632335372282,
          -0.808097714113465,
          -0.701118649422684,
          -0.7050557935856357,
          -0.7556569424947321,
          0.699931056468944,
          0.6258877481241976,
          0.6999993757822077,
          -0.7563201851149272,
          -0.07110280242122839,
          -0.7991353592528067,
          0.7161416287500294,
          -0.757056630832461,
          0.6747446565430564,
          -0.8078548084184203,
          0.6884512068602967,
          -0.808146389261285,
          -0.08842962655181112,
          -0.8082006167704839,
          -0.7568488174831116,
          0.555270774830574,
          -0.7941020208772029,
          -0.7203232302657465,
          -0.756214040684263,
          0.6999872037154788,
          -0.8083343719688131,
          0.5448035989024826,
          -0.8087873641291324,
          0.6670566435400496,
          -0.7565874251795177,
          -0.808234599001565,
          -0.13133487736043412,
          0.556081120491359,
          0.5561671474343411,
          -0.11704949748815983,
          -0.6643314861454109,
          -0.06971006080815005,
          -0.2474246076782499,
          -0.808472145919586,
          -0.6839361434080785,
          0.6892022148582759,
          -0.7383714361588075,
          0.6737129934670177,
          -0.07280065833032033,
          0.6933421775138081,
          -0.07312062454296807,
          -0.08995874037158595,
          -0.05772988026809345,
          -0.131352635755395,
          -1.5679164041684726,
          -0.06916615326977875,
          -0.03741401342054079,
          -0.8078089418098162,
          0.7402225077458704,
          0.7001726593245142,
          -0.23235089501363557
         ],
         "z": [
          0.1689066158349965,
          0.1584719430468155,
          2.9106378035909213,
          -0.16502538553664775,
          -0.1529536781319984,
          -0.09033466728126636,
          0.11731702958775345,
          -0.14888749785988747,
          -0.1508865909665908,
          -0.1537524217892744,
          -0.09445353197095076,
          -0.10876464835509159,
          0.09438851215232955,
          -0.10948688027380134,
          -0.09011810903976683,
          0.12199092340087225,
          -0.14188849448613916,
          -0.08977427878268995,
          0.1688054395810916,
          0.15933912230128036,
          -0.1571963456557446,
          3.845830512783629,
          -0.16579301882327907,
          -0.08962540729544563,
          -0.08933227585612558,
          0.16705367569439838,
          -0.14669276732305275,
          -0.144336624488483,
          -0.09025634606723026,
          0.16891110002360857,
          -0.09013996629158628,
          0.16890122039528652,
          -0.09018264862719179,
          -0.14181635377646132,
          -0.19381110860230125,
          0.11469667241461484,
          -0.22243369419639114,
          -0.23239199308453992,
          -0.14066709818790807,
          -0.09034610267550688,
          -0.09046910297889041,
          -0.09021206468787883,
          -0.09907026143626523,
          -0.0068545931439769345,
          -0.09014854720031241,
          -0.1483352238243655,
          -0.08899714249913344,
          -0.09051782200739023,
          -0.09013322641451739,
          0.1687925596769622,
          -0.11166255669904575,
          -0.5256666248865598,
          0.11718724511393386,
          -0.16507299797289116,
          -0.08980622139065662,
          -0.09033250039328934,
          -0.09024930076467184,
          0.11557334664921952,
          -0.09039045177047234,
          -0.14353754124896634,
          -0.35533001646957535,
          -0.0902314017107898,
          0.09468038221739411,
          -0.034787965413061527,
          0.1303036826327816,
          0.027880950350081184,
          -0.16497734245890988,
          -0.09183186554271817,
          0.13107053993573012,
          0.11050588922087716,
          0.169858878701701,
          0.16879754066471833,
          -0.2724940068318658,
          -0.090047881510436,
          -0.08804856521688159,
          -0.0901070618199363,
          -0.08715279995651228,
          0.11722750070971003,
          -0.16435061842014667,
          -0.09692405967654237,
          -0.16514435838814365,
          -0.08921811403111442,
          0.1173084509959053,
          -0.16488553944647247,
          -0.16418499839962294,
          -0.164971175194941,
          -0.14194379673290305,
          0.16876015293577257,
          0.16917525115628182,
          -0.0903593358824106,
          -0.00034180866572102706,
          -0.1456659938230575,
          -0.08932680004377162,
          0.11717922653889745,
          -0.09824629532542728,
          -0.16509961868705614,
          0.1308004594590873,
          0.17692854715526843,
          -0.9690207228940169,
          -0.08986863349536708,
          -0.06092435567774402,
          -0.0847156939883073,
          -0.0901958076971473,
          0.09429037742477563,
          0.11390059928407488,
          -0.07927526191780439,
          -0.03511950681688667,
          -0.0906116058549065,
          0.13139129773195116,
          -0.09022231217714691,
          -0.03221471671330858,
          -0.0908991977655629,
          0.16888451494881107,
          0.13129439322526812,
          -0.09192943868019529,
          -0.14557365392410734,
          -0.0862247975233255,
          -0.1532573279561526,
          -0.14527561691214522,
          -0.09036463099965458,
          0.168936889282174,
          -0.057161794815948276,
          -0.1367433333297725,
          -0.09024948819492896,
          -0.16494310645377044,
          0.8527706150475673,
          0.11720471654024481,
          -0.05378993939755788,
          -0.14207251780264446,
          -0.14733994235186676,
          -0.16464170850191853,
          0.1157377669078128,
          -0.14194922391935122,
          -0.05219138416053118,
          -0.08858183982012939,
          -0.08882247796333312,
          -0.035190860269083836,
          -0.15131702306813533,
          0.13146430789589736,
          -0.6474581604668231,
          0.1037842689064163,
          0.11885377575489751,
          -0.1420005330041447,
          -0.16507161466630432,
          0.11796499579280131,
          -0.09125591071061813,
          -0.14431598726714753,
          0.09435266431181387,
          0.2238002244914772,
          -0.09043700665487026,
          0.09421281418414364,
          -0.2706328906555547,
          -0.035439714967347276,
          0.1692016315730203,
          -0.033053817192907786,
          -0.14174382176684827,
          -0.14663203145984588,
          -0.08853045910919854,
          -0.145001997952031,
          0.12100688431951195,
          0.42338864638862944,
          0.09452651684809214,
          -0.01186669535530264,
          -0.09908087621495555,
          -0.09014044234157624,
          -0.1418749511278219,
          0.11597029724841092,
          0.09644738902765503,
          0.09931287939161978,
          0.11584066549166235,
          0.11828508331608668,
          -0.09024947363072693,
          -0.09049001105829291,
          0.17716439325827288,
          0.1692928893301002,
          0.1684259493033727,
          -0.07034330648343069,
          -0.14169011052534078,
          -0.089547281830129,
          -0.06356474196189954,
          0.11750567503061131,
          0.16917919685732846,
          -0.08839434124851546,
          0.09438870288083691,
          -0.16496492936407667,
          0.11724835683960462,
          0.16908299386789924,
          -0.1550335527861058,
          0.1688774073844231,
          -0.0899557936183351,
          -0.03726381749612997,
          -0.16499878654427913,
          0.022041755234797074,
          -0.0901064248784861,
          0.02835422110572709,
          -0.09934094527549388,
          0.16840186530103454,
          0.1286175804713389,
          -0.147684075763356,
          -0.10081394534638596,
          -0.07233007952521461,
          0.11533167238396581,
          -0.09616772603601466,
          0.17877439205130616,
          -0.1514582523222338,
          -0.15372577856738429,
          -0.09442452304704174,
          0.11725882888637132,
          0.009299862658414362,
          -0.14920737729933292,
          -1.2481237371154557,
          0.11720898652149242,
          -0.09922507623500647,
          0.16904434291741774,
          0.1693002414978473,
          -0.14051253457657592,
          -0.09908087621495555,
          0.11775113282656885,
          0.09420046356245941,
          0.16894006106605372,
          -0.052221063129504926,
          0.16902678067996915,
          0.17541167288754322,
          0.11726649279072313,
          -0.08817853550580568,
          0.17025650039391776,
          -0.21054581381297408,
          0.16898757639816228,
          0.16889067814219968,
          -0.08978474358921724,
          0.11432629232440497,
          -0.09023214982571542,
          -0.08826369534152662,
          -0.1477331181258523,
          0.17367087288856561,
          0.09435963334668794,
          0.1172381802822829,
          0.16893362185149413,
          0.8750091719207379,
          0.1691267968891269,
          -0.14689737899140948,
          -0.034190437915841365,
          0.1683778826300224,
          -0.0902589759245388,
          -0.07238787839001837,
          -0.132132928903055,
          -0.15378647531736994,
          0.16409994870184466,
          -0.09072481952345905,
          -0.14787135804112225,
          -0.03490012137868074,
          -0.14499878318054182,
          0.11805433846550233,
          0.11601141683051369,
          0.11668928310798654,
          -0.05021079401902238,
          -0.09952760555544914,
          0.11792848453698318,
          -0.1426363084789781,
          -0.10092881164938593,
          0.12052070783814851,
          0.16904320520185137,
          0.16918248161081223,
          0.17914928818801704,
          0.6578167442721026,
          0.11737896897406688,
          -0.09018771389218329,
          -0.018653608100935613,
          -0.15918636123961033,
          -0.09884873797877704,
          0.1696612910098262,
          0.4291085025378754,
          -0.10753922731051242,
          -0.08971437480280713,
          -0.09073301785925265,
          -0.14859169764524544,
          0.2860778404093281,
          -0.14528776739768703,
          -0.147619820724423,
          -0.1449574384070224,
          -0.09512356852578895,
          0.11621434319288865,
          -0.1414296812726081,
          0.11645696269517412,
          0.11748810650636106,
          -0.09032194862570771,
          0.13128602247700202,
          -0.08955555603199494,
          -0.1417027228312889,
          -0.14177138208270754,
          0.5452283147328197,
          -0.08803878348370756,
          0.13116245587945186,
          -0.14504110427872238,
          -0.49530546031182454,
          -0.12661211136036835,
          -0.08931572317882,
          -0.13249449729275126,
          0.11687789018795146,
          -0.16502641564695003,
          0.11713570589035291,
          -0.03481279046258603,
          -0.00018378543347690008,
          0.017373289770191005,
          -0.09841355834265024,
          -2.2434790485688474,
          -0.09018761903724498,
          -0.08964829252060412,
          -0.08971304802939169,
          -0.08972915579045918,
          0.16910700371977833,
          0.1688864280340687,
          -0.08760264155878274,
          -0.08952031112369437,
          -0.017768120921793865,
          0.11739491456890165,
          -0.017071967076301205,
          0.11186585632670525,
          -0.16417179818561117,
          0.16905070996102384,
          -0.14842335925626687,
          -0.09033553765307746,
          -0.15390026976530263,
          -0.3044862455547675,
          0.09382143728532619,
          0.12003456347255345,
          0.11574034295902,
          -0.14576324459957354,
          0.16908950268087747,
          0.11542429804648686,
          -0.09072702675757244,
          -0.0890682372038908,
          0.16881183015330967,
          -0.15269440147280974,
          -0.1409762502673845,
          -0.14827212065552067,
          -0.148654305783157,
          -0.14839924814420866,
          0.1181283858685442,
          -0.09328925496394914,
          -0.003921587037963478,
          0.13068784186286136,
          -0.15276514669580554,
          0.16938819247046513,
          0.49256414953305194,
          -0.08831869031634793,
          -0.05667328389505543,
          -0.08735752566063103,
          -0.08983042858395936,
          -0.1374973186245337,
          -0.1450274629830632,
          0.6074648344457388,
          0.17031737629592728,
          -0.09868396226808392,
          0.11705983603548016,
          0.3282145227798246,
          -0.14178634055840603,
          -0.14854029156254672,
          -0.08896115548885591,
          -0.14802630613702478,
          -0.09027532999932962,
          0.16923284510903727,
          0.1689099071208777,
          -0.08624040658998113,
          -0.14181751750949304,
          -0.16506764389625703,
          -0.144199459415658,
          -0.09030394674775916,
          -0.09580375132561285,
          0.16907259739544267,
          9.361702043071931,
          -0.144889756255239,
          0.16774861336720107,
          -0.08695159799891919,
          -0.1383131839205733,
          -0.14744464479035196,
          -0.14417482403568666,
          -0.06758548228864274,
          -0.0274095336614445,
          -0.05538432394428119,
          -0.09002390183072016,
          -0.1197605652100777,
          -0.13998199876788142,
          0.11492617406571026,
          -0.05486812434488288,
          0.11745112250975212,
          0.11946794634096161,
          -0.03382417297351492,
          -0.08864468925651413,
          -0.08843425521096827,
          -0.07933414980135901,
          -0.0900925410047134,
          -0.14510891391310232,
          0.11647955725807867,
          0.16892463398176538,
          0.16894006751069052,
          -0.15421338625036832,
          -0.033609759050625715,
          -0.1451260775914262,
          -0.08902994446745556,
          -0.09841211809555542,
          0.16906535263523229,
          -0.0892417227509293,
          -0.1413794287679409,
          0.11378267715861656,
          -0.09833148545950701,
          -0.08843162203299795,
          -0.08982669961715287,
          0.20026542896883748,
          -0.14308046162367802,
          -0.14761475120154954,
          -0.050503628717601924,
          -0.14481435672419535,
          -0.03502649163811542,
          -0.14778704163616152,
          -0.0822302055513221,
          -0.14214848107435427,
          1.1758917120193815,
          0.11987860921955786,
          -0.03437406861229875,
          -0.14531367160659947,
          0.11865492344721043,
          -0.08656200154219802,
          0.1694424144814089,
          -0.08436233288381133,
          -0.23080883565103222,
          -0.08315839994536416,
          -0.10927714050214442,
          -0.09301595048946396,
          -0.14565403796651777,
          -0.1449023587611062,
          -0.14178554361713866,
          0.11368533065214827,
          -0.08967151631538739,
          0.1138003474970308,
          0.1382975028970642,
          0.11373401999876481,
          -0.08974967633555746,
          -0.09004125769919726,
          0.17907545228152974,
          -0.13092524049871315,
          -0.14415238249539974,
          -0.13836336808389263,
          0.24849884820820714,
          -0.0861156788248852,
          0.11727670143112233,
          -0.03366772770925341,
          -0.09697263813391467,
          -0.17506471404634424,
          0.1187138110792533,
          -0.08543210708695428,
          -0.1417448868744055,
          0.3374506379781932,
          -0.06041691964187762,
          -0.14487980916461538,
          -0.05923788882472457,
          -0.1397225003947501,
          -0.08434724932664484,
          -0.14713375673113244,
          -0.16502636934708143,
          0.6296168828354769,
          -0.3455168498839808,
          -0.03366943981707902,
          0.11385849760429136,
          -0.1453371411412808,
          -0.14637087999655113,
          -0.09744682735018413,
          -0.14477751050695956,
          -0.08954776382613679,
          0.16889936663975313,
          -0.15170009986003086,
          0.11375678663556821,
          -0.15391861468896176,
          -0.08967221724881243,
          0.47148297578770026,
          -0.14434937751727392,
          -0.08619814802918674,
          0.16945826652460938,
          0.12098896220846907,
          0.1558849775411112,
          0.12130041199243533,
          -0.16510208119647402,
          -0.12785047481390288,
          -0.16452268721549468,
          0.11717702270477215,
          -0.09888328096773949,
          0.29700917705316077,
          0.9144615308120535,
          0.11357510191824331,
          -0.16522436296991738,
          0.1709033977535324,
          -0.07499115427687914,
          0.16915293401501658,
          -0.10928527504809911,
          0.16876160033066737,
          0.11578248958357193,
          -0.09174383944493439,
          0.26176696202661404,
          -0.17398611845555872,
          0.12003599233739379,
          -0.16488631537333323,
          0.16815695697044442,
          -0.023178701101032036,
          0.16691895650069483,
          -0.144478965148809,
          0.11632763382124182,
          0.16898642722740842,
          -0.09895002705540916,
          -0.09027133523447982,
          -0.0894302037054,
          -0.05195064181033732,
          0.09413429737906398,
          -0.09424442489625229,
          -0.08268998393466058,
          0.16818726171722023,
          0.11111560442465222,
          -0.15229840838032715,
          0.13129785766363794,
          -0.12484076437012498,
          -0.10944281772322098,
          -0.15144999641589524,
          -0.11097617542930707,
          -0.11424106294312909,
          -0.05485644025365446,
          -0.09903601617743818,
          -4.878986440040655,
          -0.06937771826450453,
          -0.12019700996044806,
          0.17124435139329103,
          -0.08878558144697153,
          -0.15375111908788303,
          -0.03470187553763009
         ]
        }
       ],
       "layout": {
        "coloraxis": {
         "colorbar": {
          "title": {
           "text": "class"
          }
         },
         "colorscale": [
          [
           0,
           "rgb(0,0,255)"
          ],
          [
           1,
           "rgb(255,0,0)"
          ]
         ]
        },
        "legend": {
         "tracegroupgap": 0
        },
        "margin": {
         "t": 60
        },
        "scene": {
         "domain": {
          "x": [
           0,
           1
          ],
          "y": [
           0,
           1
          ]
         },
         "xaxis": {
          "title": {
           "text": "PCA1"
          }
         },
         "yaxis": {
          "title": {
           "text": "PCA2"
          }
         },
         "zaxis": {
          "title": {
           "text": "PCA3"
          }
         }
        },
        "template": {
         "data": {
          "bar": [
           {
            "error_x": {
             "color": "#2a3f5f"
            },
            "error_y": {
             "color": "#2a3f5f"
            },
            "marker": {
             "line": {
              "color": "#E5ECF6",
              "width": 0.5
             },
             "pattern": {
              "fillmode": "overlay",
              "size": 10,
              "solidity": 0.2
             }
            },
            "type": "bar"
           }
          ],
          "barpolar": [
           {
            "marker": {
             "line": {
              "color": "#E5ECF6",
              "width": 0.5
             },
             "pattern": {
              "fillmode": "overlay",
              "size": 10,
              "solidity": 0.2
             }
            },
            "type": "barpolar"
           }
          ],
          "carpet": [
           {
            "aaxis": {
             "endlinecolor": "#2a3f5f",
             "gridcolor": "white",
             "linecolor": "white",
             "minorgridcolor": "white",
             "startlinecolor": "#2a3f5f"
            },
            "baxis": {
             "endlinecolor": "#2a3f5f",
             "gridcolor": "white",
             "linecolor": "white",
             "minorgridcolor": "white",
             "startlinecolor": "#2a3f5f"
            },
            "type": "carpet"
           }
          ],
          "choropleth": [
           {
            "colorbar": {
             "outlinewidth": 0,
             "ticks": ""
            },
            "type": "choropleth"
           }
          ],
          "contour": [
           {
            "colorbar": {
             "outlinewidth": 0,
             "ticks": ""
            },
            "colorscale": [
             [
              0,
              "#0d0887"
             ],
             [
              0.1111111111111111,
              "#46039f"
             ],
             [
              0.2222222222222222,
              "#7201a8"
             ],
             [
              0.3333333333333333,
              "#9c179e"
             ],
             [
              0.4444444444444444,
              "#bd3786"
             ],
             [
              0.5555555555555556,
              "#d8576b"
             ],
             [
              0.6666666666666666,
              "#ed7953"
             ],
             [
              0.7777777777777778,
              "#fb9f3a"
             ],
             [
              0.8888888888888888,
              "#fdca26"
             ],
             [
              1,
              "#f0f921"
             ]
            ],
            "type": "contour"
           }
          ],
          "contourcarpet": [
           {
            "colorbar": {
             "outlinewidth": 0,
             "ticks": ""
            },
            "type": "contourcarpet"
           }
          ],
          "heatmap": [
           {
            "colorbar": {
             "outlinewidth": 0,
             "ticks": ""
            },
            "colorscale": [
             [
              0,
              "#0d0887"
             ],
             [
              0.1111111111111111,
              "#46039f"
             ],
             [
              0.2222222222222222,
              "#7201a8"
             ],
             [
              0.3333333333333333,
              "#9c179e"
             ],
             [
              0.4444444444444444,
              "#bd3786"
             ],
             [
              0.5555555555555556,
              "#d8576b"
             ],
             [
              0.6666666666666666,
              "#ed7953"
             ],
             [
              0.7777777777777778,
              "#fb9f3a"
             ],
             [
              0.8888888888888888,
              "#fdca26"
             ],
             [
              1,
              "#f0f921"
             ]
            ],
            "type": "heatmap"
           }
          ],
          "heatmapgl": [
           {
            "colorbar": {
             "outlinewidth": 0,
             "ticks": ""
            },
            "colorscale": [
             [
              0,
              "#0d0887"
             ],
             [
              0.1111111111111111,
              "#46039f"
             ],
             [
              0.2222222222222222,
              "#7201a8"
             ],
             [
              0.3333333333333333,
              "#9c179e"
             ],
             [
              0.4444444444444444,
              "#bd3786"
             ],
             [
              0.5555555555555556,
              "#d8576b"
             ],
             [
              0.6666666666666666,
              "#ed7953"
             ],
             [
              0.7777777777777778,
              "#fb9f3a"
             ],
             [
              0.8888888888888888,
              "#fdca26"
             ],
             [
              1,
              "#f0f921"
             ]
            ],
            "type": "heatmapgl"
           }
          ],
          "histogram": [
           {
            "marker": {
             "pattern": {
              "fillmode": "overlay",
              "size": 10,
              "solidity": 0.2
             }
            },
            "type": "histogram"
           }
          ],
          "histogram2d": [
           {
            "colorbar": {
             "outlinewidth": 0,
             "ticks": ""
            },
            "colorscale": [
             [
              0,
              "#0d0887"
             ],
             [
              0.1111111111111111,
              "#46039f"
             ],
             [
              0.2222222222222222,
              "#7201a8"
             ],
             [
              0.3333333333333333,
              "#9c179e"
             ],
             [
              0.4444444444444444,
              "#bd3786"
             ],
             [
              0.5555555555555556,
              "#d8576b"
             ],
             [
              0.6666666666666666,
              "#ed7953"
             ],
             [
              0.7777777777777778,
              "#fb9f3a"
             ],
             [
              0.8888888888888888,
              "#fdca26"
             ],
             [
              1,
              "#f0f921"
             ]
            ],
            "type": "histogram2d"
           }
          ],
          "histogram2dcontour": [
           {
            "colorbar": {
             "outlinewidth": 0,
             "ticks": ""
            },
            "colorscale": [
             [
              0,
              "#0d0887"
             ],
             [
              0.1111111111111111,
              "#46039f"
             ],
             [
              0.2222222222222222,
              "#7201a8"
             ],
             [
              0.3333333333333333,
              "#9c179e"
             ],
             [
              0.4444444444444444,
              "#bd3786"
             ],
             [
              0.5555555555555556,
              "#d8576b"
             ],
             [
              0.6666666666666666,
              "#ed7953"
             ],
             [
              0.7777777777777778,
              "#fb9f3a"
             ],
             [
              0.8888888888888888,
              "#fdca26"
             ],
             [
              1,
              "#f0f921"
             ]
            ],
            "type": "histogram2dcontour"
           }
          ],
          "mesh3d": [
           {
            "colorbar": {
             "outlinewidth": 0,
             "ticks": ""
            },
            "type": "mesh3d"
           }
          ],
          "parcoords": [
           {
            "line": {
             "colorbar": {
              "outlinewidth": 0,
              "ticks": ""
             }
            },
            "type": "parcoords"
           }
          ],
          "pie": [
           {
            "automargin": true,
            "type": "pie"
           }
          ],
          "scatter": [
           {
            "marker": {
             "colorbar": {
              "outlinewidth": 0,
              "ticks": ""
             }
            },
            "type": "scatter"
           }
          ],
          "scatter3d": [
           {
            "line": {
             "colorbar": {
              "outlinewidth": 0,
              "ticks": ""
             }
            },
            "marker": {
             "colorbar": {
              "outlinewidth": 0,
              "ticks": ""
             }
            },
            "type": "scatter3d"
           }
          ],
          "scattercarpet": [
           {
            "marker": {
             "colorbar": {
              "outlinewidth": 0,
              "ticks": ""
             }
            },
            "type": "scattercarpet"
           }
          ],
          "scattergeo": [
           {
            "marker": {
             "colorbar": {
              "outlinewidth": 0,
              "ticks": ""
             }
            },
            "type": "scattergeo"
           }
          ],
          "scattergl": [
           {
            "marker": {
             "colorbar": {
              "outlinewidth": 0,
              "ticks": ""
             }
            },
            "type": "scattergl"
           }
          ],
          "scattermapbox": [
           {
            "marker": {
             "colorbar": {
              "outlinewidth": 0,
              "ticks": ""
             }
            },
            "type": "scattermapbox"
           }
          ],
          "scatterpolar": [
           {
            "marker": {
             "colorbar": {
              "outlinewidth": 0,
              "ticks": ""
             }
            },
            "type": "scatterpolar"
           }
          ],
          "scatterpolargl": [
           {
            "marker": {
             "colorbar": {
              "outlinewidth": 0,
              "ticks": ""
             }
            },
            "type": "scatterpolargl"
           }
          ],
          "scatterternary": [
           {
            "marker": {
             "colorbar": {
              "outlinewidth": 0,
              "ticks": ""
             }
            },
            "type": "scatterternary"
           }
          ],
          "surface": [
           {
            "colorbar": {
             "outlinewidth": 0,
             "ticks": ""
            },
            "colorscale": [
             [
              0,
              "#0d0887"
             ],
             [
              0.1111111111111111,
              "#46039f"
             ],
             [
              0.2222222222222222,
              "#7201a8"
             ],
             [
              0.3333333333333333,
              "#9c179e"
             ],
             [
              0.4444444444444444,
              "#bd3786"
             ],
             [
              0.5555555555555556,
              "#d8576b"
             ],
             [
              0.6666666666666666,
              "#ed7953"
             ],
             [
              0.7777777777777778,
              "#fb9f3a"
             ],
             [
              0.8888888888888888,
              "#fdca26"
             ],
             [
              1,
              "#f0f921"
             ]
            ],
            "type": "surface"
           }
          ],
          "table": [
           {
            "cells": {
             "fill": {
              "color": "#EBF0F8"
             },
             "line": {
              "color": "white"
             }
            },
            "header": {
             "fill": {
              "color": "#C8D4E3"
             },
             "line": {
              "color": "white"
             }
            },
            "type": "table"
           }
          ]
         },
         "layout": {
          "annotationdefaults": {
           "arrowcolor": "#2a3f5f",
           "arrowhead": 0,
           "arrowwidth": 1
          },
          "autotypenumbers": "strict",
          "coloraxis": {
           "colorbar": {
            "outlinewidth": 0,
            "ticks": ""
           }
          },
          "colorscale": {
           "diverging": [
            [
             0,
             "#8e0152"
            ],
            [
             0.1,
             "#c51b7d"
            ],
            [
             0.2,
             "#de77ae"
            ],
            [
             0.3,
             "#f1b6da"
            ],
            [
             0.4,
             "#fde0ef"
            ],
            [
             0.5,
             "#f7f7f7"
            ],
            [
             0.6,
             "#e6f5d0"
            ],
            [
             0.7,
             "#b8e186"
            ],
            [
             0.8,
             "#7fbc41"
            ],
            [
             0.9,
             "#4d9221"
            ],
            [
             1,
             "#276419"
            ]
           ],
           "sequential": [
            [
             0,
             "#0d0887"
            ],
            [
             0.1111111111111111,
             "#46039f"
            ],
            [
             0.2222222222222222,
             "#7201a8"
            ],
            [
             0.3333333333333333,
             "#9c179e"
            ],
            [
             0.4444444444444444,
             "#bd3786"
            ],
            [
             0.5555555555555556,
             "#d8576b"
            ],
            [
             0.6666666666666666,
             "#ed7953"
            ],
            [
             0.7777777777777778,
             "#fb9f3a"
            ],
            [
             0.8888888888888888,
             "#fdca26"
            ],
            [
             1,
             "#f0f921"
            ]
           ],
           "sequentialminus": [
            [
             0,
             "#0d0887"
            ],
            [
             0.1111111111111111,
             "#46039f"
            ],
            [
             0.2222222222222222,
             "#7201a8"
            ],
            [
             0.3333333333333333,
             "#9c179e"
            ],
            [
             0.4444444444444444,
             "#bd3786"
            ],
            [
             0.5555555555555556,
             "#d8576b"
            ],
            [
             0.6666666666666666,
             "#ed7953"
            ],
            [
             0.7777777777777778,
             "#fb9f3a"
            ],
            [
             0.8888888888888888,
             "#fdca26"
            ],
            [
             1,
             "#f0f921"
            ]
           ]
          },
          "colorway": [
           "#636efa",
           "#EF553B",
           "#00cc96",
           "#ab63fa",
           "#FFA15A",
           "#19d3f3",
           "#FF6692",
           "#B6E880",
           "#FF97FF",
           "#FECB52"
          ],
          "font": {
           "color": "#2a3f5f"
          },
          "geo": {
           "bgcolor": "white",
           "lakecolor": "white",
           "landcolor": "#E5ECF6",
           "showlakes": true,
           "showland": true,
           "subunitcolor": "white"
          },
          "hoverlabel": {
           "align": "left"
          },
          "hovermode": "closest",
          "mapbox": {
           "style": "light"
          },
          "paper_bgcolor": "white",
          "plot_bgcolor": "#E5ECF6",
          "polar": {
           "angularaxis": {
            "gridcolor": "white",
            "linecolor": "white",
            "ticks": ""
           },
           "bgcolor": "#E5ECF6",
           "radialaxis": {
            "gridcolor": "white",
            "linecolor": "white",
            "ticks": ""
           }
          },
          "scene": {
           "xaxis": {
            "backgroundcolor": "#E5ECF6",
            "gridcolor": "white",
            "gridwidth": 2,
            "linecolor": "white",
            "showbackground": true,
            "ticks": "",
            "zerolinecolor": "white"
           },
           "yaxis": {
            "backgroundcolor": "#E5ECF6",
            "gridcolor": "white",
            "gridwidth": 2,
            "linecolor": "white",
            "showbackground": true,
            "ticks": "",
            "zerolinecolor": "white"
           },
           "zaxis": {
            "backgroundcolor": "#E5ECF6",
            "gridcolor": "white",
            "gridwidth": 2,
            "linecolor": "white",
            "showbackground": true,
            "ticks": "",
            "zerolinecolor": "white"
           }
          },
          "shapedefaults": {
           "line": {
            "color": "#2a3f5f"
           }
          },
          "ternary": {
           "aaxis": {
            "gridcolor": "white",
            "linecolor": "white",
            "ticks": ""
           },
           "baxis": {
            "gridcolor": "white",
            "linecolor": "white",
            "ticks": ""
           },
           "bgcolor": "#E5ECF6",
           "caxis": {
            "gridcolor": "white",
            "linecolor": "white",
            "ticks": ""
           }
          },
          "title": {
           "x": 0.05
          },
          "xaxis": {
           "automargin": true,
           "gridcolor": "white",
           "linecolor": "white",
           "ticks": "",
           "title": {
            "standoff": 15
           },
           "zerolinecolor": "white",
           "zerolinewidth": 2
          },
          "yaxis": {
           "automargin": true,
           "gridcolor": "white",
           "linecolor": "white",
           "ticks": "",
           "title": {
            "standoff": 15
           },
           "zerolinecolor": "white",
           "zerolinewidth": 2
          }
         }
        }
       }
      },
      "text/html": [
       "<div>                            <div id=\"c063ba9d-3392-438c-afe8-4bfb984f8300\" class=\"plotly-graph-div\" style=\"height:525px; width:100%;\"></div>            <script type=\"text/javascript\">                require([\"plotly\"], function(Plotly) {                    window.PLOTLYENV=window.PLOTLYENV || {};                                    if (document.getElementById(\"c063ba9d-3392-438c-afe8-4bfb984f8300\")) {                    Plotly.newPlot(                        \"c063ba9d-3392-438c-afe8-4bfb984f8300\",                        [{\"customdata\":[[\"42 Coin\"],[\"404Coin\"],[\"EliteCoin\"],[\"Bitcoin\"],[\"Ethereum\"],[\"Litecoin\"],[\"Dash\"],[\"Monero\"],[\"Ethereum Classic\"],[\"ZCash\"],[\"Bitshares\"],[\"DigiByte\"],[\"BitcoinDark\"],[\"PayCoin\"],[\"ProsperCoin\"],[\"KoboCoin\"],[\"Spreadcoin\"],[\"Argentum\"],[\"Aurora Coin\"],[\"BlueCoin\"],[\"MyriadCoin\"],[\"MoonCoin\"],[\"ZetaCoin\"],[\"SexCoin\"],[\"Quatloo\"],[\"EnergyCoin\"],[\"QuarkCoin\"],[\"Riecoin\"],[\"Digitalcoin \"],[\"BitBar\"],[\"Catcoin\"],[\"CryptoBullion\"],[\"CannaCoin\"],[\"CryptCoin\"],[\"CasinoCoin\"],[\"Diamond\"],[\"Verge\"],[\"DevCoin\"],[\"EarthCoin\"],[\"E-Gulden\"],[\"Einsteinium\"],[\"Emerald\"],[\"Exclusive Coin\"],[\"FlutterCoin\"],[\"Franko\"],[\"FeatherCoin\"],[\"GrandCoin\"],[\"GlobalCoin\"],[\"GoldCoin\"],[\"HoboNickels\"],[\"HyperStake\"],[\"Infinite Coin\"],[\"IOCoin\"],[\"IXcoin\"],[\"KrugerCoin\"],[\"LuckyCoin\"],[\"Litebar \"],[\"MaxCoin\"],[\"MegaCoin\"],[\"MediterraneanCoin\"],[\"MintCoin\"],[\"MinCoin\"],[\"MazaCoin\"],[\"Nautilus Coin\"],[\"NavCoin\"],[\"NobleCoin\"],[\"Namecoin\"],[\"NyanCoin\"],[\"OpalCoin\"],[\"Orbitcoin\"],[\"PotCoin\"],[\"PhoenixCoin\"],[\"Reddcoin\"],[\"RonPaulCoin\"],[\"StableCoin\"],[\"SmartCoin\"],[\"SuperCoin\"],[\"SyncCoin\"],[\"SysCoin\"],[\"TeslaCoin\"],[\"TigerCoin\"],[\"TittieCoin\"],[\"TorCoin\"],[\"TerraCoin\"],[\"UnbreakableCoin\"],[\"Unobtanium\"],[\"UroCoin\"],[\"UnitaryStatus Dollar\"],[\"UltraCoin\"],[\"ViaCoin\"],[\"VeriCoin\"],[\"Vertcoin\"],[\"WorldCoin\"],[\"X11 Coin\"],[\"Crypti\"],[\"JouleCoin\"],[\"StealthCoin\"],[\"ZCC Coin\"],[\"ByteCoin\"],[\"DigitalNote \"],[\"BurstCoin\"],[\"StorjCoin\"],[\"MonaCoin\"],[\"Neutron\"],[\"FairCoin\"],[\"Gulden\"],[\"RubyCoin\"],[\"PesetaCoin\"],[\"Kore\"],[\"Wild Beast Coin\"],[\"Dnotes\"],[\"Flo\"],[\"8BIT Coin\"],[\"Sativa Coin\"],[\"ArtByte\"],[\"Folding Coin\"],[\"Ucoin\"],[\"Unitus\"],[\"CypherPunkCoin\"],[\"OmniCron\"],[\"Vtorrent\"],[\"GreenCoin\"],[\"Cryptonite\"],[\"MasterCoin\"],[\"SoonCoin\"],[\"1Credit\"],[\"IslaCoin\"],[\"Nexus\"],[\"MarsCoin \"],[\"Crypto\"],[\"Anarchists Prime\"],[\"Droidz\"],[\"BowsCoin\"],[\"Squall Coin\"],[\"Song Coin\"],[\"BitZeny\"],[\"Diggits\"],[\"Expanse\"],[\"Paycon\"],[\"Siacoin\"],[\"Emercoin\"],[\"EverGreenCoin\"],[\"MindCoin\"],[\"I0coin\"],[\"Decred\"],[\"Revolution VR\"],[\"HOdlcoin\"],[\"EDRCoin\"],[\"Hitcoin\"],[\"Gamecredits\"],[\"DubaiCoin\"],[\"CarpeDiemCoin\"],[\"PWR Coin\"],[\"BillaryCoin\"],[\"GPU Coin\"],[\"Adzcoin\"],[\"SoilCoin\"],[\"YoCoin\"],[\"SibCoin\"],[\"EuropeCoin\"],[\"ZeitCoin\"],[\"SwingCoin\"],[\"SafeExchangeCoin\"],[\"Nebuchadnezzar\"],[\"Francs\"],[\"BolivarCoin\"],[\"Ratecoin\"],[\"Revenu\"],[\"Clockcoin\"],[\"VIP Tokens\"],[\"BitSend\"],[\"Omni\"],[\"Let it Ride\"],[\"PutinCoin\"],[\"iBankCoin\"],[\"Frankywillcoin\"],[\"MudraCoin\"],[\"PizzaCoin\"],[\"Lutetium Coin\"],[\"Komodo\"],[\"GoldBlocks\"],[\"CarterCoin\"],[\"Karbo\"],[\"BitTokens\"],[\"ZayedCoin\"],[\"MustangCoin\"],[\"ZoneCoin\"],[\"Circuits of Value\"],[\"RootCoin\"],[\"DopeCoin\"],[\"BitCurrency\"],[\"DollarCoin\"],[\"Swiscoin\"],[\"Shilling\"],[\"BuzzCoin\"],[\"Opair\"],[\"PesoBit\"],[\"Halloween Coin\"],[\"ZCoin\"],[\"CoffeeCoin\"],[\"RoyalCoin\"],[\"GanjaCoin V2\"],[\"TeamUP\"],[\"LanaCoin\"],[\"Elementrem\"],[\"ZClassic\"],[\"ARK\"],[\"InsaneCoin\"],[\"KiloCoin\"],[\"ArtexCoin\"],[\"EmberCoin\"],[\"XenixCoin\"],[\"FreeCoin\"],[\"PLNCoin\"],[\"AquariusCoin\"],[\"Kurrent\"],[\"Creatio\"],[\"Eternity\"],[\"Eurocoin\"],[\"BitcoinFast\"],[\"Stakenet\"],[\"BitConnect Coin\"],[\"MoneyCoin\"],[\"Enigma\"],[\"Cannabis Industry Coin\"],[\"Russiacoin\"],[\"PandaCoin\"],[\"GameUnits\"],[\"GAKHcoin\"],[\"Allsafe\"],[\"LiteCreed\"],[\"OsmiumCoin\"],[\"Bikercoins\"],[\"HexxCoin\"],[\"Klingon Empire Darsek\"],[\"Internet of People\"],[\"KushCoin\"],[\"Printerium\"],[\"PacCoin\"],[\"Impeach\"],[\"Citadel\"],[\"Zilbercoin\"],[\"FirstCoin\"],[\"BeaverCoin\"],[\"FindCoin\"],[\"VaultCoin\"],[\"Zero\"],[\"OpenChat\"],[\"Canada eCoin\"],[\"Zoin\"],[\"RenosCoin\"],[\"DubaiCoin\"],[\"VirtacoinPlus\"],[\"TajCoin\"],[\"Impact\"],[\"EB3coin\"],[\"Atmos\"],[\"HappyCoin\"],[\"Coinonat\"],[\"MacronCoin\"],[\"Condensate\"],[\"Independent Money System\"],[\"ArgusCoin\"],[\"LomoCoin\"],[\"ProCurrency\"],[\"GoldReserve\"],[\"BenjiRolls\"],[\"GrowthCoin\"],[\"ILCoin\"],[\"Phreak\"],[\"Degas Coin\"],[\"HTML5 Coin\"],[\"Ultimate Secure Cash\"],[\"EquiTrader\"],[\"QTUM\"],[\"Quantum Resistant Ledger\"],[\"Espers\"],[\"Dynamic\"],[\"Nano\"],[\"ChanCoin\"],[\"Dinastycoin\"],[\"Denarius\"],[\"DigitalPrice\"],[\"Virta Unique Coin\"],[\"Bitcoin Planet\"],[\"Unify\"],[\"BritCoin\"],[\"SocialCoin\"],[\"ArcticCoin\"],[\"DAS\"],[\"Linda\"],[\"LeviarCoin\"],[\"DeepOnion\"],[\"Bitcore\"],[\"gCn Coin\"],[\"SmartCash\"],[\"Signatum\"],[\"Onix\"],[\"Cream\"],[\"Bitcoin Cash\"],[\"Monoeci\"],[\"Draftcoin\"],[\"Vechain\"],[\"Sojourn Coin\"],[\"Stakecoin\"],[\"NewYorkCoin\"],[\"FrazCoin\"],[\"Kronecoin\"],[\"AdCoin\"],[\"Linx\"],[\"CoinonatX\"],[\"Ethereum Dark\"],[\"Sumokoin\"],[\"Obsidian\"],[\"Cardano\"],[\"Regalcoin\"],[\"BitcoinZ\"],[\"TrezarCoin\"],[\"Elements\"],[\"TerraNovaCoin\"],[\"VIVO Coin\"],[\"Rupee\"],[\"Bitcoin Gold\"],[\"WomenCoin\"],[\"Theresa May Coin\"],[\"NamoCoin\"],[\"LUXCoin\"],[\"Pirl\"],[\"Xios\"],[\"Bitcloud 2.0\"],[\"eBoost\"],[\"KekCoin\"],[\"BlackholeCoin\"],[\"Infinity Economics\"],[\"Pura\"],[\"Innova\"],[\"Ellaism\"],[\"GoByte\"],[\"Magnet\"],[\"Lamden Tau\"],[\"Electra\"],[\"Bitcoin Diamond\"],[\"SHIELD\"],[\"Cash & Back Coin\"],[\"UltraNote\"],[\"BitCoal\"],[\"DaxxCoin\"],[\"Bulwark\"],[\"Kalkulus\"],[\"AC3\"],[\"Lethean\"],[\"GermanCoin\"],[\"LiteCoin Ultra\"],[\"PopularCoin\"],[\"PhantomX\"],[\"Photon\"],[\"Sucre\"],[\"SparksPay\"],[\"Digiwage\"],[\"GunCoin\"],[\"IrishCoin\"],[\"Trollcoin\"],[\"Litecoin Plus\"],[\"Monkey Project\"],[\"Pioneer Coin\"],[\"UnitedBitcoin\"],[\"Interzone\"],[\"TokenPay\"],[\"1717 Masonic Commemorative Token\"],[\"My Big Coin\"],[\"TurtleCoin\"],[\"MUNcoin\"],[\"Unified Society USDEX\"],[\"Niobio Cash\"],[\"ShareChain\"],[\"Travelflex\"],[\"KREDS\"],[\"Tokyo Coin\"],[\"BiblePay\"],[\"LitecoinCash\"],[\"BitFlip\"],[\"LottoCoin\"],[\"Crypto Improvement Fund\"],[\"Stipend\"],[\"Poa Network\"],[\"Pushi\"],[\"Ellerium\"],[\"Velox\"],[\"Ontology\"],[\"Callisto Network\"],[\"BitTube\"],[\"Poseidon\"],[\"Aidos Kuneen\"],[\"Bitspace\"],[\"Briacoin\"],[\"Ignition\"],[\"Bitrolium\"],[\"MedicCoin\"],[\"Alpenschillling\"],[\"Bitcoin Green\"],[\"Deviant Coin\"],[\"Abjcoin\"],[\"Semux\"],[\"FuturoCoin\"],[\"Carebit\"],[\"Zealium\"],[\"Monero Classic\"],[\"Proton\"],[\"iDealCash\"],[\"Jumpcoin\"],[\"Infinex\"],[\"Bitcoin Incognito\"],[\"KEYCO\"],[\"HollyWoodCoin\"],[\"GINcoin\"],[\"PlatinCoin\"],[\"Loki\"],[\"Newton Coin\"],[\"Swisscoin\"],[\"Xt3ch\"],[\"MassGrid\"],[\"TheVig\"],[\"PluraCoin\"],[\"EmaratCoin\"],[\"Dekado\"],[\"Lynx\"],[\"Poseidon Quark\"],[\"BitcoinWSpectrum\"],[\"Muse\"],[\"Motion\"],[\"PlusOneCoin\"],[\"Axe\"],[\"Trivechain\"],[\"Dystem\"],[\"Giant\"],[\"Peony Coin\"],[\"Absolute Coin\"],[\"Vitae\"],[\"HexCoin\"],[\"TPCash\"],[\"Webchain\"],[\"Ryo\"],[\"Urals Coin\"],[\"Qwertycoin\"],[\"ARENON\"],[\"EUNO\"],[\"MMOCoin\"],[\"Ketan\"],[\"Project Pai\"],[\"XDNA\"],[\"PAXEX\"],[\"Azart\"],[\"ThunderStake\"],[\"Kcash\"],[\"Xchange\"],[\"Acute Angle Cloud\"],[\"CrypticCoin\"],[\"Bettex coin\"],[\"Actinium\"],[\"Bitcoin SV\"],[\"BitMoney\"],[\"Junson Ming Chan Coin\"],[\"FREDEnergy\"],[\"HerbCoin\"],[\"Universal Molecule\"],[\"Lithium\"],[\"PirateCash\"],[\"Exosis\"],[\"Block-Logic\"],[\"Oduwa\"],[\"Beam\"],[\"Galilel\"],[\"Bithereum\"],[\"Crypto Sports\"],[\"Credit\"],[\"SLICE\"],[\"Dash Platinum\"],[\"Nasdacoin\"],[\"Beetle Coin\"],[\"Titan Coin\"],[\"Award\"],[\"BLAST\"],[\"Bitcoin Rhodium\"],[\"GlobalToken\"],[\"Insane Coin\"],[\"ALAX\"],[\"LiteDoge\"],[\"SolarCoin\"],[\"TruckCoin\"],[\"UFO Coin\"],[\"OrangeCoin\"],[\"BlakeCoin\"],[\"BitstarCoin\"],[\"NeosCoin\"],[\"HyperCoin\"],[\"PinkCoin\"],[\"Crypto Escudo\"],[\"AudioCoin\"],[\"IncaKoin\"],[\"Piggy Coin\"],[\"Crown Coin\"],[\"Genstake\"],[\"SmileyCoin\"],[\"XiaoMiCoin\"],[\"Groestlcoin\"],[\"CapriCoin\"],[\" ClubCoin\"],[\"Radium\"],[\"Bata\"],[\"Pakcoin\"],[\"Creditbit \"],[\"OKCash\"],[\"Lisk\"],[\"HiCoin\"],[\"WhiteCoin\"],[\"FriendshipCoin\"],[\"JoinCoin\"],[\"Triangles Coin\"],[\"Vollar\"],[\"EOS\"],[\"Reality Clash\"],[\"Oxycoin\"],[\"TigerCash\"],[\"Waves\"],[\"Particl\"],[\"BitTorrent\"],[\"Nxt\"],[\"ZEPHYR\"],[\"Gapcoin\"],[\"Beldex\"],[\"Horizen\"],[\"BitcoinPlus\"]],\"hovertemplate\":\"PCA1=%{x}<br>PCA2=%{y}<br>PCA3=%{z}<br>coin=%{customdata[0]}<br>class=%{marker.color}<extra></extra>\",\"legendgroup\":\"\",\"marker\":{\"color\":[0,0,2,5,5,5,0,5,5,5,3,5,0,3,5,0,5,5,0,0,5,2,5,5,5,0,5,5,5,0,5,0,5,5,0,0,5,5,5,5,5,5,3,0,5,5,5,5,5,0,3,2,0,5,5,5,5,0,5,5,3,5,0,3,0,5,5,5,0,0,0,0,0,5,5,5,3,0,5,3,5,3,0,5,5,5,5,0,0,5,0,5,5,0,3,5,0,0,2,5,3,3,5,0,0,5,3,5,0,5,3,5,0,0,5,5,3,5,5,5,0,5,5,5,5,5,0,3,5,5,5,0,5,3,5,5,3,5,0,5,0,0,5,5,0,5,5,0,0,5,0,5,0,0,3,5,5,5,5,0,3,0,0,3,5,5,0,0,0,0,0,5,3,0,0,0,3,5,3,3,0,0,5,0,5,0,0,5,0,5,3,5,0,5,0,3,0,0,5,3,3,0,3,0,5,5,3,0,5,5,0,0,3,0,0,5,3,0,0,0,3,0,0,0,5,0,3,0,0,3,0,5,5,5,0,0,0,0,5,0,5,3,0,5,3,5,5,0,5,5,3,5,0,0,0,5,3,0,5,3,0,0,0,0,3,0,5,3,5,3,0,0,3,5,3,5,0,5,5,5,5,0,5,0,0,5,0,5,5,5,0,5,0,5,2,5,3,5,0,5,0,3,2,5,3,2,5,5,5,5,0,0,5,3,3,0,5,0,5,0,5,3,5,0,0,0,0,5,0,0,5,3,0,3,5,5,5,5,0,3,0,0,5,0,5,5,5,3,3,5,5,0,0,5,0,5,5,5,3,5,5,0,0,3,5,5,5,3,3,0,4,5,0,5,5,5,5,3,3,3,5,5,5,0,3,0,0,3,3,5,5,5,5,0,0,0,5,3,5,3,3,0,3,5,0,3,5,3,0,5,5,3,5,3,5,5,5,2,0,3,5,0,5,0,3,2,3,3,3,5,5,5,0,3,0,3,0,3,5,0,5,5,5,2,3,0,3,3,5,0,3,5,0,3,5,3,5,3,5,5,3,3,5,0,5,5,3,5,5,0,5,0,5,3,0,5,3,0,0,0,0,5,5,5,0,3,0,5,0,5,0,5,0,3,0,0,5,0,0,0,5,0,5,0,5,0,0,3,5,5,3,0,3,3,0,0,5,0,5,3,5,3,3,3,3,1,3,3,0,5,5,3],\"coloraxis\":\"coloraxis\",\"symbol\":\"circle\"},\"mode\":\"markers\",\"name\":\"\",\"scene\":\"scene\",\"showlegend\":false,\"type\":\"scatter3d\",\"x\":[-0.2096911738652987,-0.1878048262789202,3.5292672875394655,-0.17992673208252907,-0.17306299706282713,-0.17696376516642037,-0.21790470080640362,-0.17383998752269064,-0.17078392767496742,-0.17469619468479236,-0.11235146147400388,0.22174427890515824,-0.21104889299047508,-0.19877361066009766,-0.1785077372142272,-0.19916764773649662,-0.18701775599943565,-0.1779594028642726,-0.2092354571557728,-0.19985419418146758,-0.12695138174801962,3.827963136884848,-0.17601675156507304,-0.1742114452524333,-0.17765881907686717,-0.20778604294897038,-0.16939999122699492,-0.1723777320697676,-0.17779584747648886,-0.20968529862143526,-0.17848526431047362,-0.20966465409496987,-0.17860622939831225,-0.1871338751691852,0.8514303913470436,-0.20479943431639602,0.24538898916017324,0.3293349564139477,0.15616334355825628,-0.17827332169507912,-0.17229967614685665,-0.17818042949980797,-0.19535483430858766,-0.17888147308023758,-0.17868122832611222,-0.1683457896389506,-0.15030593176853496,-0.17706907687027412,-0.177417405743116,-0.20705711735980487,-0.18008028173537646,2.1690438146824076,-0.21777126070089795,-0.1798777785495777,-0.17370211406152994,-0.17830828035044463,-0.17878497435541613,-0.20249254256315524,-0.1777872854140886,-0.17066724038218128,0.13216818954142673,-0.17862195905822334,-0.16107193690627444,-0.1970632037280987,-0.2010222696666218,0.01432766968143637,-0.1799761283868287,-0.17011816607869223,-0.20181072699438737,-0.2058679445636177,-0.20186149979216866,-0.20752364989287206,0.2441423534524123,-0.17857994283827075,-0.1758327021496326,-0.17788570379896068,-0.20528040336308925,-0.2182740404465684,-0.16243670758012557,-0.19033625771371535,-0.17925885292200297,-0.14312621369280026,-0.21814755944338052,-0.17963007920169,-0.17955336928576812,-0.18041766406180632,-0.18738036082672055,-0.1759834048990238,-0.20787005285684815,-0.17821776927229024,-0.18554266639933542,-0.17231728912185698,-0.17419503924146282,-0.21810907470171736,-0.1910741025766146,-0.17934705028827316,-0.20153303917674947,-0.19696582087692968,4.620178880059952,0.057116527117820434,-0.1291061964081311,-0.18605395683357445,-0.17666358120405143,-0.2099832251386275,-0.2040728010249862,-0.1548613915719881,-0.1970616708152188,-0.17495112485640205,-0.20188884069518107,-0.17878591933015608,-0.18956166074181052,-0.1747893674620181,-0.20966845134562026,-0.2018311531618439,-0.15611258750537332,-0.15178764429145505,-0.2058150800173549,-0.17294782644886694,-0.1736987654516528,-0.17862400163753853,-0.20930283613456882,-0.0031003834215763662,-0.1431822439627898,-0.1788001030579282,-0.18001132871552325,0.781142747446789,-0.21825063548997242,-0.17902789880578626,-0.18655589720895335,-0.17305697644125076,-0.17963413283391372,-0.204106427394579,-0.18693434276536888,-0.19482534672444365,-0.17611830279298335,-0.17503699064809936,-0.19489098370850486,-0.1743911697984048,-0.20116692427066638,0.339391143340658,-0.20019747226183718,-0.20273121547217465,-0.18698645465288385,-0.17987920081968028,-0.20255309624042256,-0.17337394508129486,-0.1723494216028997,-0.2110120354259315,0.22899086823167308,-0.17685854320566355,-0.21110943839018173,0.38178810289378445,-0.04932887874964591,-0.20911362415992282,-0.19454935503491597,-0.18582421644531205,-0.17335898824721224,-0.17704967243527453,-0.17286477154433266,-0.21410617513813876,1.4078660111755397,-0.21081326656415458,-0.12952869133301878,-0.19492445577484652,-0.17850574809007147,-0.18692681464043479,-0.21540845349761664,-0.20895590884048915,-0.20556242564850397,-0.20298277337888412,-0.21644615274768403,-0.17880018158127178,-0.19154282182065435,-0.17623507158332372,-0.20915851481949532,-0.20709964546245685,-0.1876724314360705,-0.18711686163735908,-0.189039058590311,-0.17836285388188008,-0.21751140913754102,-0.20808384208082556,-0.15392194364799988,-0.21107006232968117,-0.18022513367859183,-0.21823258528771283,-0.209432082801158,-0.1459536846459715,-0.20966114358288174,-0.1749204148803036,-0.19485696146244252,-0.18017139873405813,-0.1433475837146898,-0.17833099133645558,0.3075456596538369,-0.19352450648744493,-0.2091722069334334,-0.19852510720214187,-0.1736120753838854,-0.19272310875658694,-0.1897719090693467,-0.20169768490149198,-0.192026180477296,-0.1091510287715987,-0.17405092942552378,-0.1747235883647557,-0.15149385289549153,-0.2176770748615884,-0.07143406251627149,-0.16942556818114626,1.23405848731352,-0.2181742090021723,-0.19414699692746146,-0.2090244725690256,-0.2092150116247371,-0.18407003889164364,-0.19492445577484652,-0.21755404834428627,-0.21089749412388858,-0.20903344515791952,-0.192660677978961,-0.20922747359043004,-0.2027330155265399,-0.2182092855961861,-0.15391312235538718,-0.20805893508630408,0.6652489643225442,-0.2095017636208097,-0.20960524530393662,-0.1943424822180657,-0.2033817774072577,-0.17877399488826176,-0.15374167087371246,-0.17382280422696905,-0.20410300711962226,-0.2110401739956634,-0.21808885813072112,-0.20929947667036,0.8643460617092287,-0.209457544603952,-0.17200611283788186,-0.1968633806303806,-0.2068404925133285,-0.1787328704665823,-0.18946028471038606,-0.17649433233712486,-0.17474507492680197,-0.18377588004090525,-0.1762270517134724,-0.17344996487205475,-0.1965652020913321,-0.17332508936100963,-0.21702686482032418,-0.2037177890447899,-0.21541362764376254,-0.1360866034115806,-0.19257146910538672,-0.21689746597155862,-0.17367854398563945,-0.18505463903627412,-0.21117340889088904,-0.20938672454576449,-0.20937497619721293,-0.19924911339250986,0.5850408874822015,-0.21759086654350993,-0.1781316319942676,-0.17204488661759712,-0.13393756569320495,-0.19495340025055122,-0.20826491677423048,1.3653150381703154,-0.1968418748926028,-0.17785320824837436,-0.1898982499037493,-0.17194192948638373,0.6713835331891086,-0.1730764027581708,-0.1673892904668877,-0.1727843683373885,-0.10526643008402894,-0.20504483551487382,-0.18581163350112687,-0.20298723263589466,-0.2033655136271545,-0.1783342971751011,-0.20140308186600073,-0.17795358074283849,-0.18636983073522653,-0.1871612376633936,0.4520492180654124,-0.15336469389534088,-0.201508875733671,-0.17288776316170607,4.432299756484716,-0.08664366202958719,-0.1889602848917937,-0.17402525582573505,-0.20273810938138118,-0.17992567295717013,-0.2179802827593529,-0.19701196852445346,1.5863736759129534,-0.0692482741474821,-0.19473808396477277,2.035066355992487,-0.17845724257117407,-0.1776694730048366,-0.1772673217160589,-0.17725076024862718,-0.20888520624261916,-0.20958233071510649,-0.15308138763673715,-0.19102253763787783,0.6798108172895537,-0.2178799133769622,0.12477104987793466,-0.19895599150839613,-0.12677443532866794,-0.20950934861824558,-0.17473590238563327,-0.1920303802806144,-0.1745441822834674,0.8013666771930827,-0.20882993275896708,-0.18401450594839724,-0.20369436711921377,-0.17160318495195245,-0.20943877494749083,-0.20430817522759845,-0.17622478230832478,-0.19165948603832234,-0.20928356120296193,0.034147914921644804,-0.1810345266559631,-0.1745138826229243,-0.17161096281244986,-0.17466002108936712,-0.21618017541999807,-0.14479613358580423,0.5474623778544657,-0.19701286941067395,-0.15961153356639518,-0.20578193584597776,1.0312712784427183,-0.15394729233940077,-0.06232293093506406,-0.19251081589214217,-0.19419064422444768,-0.18041680147099787,-0.15684638360477451,0.3880596859404604,-0.20799568624552628,-0.06527485582744885,-0.21705301222150042,1.2328486543992494,-0.1871269819385707,-0.174741515884679,-0.1929870782379975,-0.16522379748528873,-0.1774442385673083,-0.19115067828709978,-0.20961066578367288,-0.20577805805257135,-0.1870278124650532,-0.17990077511505104,-0.17318306935854155,-0.1919123995206545,-0.19335447808148307,-0.20923263434572958,11.102830087303975,-0.17313494397192764,-0.20363476356785157,-0.14856804882439453,0.08033679211536085,-0.1710553593923357,-0.15254165032608108,-0.17792399202771123,-0.09873529754317638,-0.16191900215457444,-0.1782061064214831,0.23758319579111686,-0.17891079741032206,-0.20410656937091645,-0.17304457946934534,-0.21797965100051636,-0.2038775794042048,-0.19579280868218318,-0.17153725165335912,-0.10307368480704977,-0.14247382690253046,-0.1785340254226291,-0.17273442289872476,-0.20447859031073184,-0.20964678069365017,-0.2096207024609622,-0.17319455758013333,-0.18812732432854073,-0.1703989803058107,-0.19169865136322511,-0.19418587054981584,-0.2092251855227819,-0.15242890977624882,-0.18586330146515495,-0.20262031490015853,-0.19443656026828957,-0.1537074375747765,-0.19213781760520493,-0.13450936541855962,-0.17379344309979267,-0.1736030608424061,-0.18067856322823855,-0.17318266675518446,-0.19661200174713211,-0.17373481757657463,-0.14788548263944334,-0.16788583014571382,2.405047075995739,0.0546448331571777,-0.19690528324189233,-0.16952252022632017,-0.2026659826450721,-0.13504238868429083,-0.20848031317109422,-0.18959850393536457,1.9818409609326684,-0.18783746327381629,-0.19714860050639937,-0.1925377719709137,-0.1736530397337956,-0.1730296703164853,-0.1871026334410841,-0.20345127570336977,-0.19433305932713751,-0.20672509749865522,-0.021335042097901536,-0.20410680534652367,-0.19259581193990866,-0.17856357227755337,-0.19917319775436143,-0.15560501943176733,-0.17238601462132455,-0.1712156192831944,3.296250813035488,-0.20519320890969425,-0.21727598605206241,-0.19310130010049578,-0.19310716116725488,-0.12600126363530956,-0.20049199277511878,-0.20495223904210155,-0.1870605424060728,-0.005464274226896666,-0.15497005659890573,-0.17281475126736615,-0.1546352770430639,-0.030165121766586606,-0.1916746760101597,-0.1728649704925184,-0.17992572056116446,0.5413290361370745,0.06036097165317156,-0.04093424380627055,-0.20576036379105442,-0.17256192606855764,-0.17317464717004694,-0.19239174443703294,-0.17315736352653996,-0.1770177967006033,-0.20924328335561262,-0.17173499518619673,-0.2063890962659107,-0.17431797920400055,-0.19449236446001153,1.048008051469123,-0.1725537703314054,-0.205848772117775,-0.20849661171786874,-0.19621321271432254,-0.1381758250419197,-0.21365293400330382,-0.1789460268867564,-0.17113031499149525,-0.17736052382428263,-0.21759296445005502,-0.12855792174862307,0.39266135278364106,0.8456509418708152,-0.2145187857251221,-0.07413498938106901,-0.2075495522122652,-0.10028138186920364,-0.2088065044342688,-0.19880262196149512,-0.20954207459861363,-0.2063017295197605,-0.1563034145034426,-0.08494810904974762,0.0684085342082328,-0.2001884212069615,-0.17962928141934273,-0.20860580170731427,0.8008888614498859,-0.19925823374361237,-0.17179094410072415,-0.21298641443362182,-0.20641751602780967,-0.19528969617807962,-0.17868576692160631,-0.17583832734586727,-0.19419695193674288,-0.2090467389723735,-0.15094667193052277,0.06176641763012379,-0.20265958708501938,-0.205311981836103,-0.17387503078863245,-0.2020419307788316,-0.14989698754234296,-0.13867419359872865,-0.1740954414050062,-0.13709764589578455,-0.1731744442262263,-0.17801051899095752,-0.19520895827450085,25.530755352675868,-0.15805306935985808,-0.10872424737899251,-0.20685144755026047,-0.1243622130977279,-0.17469753407929767,-0.19747009225184095],\"y\":[-0.8081703563629158,-0.8106167449261192,-0.3172464198649299,0.6999688016244492,0.693040785045272,0.5560279621164019,-0.7562869249902887,0.6835766957923077,0.6933659475275504,0.700172387489424,-0.12523317164618777,0.6876701116418985,-0.6642364737914636,-0.088467397925503,0.5561050045546799,-0.7069642234757092,0.6079623374162053,0.5561550106684432,-0.8081999471141755,-0.8101668080883042,0.6871703649248958,1.1832785772505843,0.6997333874447226,0.5560920330486184,0.5562290417431676,-0.8085570099168357,0.6484701487650638,0.6670969635300327,0.55606242330567,-0.8081696734275943,0.556100443595384,-0.8081719878154979,0.5560955111211486,0.6079784022513298,-0.23090095510450923,-0.6971469700269408,0.6661981754928964,0.6753042874538742,0.5387418713193596,0.5560574290542954,0.5558908034619067,0.5560798371376576,-0.13135541625261768,-0.1706042960546321,0.5561035898441091,0.6801214579068532,0.555631266248485,0.5559968216458622,0.5560759398847014,-0.8082548291697188,-0.18575002871788762,0.4194216978145695,-0.7563140071553854,0.6999588663230911,0.5560465056712807,0.5560607730524018,0.556087563891935,-0.7004996030082646,0.5560375569936606,0.6707829707516351,-0.29925595978785274,0.5560869254027588,-0.665387607387507,-0.23237653450973259,-0.7385788302881257,0.5731544344929906,0.6999788267878972,0.5555876230399579,-0.7384188099446065,-0.6840348576337092,-0.8081840017971442,-0.8082426664580344,-0.900277556725838,0.5561196589542988,0.5564210731583196,0.5560920404863691,-0.180635570423715,-0.7562944841862664,0.6996712452574682,-0.09932168182257244,0.699930823722085,-0.12630299060391345,-0.7562826478180923,0.6999873656283697,0.7001143347186456,0.699990605032952,0.6079609095956644,-0.8090098880696954,-0.8081648607080079,0.5560536564654512,-0.16924743445672139,0.6698760958126055,0.5561465466675963,-0.7563073378982385,-0.09954703255276175,0.6999411768316149,-0.7384751677187114,-0.8070020233202196,0.46398373041471,0.7356484096718391,-0.06170682789266346,-0.12095734595131623,0.5560462595931124,-0.6642802094610477,-0.6973108722925913,0.5575287847045136,-0.23243753665220349,0.5559285184221694,-0.7383579445885501,0.5560925494443872,-0.23208419612679312,0.5558717353304766,-0.8081749681402325,-0.7383771544694494,0.5552320457824588,0.6699523583176722,-0.18045203599339985,0.6890035325188669,0.6704519200190189,0.5560624758974942,-0.8081741512882596,0.5579365683117057,0.6713653180800447,0.5560878941369631,0.699985970825363,0.7063527621909433,-0.7562992380601398,-0.061005510497327414,0.6079173643402038,0.680374294725384,0.7000322999805958,-0.7001977208024567,0.6079491593813594,-0.11732136645727174,0.5563298974732203,0.5562595805532875,-0.232502986577915,0.6933737583762798,-0.7383619225559146,0.5693041627375012,-0.6627703408770066,-0.7074551874095396,0.6079409807282106,0.6999591549780917,-0.6967457930246612,0.555772019643477,0.6706807558225502,-0.6642439541711009,-0.7474797552682969,0.5560066069286028,-0.6642673222725726,0.6670078970858263,-0.7470990623486589,-0.8081300307624615,-0.23211825407009587,0.6079601675451166,0.677067133198983,0.5563617982710239,0.6705672792605986,-0.7556999911937258,-0.18681547637302046,-0.6642167772144848,-0.17379610819869348,-0.13136774335755827,0.5561008498636841,0.6079626354838779,-0.756594745138755,-0.6639083350591382,-0.6634632243165072,-0.7155768444846569,-0.7561440768062444,0.5560878987080651,-0.12285445806071164,-0.8074584150374375,-0.8081121677255925,-0.8083212177504995,-0.16224200694863536,0.6080012062278631,-0.18146741068165814,-0.024424888519739715,-0.7562617172513607,-0.8081589812994434,0.7410070525624695,-0.6642359283862944,0.6999871121757879,-0.75629164844316,-0.8081441692063086,0.6880261601974407,-0.8081764512778261,0.5560483715251964,-0.23288499060509024,0.6999795909807385,-0.1661589319499878,0.5561028922399718,-0.739251761714044,-0.13144931475935276,-0.808275682787064,-0.754676121010404,0.6803232588374454,-0.13173949547757477,-0.16255673039376098,-0.7003305567893013,-0.13090193066376102,-0.7015465007118284,0.6933395863253707,0.7001779471385308,-0.06972998699795006,-0.7563031145944651,0.571805142320208,0.6061924131621141,-1.0266454585205445,-0.7563002953062173,-0.13141300179284185,-0.8081611028373757,-0.8081094537998577,0.6081442933782069,-0.13136774335755827,-0.7562155535573661,-0.6642747027355514,-0.8081800623064916,-0.11713631530305683,-0.8081594384696622,-0.8071419215162204,-0.7562888752203867,0.7410465231478208,-0.8079614827600864,-0.2854835271586205,-0.8081600351519964,-0.8081753585469498,-0.1395672700595654,-0.6937534768989655,0.556090452992607,0.7410267303961696,0.6803204579113696,-0.8074290002898401,-0.6642419943347082,-0.756296984607647,-0.8081748331040001,0.7696082112941319,-0.8081355007152978,0.6838984374218273,-0.23227147588452082,-0.808336303895594,0.5560845287057757,-0.16257487107211363,0.6095025405353893,0.700167303952675,-0.8096789708090074,0.5559384592382407,0.6802860496825254,-0.23240916362592742,0.6705790070451376,-0.7561725077774782,-0.700156884293767,-0.7564624103464899,0.5624206704996224,-0.13150661366542607,-0.7561987697545077,0.6488445415096127,-0.13194548280101084,-0.7558600920581193,-0.808152579168799,-0.8081272516731781,-0.8065386206225323,0.03373196515505664,-0.7562831009842579,0.5560831384908641,-0.2300128042147854,0.699933835812567,-0.13132435906009957,-0.808065966654893,-0.6882054655388454,-0.08815582425565575,0.5561634660035465,-0.12293878914810873,0.6835853319034568,-0.6901075889711713,0.6705199349507088,0.6734335303429189,0.6705735146213044,0.7385967071566011,-0.7154584205830673,0.608017629643606,-0.7154634097360952,-0.7033893723008166,0.5560633405470198,-0.738389013311888,0.5561950899467262,0.6079808782113958,0.6079873314629454,-0.7549234842239547,0.7410590002529958,-0.738409184850212,0.6705606559667437,0.370443897240208,0.6683940737552049,-0.12173155197392736,0.6093765313715843,-0.7035167063230883,0.6999685866710234,-0.7563184454644666,-0.23238233457795862,-0.09077488040465802,0.5732370238810858,-0.13124952712024726,0.10677314886006004,0.5560910054884425,0.5561711881436716,0.5561495858995128,0.5561462246881773,-0.8081529378324187,-0.8081766924804938,0.7411323700954145,-0.12242949244369188,-0.12961630341546662,-0.7562732007368729,0.7180864350297705,-0.6839514090735237,0.602412495432767,-0.808148243041492,0.6802592988502709,-0.11857747870557837,0.7001415360079011,-0.9195935316377125,-0.6643942427260805,-0.7152629249661863,-0.7007087028280211,0.6771845617978977,-0.8081428110103513,-0.7151467867616728,0.5559379986540359,-0.12162080738644741,-0.8081976123363493,-0.10202765641579291,0.6079858457789524,0.6802817569501737,0.6937963667410241,0.6802619032154466,-0.7561793029386152,-0.06968269243925178,-0.7556903389649898,-0.7386048448831128,0.6887725363059138,-0.8081760428174527,0.8192643987058292,0.7410215746507,0.7080755858587818,-0.13963976899060696,-0.1395793311900986,0.6086106743299379,0.6838768267825575,-0.7419365709799813,-0.8079518134021126,0.5518001541418205,-0.7563547506082589,0.719969880780184,0.6079837550281179,0.6802379321855971,-0.13944850029192854,0.6801030005031027,0.5560504561607152,-0.8085573271960463,-0.808171691971245,-0.180455798747817,0.6079756313858373,0.6999604052351014,0.6672605400703775,-0.12281133431594814,-0.09506427442375813,-0.8081508890934845,2.2073607625494103,0.6705944228053978,-0.8085292976083983,0.7411432827403478,0.5410026835959295,0.6768621725258621,0.6696735631725839,-0.16196989442294293,-0.05462413209042938,-0.05821741340112935,0.556115056291169,0.5406234463896916,0.608117475668556,-0.6970025317015657,-0.05824460216932098,-0.7562604605974006,-0.7012135737106788,-0.23222993406890638,-0.12202991341297957,0.7032176347237507,0.7423970956941037,0.5561103398442269,0.6705444965693989,-0.7154233025162727,-0.8081681133069702,-0.8081659039994469,0.7000514232130839,-0.23237530002993514,0.6807161753092745,-0.12161282954782536,-0.13126257459411958,-0.8081524008597717,-0.06714515614560744,0.6080281158488342,-0.7154893442849501,-0.13124170411140532,0.7409950260813124,-0.11847936726161161,-0.8042163916100873,0.6487656387087363,0.6803369263101458,-0.06233606788875662,0.6706094201839121,-0.23243127289758983,0.6803072840210277,0.741995016927549,0.6739244217356157,0.9117995925818001,-0.8235582242959775,-0.2323042324933158,0.6704291915015967,-0.710347131753048,0.740888857702462,-0.8081010219640764,-0.1315855499531793,-0.2639999443159185,-0.13850560862240027,-0.088468004543783,-0.12367516327795229,0.6699124497096679,0.6705895619539393,0.607983314599138,-0.6943384465231415,-0.13954667652512473,-0.7153871402267168,-0.2047851830053196,-0.6943156445657178,-0.13960292905773722,0.5561204823196005,-0.8065540279832951,0.6864400752858166,0.670711677636075,0.6632455933549087,0.6622476571537016,-0.18044696236465338,-0.7563094972410749,-0.23226605097669314,-0.13102388178548038,0.6968227374854472,-0.6964074608268138,-0.18032707350572172,0.607989776030667,-0.7821011289630553,-0.060286673127919584,0.6700346092884887,-0.05910063765486345,0.6992680290817944,-0.12543168376615652,0.6804064431523118,0.6999685963324308,-0.011815699378244204,-0.23454847425007022,0.748346275405591,-0.7153997043638314,0.6772581799506884,0.6770828628079242,-0.08815051186791194,0.6706155726106996,0.5561739636879172,-0.8081824867551074,0.7004783906411826,-0.7154032504206979,0.7001327095482939,-0.13954296501690236,-0.7828509699293034,0.6705946380920554,-0.18044632335372282,-0.808097714113465,-0.701118649422684,-0.7050557935856357,-0.7556569424947321,0.699931056468944,0.6258877481241976,0.6999993757822077,-0.7563201851149272,-0.07110280242122839,-0.7991353592528067,0.7161416287500294,-0.757056630832461,0.6747446565430564,-0.8078548084184203,0.6884512068602967,-0.808146389261285,-0.08842962655181112,-0.8082006167704839,-0.7568488174831116,0.555270774830574,-0.7941020208772029,-0.7203232302657465,-0.756214040684263,0.6999872037154788,-0.8083343719688131,0.5448035989024826,-0.8087873641291324,0.6670566435400496,-0.7565874251795177,-0.808234599001565,-0.13133487736043412,0.556081120491359,0.5561671474343411,-0.11704949748815983,-0.6643314861454109,-0.06971006080815005,-0.2474246076782499,-0.808472145919586,-0.6839361434080785,0.6892022148582759,-0.7383714361588075,0.6737129934670177,-0.07280065833032033,0.6933421775138081,-0.07312062454296807,-0.08995874037158595,-0.05772988026809345,-0.131352635755395,-1.5679164041684726,-0.06916615326977875,-0.03741401342054079,-0.8078089418098162,0.7402225077458704,0.7001726593245142,-0.23235089501363557],\"z\":[0.1689066158349965,0.1584719430468155,2.9106378035909213,-0.16502538553664775,-0.1529536781319984,-0.09033466728126636,0.11731702958775345,-0.14888749785988747,-0.1508865909665908,-0.1537524217892744,-0.09445353197095076,-0.10876464835509159,0.09438851215232955,-0.10948688027380134,-0.09011810903976683,0.12199092340087225,-0.14188849448613916,-0.08977427878268995,0.1688054395810916,0.15933912230128036,-0.1571963456557446,3.845830512783629,-0.16579301882327907,-0.08962540729544563,-0.08933227585612558,0.16705367569439838,-0.14669276732305275,-0.144336624488483,-0.09025634606723026,0.16891110002360857,-0.09013996629158628,0.16890122039528652,-0.09018264862719179,-0.14181635377646132,-0.19381110860230125,0.11469667241461484,-0.22243369419639114,-0.23239199308453992,-0.14066709818790807,-0.09034610267550688,-0.09046910297889041,-0.09021206468787883,-0.09907026143626523,-0.0068545931439769345,-0.09014854720031241,-0.1483352238243655,-0.08899714249913344,-0.09051782200739023,-0.09013322641451739,0.1687925596769622,-0.11166255669904575,-0.5256666248865598,0.11718724511393386,-0.16507299797289116,-0.08980622139065662,-0.09033250039328934,-0.09024930076467184,0.11557334664921952,-0.09039045177047234,-0.14353754124896634,-0.35533001646957535,-0.0902314017107898,0.09468038221739411,-0.034787965413061527,0.1303036826327816,0.027880950350081184,-0.16497734245890988,-0.09183186554271817,0.13107053993573012,0.11050588922087716,0.169858878701701,0.16879754066471833,-0.2724940068318658,-0.090047881510436,-0.08804856521688159,-0.0901070618199363,-0.08715279995651228,0.11722750070971003,-0.16435061842014667,-0.09692405967654237,-0.16514435838814365,-0.08921811403111442,0.1173084509959053,-0.16488553944647247,-0.16418499839962294,-0.164971175194941,-0.14194379673290305,0.16876015293577257,0.16917525115628182,-0.0903593358824106,-0.00034180866572102706,-0.1456659938230575,-0.08932680004377162,0.11717922653889745,-0.09824629532542728,-0.16509961868705614,0.1308004594590873,0.17692854715526843,-0.9690207228940169,-0.08986863349536708,-0.06092435567774402,-0.0847156939883073,-0.0901958076971473,0.09429037742477563,0.11390059928407488,-0.07927526191780439,-0.03511950681688667,-0.0906116058549065,0.13139129773195116,-0.09022231217714691,-0.03221471671330858,-0.0908991977655629,0.16888451494881107,0.13129439322526812,-0.09192943868019529,-0.14557365392410734,-0.0862247975233255,-0.1532573279561526,-0.14527561691214522,-0.09036463099965458,0.168936889282174,-0.057161794815948276,-0.1367433333297725,-0.09024948819492896,-0.16494310645377044,0.8527706150475673,0.11720471654024481,-0.05378993939755788,-0.14207251780264446,-0.14733994235186676,-0.16464170850191853,0.1157377669078128,-0.14194922391935122,-0.05219138416053118,-0.08858183982012939,-0.08882247796333312,-0.035190860269083836,-0.15131702306813533,0.13146430789589736,-0.6474581604668231,0.1037842689064163,0.11885377575489751,-0.1420005330041447,-0.16507161466630432,0.11796499579280131,-0.09125591071061813,-0.14431598726714753,0.09435266431181387,0.2238002244914772,-0.09043700665487026,0.09421281418414364,-0.2706328906555547,-0.035439714967347276,0.1692016315730203,-0.033053817192907786,-0.14174382176684827,-0.14663203145984588,-0.08853045910919854,-0.145001997952031,0.12100688431951195,0.42338864638862944,0.09452651684809214,-0.01186669535530264,-0.09908087621495555,-0.09014044234157624,-0.1418749511278219,0.11597029724841092,0.09644738902765503,0.09931287939161978,0.11584066549166235,0.11828508331608668,-0.09024947363072693,-0.09049001105829291,0.17716439325827288,0.1692928893301002,0.1684259493033727,-0.07034330648343069,-0.14169011052534078,-0.089547281830129,-0.06356474196189954,0.11750567503061131,0.16917919685732846,-0.08839434124851546,0.09438870288083691,-0.16496492936407667,0.11724835683960462,0.16908299386789924,-0.1550335527861058,0.1688774073844231,-0.0899557936183351,-0.03726381749612997,-0.16499878654427913,0.022041755234797074,-0.0901064248784861,0.02835422110572709,-0.09934094527549388,0.16840186530103454,0.1286175804713389,-0.147684075763356,-0.10081394534638596,-0.07233007952521461,0.11533167238396581,-0.09616772603601466,0.17877439205130616,-0.1514582523222338,-0.15372577856738429,-0.09442452304704174,0.11725882888637132,0.009299862658414362,-0.14920737729933292,-1.2481237371154557,0.11720898652149242,-0.09922507623500647,0.16904434291741774,0.1693002414978473,-0.14051253457657592,-0.09908087621495555,0.11775113282656885,0.09420046356245941,0.16894006106605372,-0.052221063129504926,0.16902678067996915,0.17541167288754322,0.11726649279072313,-0.08817853550580568,0.17025650039391776,-0.21054581381297408,0.16898757639816228,0.16889067814219968,-0.08978474358921724,0.11432629232440497,-0.09023214982571542,-0.08826369534152662,-0.1477331181258523,0.17367087288856561,0.09435963334668794,0.1172381802822829,0.16893362185149413,0.8750091719207379,0.1691267968891269,-0.14689737899140948,-0.034190437915841365,0.1683778826300224,-0.0902589759245388,-0.07238787839001837,-0.132132928903055,-0.15378647531736994,0.16409994870184466,-0.09072481952345905,-0.14787135804112225,-0.03490012137868074,-0.14499878318054182,0.11805433846550233,0.11601141683051369,0.11668928310798654,-0.05021079401902238,-0.09952760555544914,0.11792848453698318,-0.1426363084789781,-0.10092881164938593,0.12052070783814851,0.16904320520185137,0.16918248161081223,0.17914928818801704,0.6578167442721026,0.11737896897406688,-0.09018771389218329,-0.018653608100935613,-0.15918636123961033,-0.09884873797877704,0.1696612910098262,0.4291085025378754,-0.10753922731051242,-0.08971437480280713,-0.09073301785925265,-0.14859169764524544,0.2860778404093281,-0.14528776739768703,-0.147619820724423,-0.1449574384070224,-0.09512356852578895,0.11621434319288865,-0.1414296812726081,0.11645696269517412,0.11748810650636106,-0.09032194862570771,0.13128602247700202,-0.08955555603199494,-0.1417027228312889,-0.14177138208270754,0.5452283147328197,-0.08803878348370756,0.13116245587945186,-0.14504110427872238,-0.49530546031182454,-0.12661211136036835,-0.08931572317882,-0.13249449729275126,0.11687789018795146,-0.16502641564695003,0.11713570589035291,-0.03481279046258603,-0.00018378543347690008,0.017373289770191005,-0.09841355834265024,-2.2434790485688474,-0.09018761903724498,-0.08964829252060412,-0.08971304802939169,-0.08972915579045918,0.16910700371977833,0.1688864280340687,-0.08760264155878274,-0.08952031112369437,-0.017768120921793865,0.11739491456890165,-0.017071967076301205,0.11186585632670525,-0.16417179818561117,0.16905070996102384,-0.14842335925626687,-0.09033553765307746,-0.15390026976530263,-0.3044862455547675,0.09382143728532619,0.12003456347255345,0.11574034295902,-0.14576324459957354,0.16908950268087747,0.11542429804648686,-0.09072702675757244,-0.0890682372038908,0.16881183015330967,-0.15269440147280974,-0.1409762502673845,-0.14827212065552067,-0.148654305783157,-0.14839924814420866,0.1181283858685442,-0.09328925496394914,-0.003921587037963478,0.13068784186286136,-0.15276514669580554,0.16938819247046513,0.49256414953305194,-0.08831869031634793,-0.05667328389505543,-0.08735752566063103,-0.08983042858395936,-0.1374973186245337,-0.1450274629830632,0.6074648344457388,0.17031737629592728,-0.09868396226808392,0.11705983603548016,0.3282145227798246,-0.14178634055840603,-0.14854029156254672,-0.08896115548885591,-0.14802630613702478,-0.09027532999932962,0.16923284510903727,0.1689099071208777,-0.08624040658998113,-0.14181751750949304,-0.16506764389625703,-0.144199459415658,-0.09030394674775916,-0.09580375132561285,0.16907259739544267,9.361702043071931,-0.144889756255239,0.16774861336720107,-0.08695159799891919,-0.1383131839205733,-0.14744464479035196,-0.14417482403568666,-0.06758548228864274,-0.0274095336614445,-0.05538432394428119,-0.09002390183072016,-0.1197605652100777,-0.13998199876788142,0.11492617406571026,-0.05486812434488288,0.11745112250975212,0.11946794634096161,-0.03382417297351492,-0.08864468925651413,-0.08843425521096827,-0.07933414980135901,-0.0900925410047134,-0.14510891391310232,0.11647955725807867,0.16892463398176538,0.16894006751069052,-0.15421338625036832,-0.033609759050625715,-0.1451260775914262,-0.08902994446745556,-0.09841211809555542,0.16906535263523229,-0.0892417227509293,-0.1413794287679409,0.11378267715861656,-0.09833148545950701,-0.08843162203299795,-0.08982669961715287,0.20026542896883748,-0.14308046162367802,-0.14761475120154954,-0.050503628717601924,-0.14481435672419535,-0.03502649163811542,-0.14778704163616152,-0.0822302055513221,-0.14214848107435427,1.1758917120193815,0.11987860921955786,-0.03437406861229875,-0.14531367160659947,0.11865492344721043,-0.08656200154219802,0.1694424144814089,-0.08436233288381133,-0.23080883565103222,-0.08315839994536416,-0.10927714050214442,-0.09301595048946396,-0.14565403796651777,-0.1449023587611062,-0.14178554361713866,0.11368533065214827,-0.08967151631538739,0.1138003474970308,0.1382975028970642,0.11373401999876481,-0.08974967633555746,-0.09004125769919726,0.17907545228152974,-0.13092524049871315,-0.14415238249539974,-0.13836336808389263,0.24849884820820714,-0.0861156788248852,0.11727670143112233,-0.03366772770925341,-0.09697263813391467,-0.17506471404634424,0.1187138110792533,-0.08543210708695428,-0.1417448868744055,0.3374506379781932,-0.06041691964187762,-0.14487980916461538,-0.05923788882472457,-0.1397225003947501,-0.08434724932664484,-0.14713375673113244,-0.16502636934708143,0.6296168828354769,-0.3455168498839808,-0.03366943981707902,0.11385849760429136,-0.1453371411412808,-0.14637087999655113,-0.09744682735018413,-0.14477751050695956,-0.08954776382613679,0.16889936663975313,-0.15170009986003086,0.11375678663556821,-0.15391861468896176,-0.08967221724881243,0.47148297578770026,-0.14434937751727392,-0.08619814802918674,0.16945826652460938,0.12098896220846907,0.1558849775411112,0.12130041199243533,-0.16510208119647402,-0.12785047481390288,-0.16452268721549468,0.11717702270477215,-0.09888328096773949,0.29700917705316077,0.9144615308120535,0.11357510191824331,-0.16522436296991738,0.1709033977535324,-0.07499115427687914,0.16915293401501658,-0.10928527504809911,0.16876160033066737,0.11578248958357193,-0.09174383944493439,0.26176696202661404,-0.17398611845555872,0.12003599233739379,-0.16488631537333323,0.16815695697044442,-0.023178701101032036,0.16691895650069483,-0.144478965148809,0.11632763382124182,0.16898642722740842,-0.09895002705540916,-0.09027133523447982,-0.0894302037054,-0.05195064181033732,0.09413429737906398,-0.09424442489625229,-0.08268998393466058,0.16818726171722023,0.11111560442465222,-0.15229840838032715,0.13129785766363794,-0.12484076437012498,-0.10944281772322098,-0.15144999641589524,-0.11097617542930707,-0.11424106294312909,-0.05485644025365446,-0.09903601617743818,-4.878986440040655,-0.06937771826450453,-0.12019700996044806,0.17124435139329103,-0.08878558144697153,-0.15375111908788303,-0.03470187553763009]}],                        {\"coloraxis\":{\"colorbar\":{\"title\":{\"text\":\"class\"}},\"colorscale\":[[0.0,\"rgb(0,0,255)\"],[1.0,\"rgb(255,0,0)\"]]},\"legend\":{\"tracegroupgap\":0},\"margin\":{\"t\":60},\"scene\":{\"domain\":{\"x\":[0.0,1.0],\"y\":[0.0,1.0]},\"xaxis\":{\"title\":{\"text\":\"PCA1\"}},\"yaxis\":{\"title\":{\"text\":\"PCA2\"}},\"zaxis\":{\"title\":{\"text\":\"PCA3\"}}},\"template\":{\"data\":{\"bar\":[{\"error_x\":{\"color\":\"#2a3f5f\"},\"error_y\":{\"color\":\"#2a3f5f\"},\"marker\":{\"line\":{\"color\":\"#E5ECF6\",\"width\":0.5},\"pattern\":{\"fillmode\":\"overlay\",\"size\":10,\"solidity\":0.2}},\"type\":\"bar\"}],\"barpolar\":[{\"marker\":{\"line\":{\"color\":\"#E5ECF6\",\"width\":0.5},\"pattern\":{\"fillmode\":\"overlay\",\"size\":10,\"solidity\":0.2}},\"type\":\"barpolar\"}],\"carpet\":[{\"aaxis\":{\"endlinecolor\":\"#2a3f5f\",\"gridcolor\":\"white\",\"linecolor\":\"white\",\"minorgridcolor\":\"white\",\"startlinecolor\":\"#2a3f5f\"},\"baxis\":{\"endlinecolor\":\"#2a3f5f\",\"gridcolor\":\"white\",\"linecolor\":\"white\",\"minorgridcolor\":\"white\",\"startlinecolor\":\"#2a3f5f\"},\"type\":\"carpet\"}],\"choropleth\":[{\"colorbar\":{\"outlinewidth\":0,\"ticks\":\"\"},\"type\":\"choropleth\"}],\"contour\":[{\"colorbar\":{\"outlinewidth\":0,\"ticks\":\"\"},\"colorscale\":[[0.0,\"#0d0887\"],[0.1111111111111111,\"#46039f\"],[0.2222222222222222,\"#7201a8\"],[0.3333333333333333,\"#9c179e\"],[0.4444444444444444,\"#bd3786\"],[0.5555555555555556,\"#d8576b\"],[0.6666666666666666,\"#ed7953\"],[0.7777777777777778,\"#fb9f3a\"],[0.8888888888888888,\"#fdca26\"],[1.0,\"#f0f921\"]],\"type\":\"contour\"}],\"contourcarpet\":[{\"colorbar\":{\"outlinewidth\":0,\"ticks\":\"\"},\"type\":\"contourcarpet\"}],\"heatmap\":[{\"colorbar\":{\"outlinewidth\":0,\"ticks\":\"\"},\"colorscale\":[[0.0,\"#0d0887\"],[0.1111111111111111,\"#46039f\"],[0.2222222222222222,\"#7201a8\"],[0.3333333333333333,\"#9c179e\"],[0.4444444444444444,\"#bd3786\"],[0.5555555555555556,\"#d8576b\"],[0.6666666666666666,\"#ed7953\"],[0.7777777777777778,\"#fb9f3a\"],[0.8888888888888888,\"#fdca26\"],[1.0,\"#f0f921\"]],\"type\":\"heatmap\"}],\"heatmapgl\":[{\"colorbar\":{\"outlinewidth\":0,\"ticks\":\"\"},\"colorscale\":[[0.0,\"#0d0887\"],[0.1111111111111111,\"#46039f\"],[0.2222222222222222,\"#7201a8\"],[0.3333333333333333,\"#9c179e\"],[0.4444444444444444,\"#bd3786\"],[0.5555555555555556,\"#d8576b\"],[0.6666666666666666,\"#ed7953\"],[0.7777777777777778,\"#fb9f3a\"],[0.8888888888888888,\"#fdca26\"],[1.0,\"#f0f921\"]],\"type\":\"heatmapgl\"}],\"histogram\":[{\"marker\":{\"pattern\":{\"fillmode\":\"overlay\",\"size\":10,\"solidity\":0.2}},\"type\":\"histogram\"}],\"histogram2d\":[{\"colorbar\":{\"outlinewidth\":0,\"ticks\":\"\"},\"colorscale\":[[0.0,\"#0d0887\"],[0.1111111111111111,\"#46039f\"],[0.2222222222222222,\"#7201a8\"],[0.3333333333333333,\"#9c179e\"],[0.4444444444444444,\"#bd3786\"],[0.5555555555555556,\"#d8576b\"],[0.6666666666666666,\"#ed7953\"],[0.7777777777777778,\"#fb9f3a\"],[0.8888888888888888,\"#fdca26\"],[1.0,\"#f0f921\"]],\"type\":\"histogram2d\"}],\"histogram2dcontour\":[{\"colorbar\":{\"outlinewidth\":0,\"ticks\":\"\"},\"colorscale\":[[0.0,\"#0d0887\"],[0.1111111111111111,\"#46039f\"],[0.2222222222222222,\"#7201a8\"],[0.3333333333333333,\"#9c179e\"],[0.4444444444444444,\"#bd3786\"],[0.5555555555555556,\"#d8576b\"],[0.6666666666666666,\"#ed7953\"],[0.7777777777777778,\"#fb9f3a\"],[0.8888888888888888,\"#fdca26\"],[1.0,\"#f0f921\"]],\"type\":\"histogram2dcontour\"}],\"mesh3d\":[{\"colorbar\":{\"outlinewidth\":0,\"ticks\":\"\"},\"type\":\"mesh3d\"}],\"parcoords\":[{\"line\":{\"colorbar\":{\"outlinewidth\":0,\"ticks\":\"\"}},\"type\":\"parcoords\"}],\"pie\":[{\"automargin\":true,\"type\":\"pie\"}],\"scatter\":[{\"marker\":{\"colorbar\":{\"outlinewidth\":0,\"ticks\":\"\"}},\"type\":\"scatter\"}],\"scatter3d\":[{\"line\":{\"colorbar\":{\"outlinewidth\":0,\"ticks\":\"\"}},\"marker\":{\"colorbar\":{\"outlinewidth\":0,\"ticks\":\"\"}},\"type\":\"scatter3d\"}],\"scattercarpet\":[{\"marker\":{\"colorbar\":{\"outlinewidth\":0,\"ticks\":\"\"}},\"type\":\"scattercarpet\"}],\"scattergeo\":[{\"marker\":{\"colorbar\":{\"outlinewidth\":0,\"ticks\":\"\"}},\"type\":\"scattergeo\"}],\"scattergl\":[{\"marker\":{\"colorbar\":{\"outlinewidth\":0,\"ticks\":\"\"}},\"type\":\"scattergl\"}],\"scattermapbox\":[{\"marker\":{\"colorbar\":{\"outlinewidth\":0,\"ticks\":\"\"}},\"type\":\"scattermapbox\"}],\"scatterpolar\":[{\"marker\":{\"colorbar\":{\"outlinewidth\":0,\"ticks\":\"\"}},\"type\":\"scatterpolar\"}],\"scatterpolargl\":[{\"marker\":{\"colorbar\":{\"outlinewidth\":0,\"ticks\":\"\"}},\"type\":\"scatterpolargl\"}],\"scatterternary\":[{\"marker\":{\"colorbar\":{\"outlinewidth\":0,\"ticks\":\"\"}},\"type\":\"scatterternary\"}],\"surface\":[{\"colorbar\":{\"outlinewidth\":0,\"ticks\":\"\"},\"colorscale\":[[0.0,\"#0d0887\"],[0.1111111111111111,\"#46039f\"],[0.2222222222222222,\"#7201a8\"],[0.3333333333333333,\"#9c179e\"],[0.4444444444444444,\"#bd3786\"],[0.5555555555555556,\"#d8576b\"],[0.6666666666666666,\"#ed7953\"],[0.7777777777777778,\"#fb9f3a\"],[0.8888888888888888,\"#fdca26\"],[1.0,\"#f0f921\"]],\"type\":\"surface\"}],\"table\":[{\"cells\":{\"fill\":{\"color\":\"#EBF0F8\"},\"line\":{\"color\":\"white\"}},\"header\":{\"fill\":{\"color\":\"#C8D4E3\"},\"line\":{\"color\":\"white\"}},\"type\":\"table\"}]},\"layout\":{\"annotationdefaults\":{\"arrowcolor\":\"#2a3f5f\",\"arrowhead\":0,\"arrowwidth\":1},\"autotypenumbers\":\"strict\",\"coloraxis\":{\"colorbar\":{\"outlinewidth\":0,\"ticks\":\"\"}},\"colorscale\":{\"diverging\":[[0,\"#8e0152\"],[0.1,\"#c51b7d\"],[0.2,\"#de77ae\"],[0.3,\"#f1b6da\"],[0.4,\"#fde0ef\"],[0.5,\"#f7f7f7\"],[0.6,\"#e6f5d0\"],[0.7,\"#b8e186\"],[0.8,\"#7fbc41\"],[0.9,\"#4d9221\"],[1,\"#276419\"]],\"sequential\":[[0.0,\"#0d0887\"],[0.1111111111111111,\"#46039f\"],[0.2222222222222222,\"#7201a8\"],[0.3333333333333333,\"#9c179e\"],[0.4444444444444444,\"#bd3786\"],[0.5555555555555556,\"#d8576b\"],[0.6666666666666666,\"#ed7953\"],[0.7777777777777778,\"#fb9f3a\"],[0.8888888888888888,\"#fdca26\"],[1.0,\"#f0f921\"]],\"sequentialminus\":[[0.0,\"#0d0887\"],[0.1111111111111111,\"#46039f\"],[0.2222222222222222,\"#7201a8\"],[0.3333333333333333,\"#9c179e\"],[0.4444444444444444,\"#bd3786\"],[0.5555555555555556,\"#d8576b\"],[0.6666666666666666,\"#ed7953\"],[0.7777777777777778,\"#fb9f3a\"],[0.8888888888888888,\"#fdca26\"],[1.0,\"#f0f921\"]]},\"colorway\":[\"#636efa\",\"#EF553B\",\"#00cc96\",\"#ab63fa\",\"#FFA15A\",\"#19d3f3\",\"#FF6692\",\"#B6E880\",\"#FF97FF\",\"#FECB52\"],\"font\":{\"color\":\"#2a3f5f\"},\"geo\":{\"bgcolor\":\"white\",\"lakecolor\":\"white\",\"landcolor\":\"#E5ECF6\",\"showlakes\":true,\"showland\":true,\"subunitcolor\":\"white\"},\"hoverlabel\":{\"align\":\"left\"},\"hovermode\":\"closest\",\"mapbox\":{\"style\":\"light\"},\"paper_bgcolor\":\"white\",\"plot_bgcolor\":\"#E5ECF6\",\"polar\":{\"angularaxis\":{\"gridcolor\":\"white\",\"linecolor\":\"white\",\"ticks\":\"\"},\"bgcolor\":\"#E5ECF6\",\"radialaxis\":{\"gridcolor\":\"white\",\"linecolor\":\"white\",\"ticks\":\"\"}},\"scene\":{\"xaxis\":{\"backgroundcolor\":\"#E5ECF6\",\"gridcolor\":\"white\",\"gridwidth\":2,\"linecolor\":\"white\",\"showbackground\":true,\"ticks\":\"\",\"zerolinecolor\":\"white\"},\"yaxis\":{\"backgroundcolor\":\"#E5ECF6\",\"gridcolor\":\"white\",\"gridwidth\":2,\"linecolor\":\"white\",\"showbackground\":true,\"ticks\":\"\",\"zerolinecolor\":\"white\"},\"zaxis\":{\"backgroundcolor\":\"#E5ECF6\",\"gridcolor\":\"white\",\"gridwidth\":2,\"linecolor\":\"white\",\"showbackground\":true,\"ticks\":\"\",\"zerolinecolor\":\"white\"}},\"shapedefaults\":{\"line\":{\"color\":\"#2a3f5f\"}},\"ternary\":{\"aaxis\":{\"gridcolor\":\"white\",\"linecolor\":\"white\",\"ticks\":\"\"},\"baxis\":{\"gridcolor\":\"white\",\"linecolor\":\"white\",\"ticks\":\"\"},\"bgcolor\":\"#E5ECF6\",\"caxis\":{\"gridcolor\":\"white\",\"linecolor\":\"white\",\"ticks\":\"\"}},\"title\":{\"x\":0.05},\"xaxis\":{\"automargin\":true,\"gridcolor\":\"white\",\"linecolor\":\"white\",\"ticks\":\"\",\"title\":{\"standoff\":15},\"zerolinecolor\":\"white\",\"zerolinewidth\":2},\"yaxis\":{\"automargin\":true,\"gridcolor\":\"white\",\"linecolor\":\"white\",\"ticks\":\"\",\"title\":{\"standoff\":15},\"zerolinecolor\":\"white\",\"zerolinewidth\":2}}}},                        {\"responsive\": true}                    ).then(function(){\n",
       "                            \n",
       "var gd = document.getElementById('c063ba9d-3392-438c-afe8-4bfb984f8300');\n",
       "var x = new MutationObserver(function (mutations, observer) {{\n",
       "        var display = window.getComputedStyle(gd).display;\n",
       "        if (!display || display === 'none') {{\n",
       "            console.log([gd, 'removed!']);\n",
       "            Plotly.purge(gd);\n",
       "            observer.disconnect();\n",
       "        }}\n",
       "}});\n",
       "\n",
       "// Listen for the removal of the full notebook cells\n",
       "var notebookContainer = gd.closest('#notebook-container');\n",
       "if (notebookContainer) {{\n",
       "    x.observe(notebookContainer, {childList: true});\n",
       "}}\n",
       "\n",
       "// Listen for the clearing of the current output cell\n",
       "var outputEl = gd.closest('.output');\n",
       "if (outputEl) {{\n",
       "    x.observe(outputEl, {childList: true});\n",
       "}}\n",
       "\n",
       "                        })                };                });            </script>        </div>"
      ]
     },
     "metadata": {},
     "output_type": "display_data"
    }
   ],
   "source": [
    "\n",
    "fig = px.scatter_3d(\n",
    "    df_pca, \n",
    "    x='PCA1', \n",
    "    y='PCA2', \n",
    "    z='PCA3',\n",
    "    color='class',\n",
    "    color_continuous_scale=px.colors.sequential.Bluered,\n",
    "    hover_data=[\"coin\"])\n",
    "\n",
    "\n",
    "\n",
    "fig.show()"
   ]
  },
  {
   "cell_type": "code",
   "execution_count": 63,
   "id": "81330a72",
   "metadata": {},
   "outputs": [],
   "source": [
    "fig.write_image(\"fig2.png\")"
   ]
  },
  {
   "cell_type": "code",
   "execution_count": 64,
   "id": "84100fb5",
   "metadata": {},
   "outputs": [
    {
     "data": {
      "text/html": [
       "<div>\n",
       "<style scoped>\n",
       "    .dataframe tbody tr th:only-of-type {\n",
       "        vertical-align: middle;\n",
       "    }\n",
       "\n",
       "    .dataframe tbody tr th {\n",
       "        vertical-align: top;\n",
       "    }\n",
       "\n",
       "    .dataframe thead th {\n",
       "        text-align: right;\n",
       "    }\n",
       "</style>\n",
       "<table border=\"1\" class=\"dataframe\">\n",
       "  <thead>\n",
       "    <tr style=\"text-align: right;\">\n",
       "      <th></th>\n",
       "      <th>PCA1</th>\n",
       "      <th>PCA2</th>\n",
       "      <th>PCA3</th>\n",
       "      <th>PCA4</th>\n",
       "      <th>PCA5</th>\n",
       "      <th>PCA6</th>\n",
       "      <th>PCA7</th>\n",
       "      <th>PCA8</th>\n",
       "      <th>PCA9</th>\n",
       "      <th>PCA10</th>\n",
       "      <th>PCA11</th>\n",
       "      <th>class</th>\n",
       "      <th>coin</th>\n",
       "    </tr>\n",
       "  </thead>\n",
       "  <tbody>\n",
       "    <tr>\n",
       "      <th>0</th>\n",
       "      <td>-0.209691</td>\n",
       "      <td>-0.808170</td>\n",
       "      <td>0.168907</td>\n",
       "      <td>-0.663340</td>\n",
       "      <td>-0.004221</td>\n",
       "      <td>-0.025304</td>\n",
       "      <td>0.002418</td>\n",
       "      <td>-0.012781</td>\n",
       "      <td>-0.046990</td>\n",
       "      <td>-0.021372</td>\n",
       "      <td>-0.007774</td>\n",
       "      <td>0</td>\n",
       "      <td>42 Coin</td>\n",
       "    </tr>\n",
       "    <tr>\n",
       "      <th>1</th>\n",
       "      <td>-0.187805</td>\n",
       "      <td>-0.810617</td>\n",
       "      <td>0.158472</td>\n",
       "      <td>-0.664012</td>\n",
       "      <td>-0.004872</td>\n",
       "      <td>-0.025161</td>\n",
       "      <td>0.002526</td>\n",
       "      <td>-0.013793</td>\n",
       "      <td>-0.047109</td>\n",
       "      <td>-0.021429</td>\n",
       "      <td>-0.007660</td>\n",
       "      <td>0</td>\n",
       "      <td>404Coin</td>\n",
       "    </tr>\n",
       "    <tr>\n",
       "      <th>2</th>\n",
       "      <td>3.529267</td>\n",
       "      <td>-0.317246</td>\n",
       "      <td>2.910638</td>\n",
       "      <td>0.416936</td>\n",
       "      <td>-0.203725</td>\n",
       "      <td>-0.261915</td>\n",
       "      <td>-0.282133</td>\n",
       "      <td>-0.137953</td>\n",
       "      <td>0.753249</td>\n",
       "      <td>0.347229</td>\n",
       "      <td>-0.241091</td>\n",
       "      <td>2</td>\n",
       "      <td>EliteCoin</td>\n",
       "    </tr>\n",
       "    <tr>\n",
       "      <th>3</th>\n",
       "      <td>-0.179927</td>\n",
       "      <td>0.699969</td>\n",
       "      <td>-0.165025</td>\n",
       "      <td>0.220439</td>\n",
       "      <td>-0.285466</td>\n",
       "      <td>-0.616501</td>\n",
       "      <td>0.622780</td>\n",
       "      <td>-0.016936</td>\n",
       "      <td>0.028175</td>\n",
       "      <td>0.008040</td>\n",
       "      <td>-0.026113</td>\n",
       "      <td>5</td>\n",
       "      <td>Bitcoin</td>\n",
       "    </tr>\n",
       "    <tr>\n",
       "      <th>4</th>\n",
       "      <td>-0.173063</td>\n",
       "      <td>0.693041</td>\n",
       "      <td>-0.152954</td>\n",
       "      <td>0.115317</td>\n",
       "      <td>-0.215415</td>\n",
       "      <td>-0.104622</td>\n",
       "      <td>-0.242670</td>\n",
       "      <td>0.010629</td>\n",
       "      <td>0.111604</td>\n",
       "      <td>-0.125831</td>\n",
       "      <td>0.059776</td>\n",
       "      <td>5</td>\n",
       "      <td>Ethereum</td>\n",
       "    </tr>\n",
       "    <tr>\n",
       "      <th>5</th>\n",
       "      <td>-0.176964</td>\n",
       "      <td>0.556028</td>\n",
       "      <td>-0.090335</td>\n",
       "      <td>-0.747459</td>\n",
       "      <td>0.134138</td>\n",
       "      <td>0.118467</td>\n",
       "      <td>0.058046</td>\n",
       "      <td>-0.000564</td>\n",
       "      <td>0.041229</td>\n",
       "      <td>0.001572</td>\n",
       "      <td>-0.016901</td>\n",
       "      <td>5</td>\n",
       "      <td>Litecoin</td>\n",
       "    </tr>\n",
       "    <tr>\n",
       "      <th>6</th>\n",
       "      <td>-0.217905</td>\n",
       "      <td>-0.756287</td>\n",
       "      <td>0.117317</td>\n",
       "      <td>0.442060</td>\n",
       "      <td>-0.633130</td>\n",
       "      <td>0.566863</td>\n",
       "      <td>0.161328</td>\n",
       "      <td>-0.018780</td>\n",
       "      <td>-0.037801</td>\n",
       "      <td>-0.015352</td>\n",
       "      <td>-0.012666</td>\n",
       "      <td>0</td>\n",
       "      <td>Dash</td>\n",
       "    </tr>\n",
       "    <tr>\n",
       "      <th>7</th>\n",
       "      <td>-0.173840</td>\n",
       "      <td>0.683577</td>\n",
       "      <td>-0.148887</td>\n",
       "      <td>0.107653</td>\n",
       "      <td>-0.216708</td>\n",
       "      <td>-0.098381</td>\n",
       "      <td>-0.215550</td>\n",
       "      <td>0.009600</td>\n",
       "      <td>0.076833</td>\n",
       "      <td>-0.087447</td>\n",
       "      <td>0.024330</td>\n",
       "      <td>5</td>\n",
       "      <td>Monero</td>\n",
       "    </tr>\n",
       "    <tr>\n",
       "      <th>8</th>\n",
       "      <td>-0.170784</td>\n",
       "      <td>0.693366</td>\n",
       "      <td>-0.150887</td>\n",
       "      <td>0.115455</td>\n",
       "      <td>-0.215300</td>\n",
       "      <td>-0.104596</td>\n",
       "      <td>-0.242583</td>\n",
       "      <td>0.010707</td>\n",
       "      <td>0.111721</td>\n",
       "      <td>-0.125933</td>\n",
       "      <td>0.059799</td>\n",
       "      <td>5</td>\n",
       "      <td>Ethereum Classic</td>\n",
       "    </tr>\n",
       "    <tr>\n",
       "      <th>9</th>\n",
       "      <td>-0.174696</td>\n",
       "      <td>0.700172</td>\n",
       "      <td>-0.153752</td>\n",
       "      <td>0.120034</td>\n",
       "      <td>-0.218951</td>\n",
       "      <td>-0.111787</td>\n",
       "      <td>-0.272614</td>\n",
       "      <td>0.070045</td>\n",
       "      <td>0.166267</td>\n",
       "      <td>-0.213776</td>\n",
       "      <td>0.124003</td>\n",
       "      <td>5</td>\n",
       "      <td>ZCash</td>\n",
       "    </tr>\n",
       "    <tr>\n",
       "      <th>10</th>\n",
       "      <td>-0.112351</td>\n",
       "      <td>-0.125233</td>\n",
       "      <td>-0.094454</td>\n",
       "      <td>0.667074</td>\n",
       "      <td>0.803899</td>\n",
       "      <td>-0.014696</td>\n",
       "      <td>-0.093467</td>\n",
       "      <td>-0.010561</td>\n",
       "      <td>0.004490</td>\n",
       "      <td>0.064759</td>\n",
       "      <td>0.125812</td>\n",
       "      <td>3</td>\n",
       "      <td>Bitshares</td>\n",
       "    </tr>\n",
       "    <tr>\n",
       "      <th>11</th>\n",
       "      <td>0.221744</td>\n",
       "      <td>0.687670</td>\n",
       "      <td>-0.108765</td>\n",
       "      <td>0.122834</td>\n",
       "      <td>-0.203668</td>\n",
       "      <td>-0.099592</td>\n",
       "      <td>-0.231260</td>\n",
       "      <td>-0.000633</td>\n",
       "      <td>0.112971</td>\n",
       "      <td>-0.117168</td>\n",
       "      <td>0.080526</td>\n",
       "      <td>5</td>\n",
       "      <td>DigiByte</td>\n",
       "    </tr>\n",
       "    <tr>\n",
       "      <th>12</th>\n",
       "      <td>-0.211049</td>\n",
       "      <td>-0.664236</td>\n",
       "      <td>0.094389</td>\n",
       "      <td>0.304571</td>\n",
       "      <td>-0.423819</td>\n",
       "      <td>-0.760258</td>\n",
       "      <td>0.567182</td>\n",
       "      <td>-0.029172</td>\n",
       "      <td>-0.060015</td>\n",
       "      <td>-0.014936</td>\n",
       "      <td>-0.016974</td>\n",
       "      <td>0</td>\n",
       "      <td>BitcoinDark</td>\n",
       "    </tr>\n",
       "    <tr>\n",
       "      <th>13</th>\n",
       "      <td>-0.198774</td>\n",
       "      <td>-0.088467</td>\n",
       "      <td>-0.109487</td>\n",
       "      <td>0.771745</td>\n",
       "      <td>0.709604</td>\n",
       "      <td>-0.539223</td>\n",
       "      <td>0.725350</td>\n",
       "      <td>-0.050522</td>\n",
       "      <td>-0.020128</td>\n",
       "      <td>0.120986</td>\n",
       "      <td>0.065941</td>\n",
       "      <td>3</td>\n",
       "      <td>PayCoin</td>\n",
       "    </tr>\n",
       "    <tr>\n",
       "      <th>14</th>\n",
       "      <td>-0.178508</td>\n",
       "      <td>0.556105</td>\n",
       "      <td>-0.090118</td>\n",
       "      <td>-0.747446</td>\n",
       "      <td>0.134154</td>\n",
       "      <td>0.118455</td>\n",
       "      <td>0.058026</td>\n",
       "      <td>-0.000523</td>\n",
       "      <td>0.041216</td>\n",
       "      <td>0.001592</td>\n",
       "      <td>-0.016911</td>\n",
       "      <td>5</td>\n",
       "      <td>ProsperCoin</td>\n",
       "    </tr>\n",
       "    <tr>\n",
       "      <th>15</th>\n",
       "      <td>-0.199168</td>\n",
       "      <td>-0.706964</td>\n",
       "      <td>0.121991</td>\n",
       "      <td>0.197393</td>\n",
       "      <td>-0.347080</td>\n",
       "      <td>-0.246467</td>\n",
       "      <td>-0.265423</td>\n",
       "      <td>-0.009146</td>\n",
       "      <td>-0.039292</td>\n",
       "      <td>-0.102109</td>\n",
       "      <td>0.043785</td>\n",
       "      <td>0</td>\n",
       "      <td>KoboCoin</td>\n",
       "    </tr>\n",
       "    <tr>\n",
       "      <th>16</th>\n",
       "      <td>-0.187018</td>\n",
       "      <td>0.607962</td>\n",
       "      <td>-0.141888</td>\n",
       "      <td>0.357942</td>\n",
       "      <td>-0.494764</td>\n",
       "      <td>0.710619</td>\n",
       "      <td>0.216926</td>\n",
       "      <td>-0.006527</td>\n",
       "      <td>0.050394</td>\n",
       "      <td>0.007623</td>\n",
       "      <td>-0.021805</td>\n",
       "      <td>5</td>\n",
       "      <td>Spreadcoin</td>\n",
       "    </tr>\n",
       "    <tr>\n",
       "      <th>17</th>\n",
       "      <td>-0.177959</td>\n",
       "      <td>0.556155</td>\n",
       "      <td>-0.089774</td>\n",
       "      <td>-0.747423</td>\n",
       "      <td>0.134173</td>\n",
       "      <td>0.118460</td>\n",
       "      <td>0.058043</td>\n",
       "      <td>-0.000513</td>\n",
       "      <td>0.041238</td>\n",
       "      <td>0.001572</td>\n",
       "      <td>-0.016906</td>\n",
       "      <td>5</td>\n",
       "      <td>Argentum</td>\n",
       "    </tr>\n",
       "    <tr>\n",
       "      <th>18</th>\n",
       "      <td>-0.209235</td>\n",
       "      <td>-0.808200</td>\n",
       "      <td>0.168805</td>\n",
       "      <td>-0.663346</td>\n",
       "      <td>-0.004228</td>\n",
       "      <td>-0.025301</td>\n",
       "      <td>0.002423</td>\n",
       "      <td>-0.012795</td>\n",
       "      <td>-0.046988</td>\n",
       "      <td>-0.021377</td>\n",
       "      <td>-0.007771</td>\n",
       "      <td>0</td>\n",
       "      <td>Aurora Coin</td>\n",
       "    </tr>\n",
       "    <tr>\n",
       "      <th>19</th>\n",
       "      <td>-0.199854</td>\n",
       "      <td>-0.810167</td>\n",
       "      <td>0.159339</td>\n",
       "      <td>-0.663964</td>\n",
       "      <td>-0.004797</td>\n",
       "      <td>-0.025257</td>\n",
       "      <td>0.002351</td>\n",
       "      <td>-0.013520</td>\n",
       "      <td>-0.047243</td>\n",
       "      <td>-0.021249</td>\n",
       "      <td>-0.007740</td>\n",
       "      <td>0</td>\n",
       "      <td>BlueCoin</td>\n",
       "    </tr>\n",
       "    <tr>\n",
       "      <th>20</th>\n",
       "      <td>-0.126951</td>\n",
       "      <td>0.687170</td>\n",
       "      <td>-0.157196</td>\n",
       "      <td>0.119351</td>\n",
       "      <td>-0.205763</td>\n",
       "      <td>-0.102624</td>\n",
       "      <td>-0.238074</td>\n",
       "      <td>0.002977</td>\n",
       "      <td>0.106074</td>\n",
       "      <td>-0.109698</td>\n",
       "      <td>0.077952</td>\n",
       "      <td>5</td>\n",
       "      <td>MyriadCoin</td>\n",
       "    </tr>\n",
       "    <tr>\n",
       "      <th>21</th>\n",
       "      <td>3.827963</td>\n",
       "      <td>1.183279</td>\n",
       "      <td>3.845831</td>\n",
       "      <td>-0.484013</td>\n",
       "      <td>0.354379</td>\n",
       "      <td>0.165228</td>\n",
       "      <td>0.216683</td>\n",
       "      <td>0.155011</td>\n",
       "      <td>0.258702</td>\n",
       "      <td>-0.187480</td>\n",
       "      <td>0.024571</td>\n",
       "      <td>2</td>\n",
       "      <td>MoonCoin</td>\n",
       "    </tr>\n",
       "    <tr>\n",
       "      <th>22</th>\n",
       "      <td>-0.176017</td>\n",
       "      <td>0.699733</td>\n",
       "      <td>-0.165793</td>\n",
       "      <td>0.220391</td>\n",
       "      <td>-0.285518</td>\n",
       "      <td>-0.616472</td>\n",
       "      <td>0.622825</td>\n",
       "      <td>-0.017052</td>\n",
       "      <td>0.028198</td>\n",
       "      <td>0.007997</td>\n",
       "      <td>-0.026089</td>\n",
       "      <td>5</td>\n",
       "      <td>ZetaCoin</td>\n",
       "    </tr>\n",
       "    <tr>\n",
       "      <th>23</th>\n",
       "      <td>-0.174211</td>\n",
       "      <td>0.556092</td>\n",
       "      <td>-0.089625</td>\n",
       "      <td>-0.747410</td>\n",
       "      <td>0.134174</td>\n",
       "      <td>0.118492</td>\n",
       "      <td>0.058108</td>\n",
       "      <td>-0.000574</td>\n",
       "      <td>0.041297</td>\n",
       "      <td>0.001503</td>\n",
       "      <td>-0.016880</td>\n",
       "      <td>5</td>\n",
       "      <td>SexCoin</td>\n",
       "    </tr>\n",
       "    <tr>\n",
       "      <th>24</th>\n",
       "      <td>-0.177659</td>\n",
       "      <td>0.556229</td>\n",
       "      <td>-0.089332</td>\n",
       "      <td>-0.747393</td>\n",
       "      <td>0.134198</td>\n",
       "      <td>0.118464</td>\n",
       "      <td>0.058059</td>\n",
       "      <td>-0.000493</td>\n",
       "      <td>0.041260</td>\n",
       "      <td>0.001553</td>\n",
       "      <td>-0.016902</td>\n",
       "      <td>5</td>\n",
       "      <td>Quatloo</td>\n",
       "    </tr>\n",
       "    <tr>\n",
       "      <th>25</th>\n",
       "      <td>-0.207786</td>\n",
       "      <td>-0.808557</td>\n",
       "      <td>0.167054</td>\n",
       "      <td>-0.663461</td>\n",
       "      <td>-0.004333</td>\n",
       "      <td>-0.025295</td>\n",
       "      <td>0.002405</td>\n",
       "      <td>-0.012924</td>\n",
       "      <td>-0.047039</td>\n",
       "      <td>-0.021348</td>\n",
       "      <td>-0.007768</td>\n",
       "      <td>0</td>\n",
       "      <td>EnergyCoin</td>\n",
       "    </tr>\n",
       "    <tr>\n",
       "      <th>26</th>\n",
       "      <td>-0.169400</td>\n",
       "      <td>0.648470</td>\n",
       "      <td>-0.146693</td>\n",
       "      <td>0.149089</td>\n",
       "      <td>-0.168928</td>\n",
       "      <td>-0.119157</td>\n",
       "      <td>-0.269444</td>\n",
       "      <td>-0.036531</td>\n",
       "      <td>0.031812</td>\n",
       "      <td>-0.097403</td>\n",
       "      <td>0.662149</td>\n",
       "      <td>5</td>\n",
       "      <td>QuarkCoin</td>\n",
       "    </tr>\n",
       "    <tr>\n",
       "      <th>27</th>\n",
       "      <td>-0.172378</td>\n",
       "      <td>0.667097</td>\n",
       "      <td>-0.144337</td>\n",
       "      <td>0.108123</td>\n",
       "      <td>-0.217279</td>\n",
       "      <td>-0.101793</td>\n",
       "      <td>-0.212373</td>\n",
       "      <td>0.007069</td>\n",
       "      <td>0.056758</td>\n",
       "      <td>-0.083706</td>\n",
       "      <td>0.023727</td>\n",
       "      <td>5</td>\n",
       "      <td>Riecoin</td>\n",
       "    </tr>\n",
       "    <tr>\n",
       "      <th>28</th>\n",
       "      <td>-0.177796</td>\n",
       "      <td>0.556062</td>\n",
       "      <td>-0.090256</td>\n",
       "      <td>-0.747454</td>\n",
       "      <td>0.134145</td>\n",
       "      <td>0.118460</td>\n",
       "      <td>0.058034</td>\n",
       "      <td>-0.000544</td>\n",
       "      <td>0.041220</td>\n",
       "      <td>0.001584</td>\n",
       "      <td>-0.016907</td>\n",
       "      <td>5</td>\n",
       "      <td>Digitalcoin</td>\n",
       "    </tr>\n",
       "    <tr>\n",
       "      <th>29</th>\n",
       "      <td>-0.209685</td>\n",
       "      <td>-0.808170</td>\n",
       "      <td>0.168911</td>\n",
       "      <td>-0.663340</td>\n",
       "      <td>-0.004221</td>\n",
       "      <td>-0.025304</td>\n",
       "      <td>0.002419</td>\n",
       "      <td>-0.012781</td>\n",
       "      <td>-0.046990</td>\n",
       "      <td>-0.021372</td>\n",
       "      <td>-0.007774</td>\n",
       "      <td>0</td>\n",
       "      <td>BitBar</td>\n",
       "    </tr>\n",
       "    <tr>\n",
       "      <th>30</th>\n",
       "      <td>-0.178485</td>\n",
       "      <td>0.556100</td>\n",
       "      <td>-0.090140</td>\n",
       "      <td>-0.747447</td>\n",
       "      <td>0.134153</td>\n",
       "      <td>0.118455</td>\n",
       "      <td>0.058026</td>\n",
       "      <td>-0.000525</td>\n",
       "      <td>0.041215</td>\n",
       "      <td>0.001592</td>\n",
       "      <td>-0.016911</td>\n",
       "      <td>5</td>\n",
       "      <td>Catcoin</td>\n",
       "    </tr>\n",
       "    <tr>\n",
       "      <th>31</th>\n",
       "      <td>-0.209665</td>\n",
       "      <td>-0.808172</td>\n",
       "      <td>0.168901</td>\n",
       "      <td>-0.663340</td>\n",
       "      <td>-0.004222</td>\n",
       "      <td>-0.025304</td>\n",
       "      <td>0.002419</td>\n",
       "      <td>-0.012782</td>\n",
       "      <td>-0.046990</td>\n",
       "      <td>-0.021372</td>\n",
       "      <td>-0.007774</td>\n",
       "      <td>0</td>\n",
       "      <td>CryptoBullion</td>\n",
       "    </tr>\n",
       "    <tr>\n",
       "      <th>32</th>\n",
       "      <td>-0.178606</td>\n",
       "      <td>0.556096</td>\n",
       "      <td>-0.090183</td>\n",
       "      <td>-0.747450</td>\n",
       "      <td>0.134151</td>\n",
       "      <td>0.118454</td>\n",
       "      <td>0.058023</td>\n",
       "      <td>-0.000525</td>\n",
       "      <td>0.041212</td>\n",
       "      <td>0.001595</td>\n",
       "      <td>-0.016912</td>\n",
       "      <td>5</td>\n",
       "      <td>CannaCoin</td>\n",
       "    </tr>\n",
       "    <tr>\n",
       "      <th>33</th>\n",
       "      <td>-0.187134</td>\n",
       "      <td>0.607978</td>\n",
       "      <td>-0.141816</td>\n",
       "      <td>0.357947</td>\n",
       "      <td>-0.494760</td>\n",
       "      <td>0.710618</td>\n",
       "      <td>0.216926</td>\n",
       "      <td>-0.006521</td>\n",
       "      <td>0.050395</td>\n",
       "      <td>0.007622</td>\n",
       "      <td>-0.021806</td>\n",
       "      <td>5</td>\n",
       "      <td>CryptCoin</td>\n",
       "    </tr>\n",
       "    <tr>\n",
       "      <th>34</th>\n",
       "      <td>0.851430</td>\n",
       "      <td>-0.230901</td>\n",
       "      <td>-0.193811</td>\n",
       "      <td>-0.538639</td>\n",
       "      <td>0.427085</td>\n",
       "      <td>0.102795</td>\n",
       "      <td>0.055799</td>\n",
       "      <td>0.322903</td>\n",
       "      <td>-0.049840</td>\n",
       "      <td>0.103796</td>\n",
       "      <td>-0.055146</td>\n",
       "      <td>0</td>\n",
       "      <td>CasinoCoin</td>\n",
       "    </tr>\n",
       "    <tr>\n",
       "      <th>35</th>\n",
       "      <td>-0.204799</td>\n",
       "      <td>-0.697147</td>\n",
       "      <td>0.114697</td>\n",
       "      <td>0.192229</td>\n",
       "      <td>-0.355652</td>\n",
       "      <td>-0.245562</td>\n",
       "      <td>-0.268001</td>\n",
       "      <td>-0.005166</td>\n",
       "      <td>-0.031465</td>\n",
       "      <td>-0.106649</td>\n",
       "      <td>0.032856</td>\n",
       "      <td>0</td>\n",
       "      <td>Diamond</td>\n",
       "    </tr>\n",
       "    <tr>\n",
       "      <th>36</th>\n",
       "      <td>0.245389</td>\n",
       "      <td>0.666198</td>\n",
       "      <td>-0.222434</td>\n",
       "      <td>0.115339</td>\n",
       "      <td>-0.210315</td>\n",
       "      <td>-0.099799</td>\n",
       "      <td>-0.233579</td>\n",
       "      <td>-0.007695</td>\n",
       "      <td>0.108655</td>\n",
       "      <td>-0.114101</td>\n",
       "      <td>0.080289</td>\n",
       "      <td>5</td>\n",
       "      <td>Verge</td>\n",
       "    </tr>\n",
       "    <tr>\n",
       "      <th>37</th>\n",
       "      <td>0.329335</td>\n",
       "      <td>0.675304</td>\n",
       "      <td>-0.232392</td>\n",
       "      <td>0.216397</td>\n",
       "      <td>-0.290422</td>\n",
       "      <td>-0.612561</td>\n",
       "      <td>0.629447</td>\n",
       "      <td>-0.030258</td>\n",
       "      <td>0.032599</td>\n",
       "      <td>0.001351</td>\n",
       "      <td>-0.022839</td>\n",
       "      <td>5</td>\n",
       "      <td>DevCoin</td>\n",
       "    </tr>\n",
       "    <tr>\n",
       "      <th>38</th>\n",
       "      <td>0.156163</td>\n",
       "      <td>0.538742</td>\n",
       "      <td>-0.140667</td>\n",
       "      <td>-0.750517</td>\n",
       "      <td>0.130532</td>\n",
       "      <td>0.121022</td>\n",
       "      <td>0.062258</td>\n",
       "      <td>-0.009644</td>\n",
       "      <td>0.043866</td>\n",
       "      <td>-0.002613</td>\n",
       "      <td>-0.014782</td>\n",
       "      <td>5</td>\n",
       "      <td>EarthCoin</td>\n",
       "    </tr>\n",
       "    <tr>\n",
       "      <th>39</th>\n",
       "      <td>-0.178273</td>\n",
       "      <td>0.556057</td>\n",
       "      <td>-0.090346</td>\n",
       "      <td>-0.747461</td>\n",
       "      <td>0.134140</td>\n",
       "      <td>0.118456</td>\n",
       "      <td>0.058025</td>\n",
       "      <td>-0.000541</td>\n",
       "      <td>0.041210</td>\n",
       "      <td>0.001595</td>\n",
       "      <td>-0.016910</td>\n",
       "      <td>5</td>\n",
       "      <td>E-Gulden</td>\n",
       "    </tr>\n",
       "    <tr>\n",
       "      <th>40</th>\n",
       "      <td>-0.172300</td>\n",
       "      <td>0.555891</td>\n",
       "      <td>-0.090469</td>\n",
       "      <td>-0.747464</td>\n",
       "      <td>0.134121</td>\n",
       "      <td>0.118504</td>\n",
       "      <td>0.058119</td>\n",
       "      <td>-0.000658</td>\n",
       "      <td>0.041289</td>\n",
       "      <td>0.001496</td>\n",
       "      <td>-0.016870</td>\n",
       "      <td>5</td>\n",
       "      <td>Einsteinium</td>\n",
       "    </tr>\n",
       "    <tr>\n",
       "      <th>41</th>\n",
       "      <td>-0.178180</td>\n",
       "      <td>0.556080</td>\n",
       "      <td>-0.090212</td>\n",
       "      <td>-0.747452</td>\n",
       "      <td>0.134148</td>\n",
       "      <td>0.118457</td>\n",
       "      <td>0.058029</td>\n",
       "      <td>-0.000535</td>\n",
       "      <td>0.041217</td>\n",
       "      <td>0.001589</td>\n",
       "      <td>-0.016909</td>\n",
       "      <td>5</td>\n",
       "      <td>Emerald</td>\n",
       "    </tr>\n",
       "    <tr>\n",
       "      <th>42</th>\n",
       "      <td>-0.195355</td>\n",
       "      <td>-0.131355</td>\n",
       "      <td>-0.099070</td>\n",
       "      <td>0.745254</td>\n",
       "      <td>0.928276</td>\n",
       "      <td>-0.020418</td>\n",
       "      <td>-0.161697</td>\n",
       "      <td>-0.176380</td>\n",
       "      <td>-0.119540</td>\n",
       "      <td>-0.470174</td>\n",
       "      <td>-0.527143</td>\n",
       "      <td>3</td>\n",
       "      <td>Exclusive Coin</td>\n",
       "    </tr>\n",
       "    <tr>\n",
       "      <th>43</th>\n",
       "      <td>-0.178881</td>\n",
       "      <td>-0.170604</td>\n",
       "      <td>-0.006855</td>\n",
       "      <td>-0.525657</td>\n",
       "      <td>0.435025</td>\n",
       "      <td>0.095208</td>\n",
       "      <td>0.047655</td>\n",
       "      <td>0.310849</td>\n",
       "      <td>-0.050666</td>\n",
       "      <td>0.104564</td>\n",
       "      <td>-0.055206</td>\n",
       "      <td>0</td>\n",
       "      <td>FlutterCoin</td>\n",
       "    </tr>\n",
       "    <tr>\n",
       "      <th>44</th>\n",
       "      <td>-0.178681</td>\n",
       "      <td>0.556104</td>\n",
       "      <td>-0.090149</td>\n",
       "      <td>-0.747448</td>\n",
       "      <td>0.134153</td>\n",
       "      <td>0.118453</td>\n",
       "      <td>0.058023</td>\n",
       "      <td>-0.000522</td>\n",
       "      <td>0.041212</td>\n",
       "      <td>0.001596</td>\n",
       "      <td>-0.016912</td>\n",
       "      <td>5</td>\n",
       "      <td>Franko</td>\n",
       "    </tr>\n",
       "    <tr>\n",
       "      <th>45</th>\n",
       "      <td>-0.168346</td>\n",
       "      <td>0.680121</td>\n",
       "      <td>-0.148335</td>\n",
       "      <td>0.113911</td>\n",
       "      <td>-0.232026</td>\n",
       "      <td>-0.117024</td>\n",
       "      <td>-0.261834</td>\n",
       "      <td>0.010495</td>\n",
       "      <td>0.094858</td>\n",
       "      <td>-0.182348</td>\n",
       "      <td>0.058464</td>\n",
       "      <td>5</td>\n",
       "      <td>FeatherCoin</td>\n",
       "    </tr>\n",
       "    <tr>\n",
       "      <th>46</th>\n",
       "      <td>-0.150306</td>\n",
       "      <td>0.555631</td>\n",
       "      <td>-0.088997</td>\n",
       "      <td>-0.747349</td>\n",
       "      <td>0.134161</td>\n",
       "      <td>0.118690</td>\n",
       "      <td>0.058511</td>\n",
       "      <td>-0.000978</td>\n",
       "      <td>0.041659</td>\n",
       "      <td>0.001073</td>\n",
       "      <td>-0.016713</td>\n",
       "      <td>5</td>\n",
       "      <td>GrandCoin</td>\n",
       "    </tr>\n",
       "    <tr>\n",
       "      <th>47</th>\n",
       "      <td>-0.177069</td>\n",
       "      <td>0.555997</td>\n",
       "      <td>-0.090518</td>\n",
       "      <td>-0.747471</td>\n",
       "      <td>0.134128</td>\n",
       "      <td>0.118465</td>\n",
       "      <td>0.058040</td>\n",
       "      <td>-0.000573</td>\n",
       "      <td>0.041220</td>\n",
       "      <td>0.001579</td>\n",
       "      <td>-0.016903</td>\n",
       "      <td>5</td>\n",
       "      <td>GlobalCoin</td>\n",
       "    </tr>\n",
       "    <tr>\n",
       "      <th>48</th>\n",
       "      <td>-0.177417</td>\n",
       "      <td>0.556076</td>\n",
       "      <td>-0.090133</td>\n",
       "      <td>-0.747446</td>\n",
       "      <td>0.134151</td>\n",
       "      <td>0.118464</td>\n",
       "      <td>0.058043</td>\n",
       "      <td>-0.000544</td>\n",
       "      <td>0.041231</td>\n",
       "      <td>0.001573</td>\n",
       "      <td>-0.016904</td>\n",
       "      <td>5</td>\n",
       "      <td>GoldCoin</td>\n",
       "    </tr>\n",
       "    <tr>\n",
       "      <th>49</th>\n",
       "      <td>-0.207057</td>\n",
       "      <td>-0.808255</td>\n",
       "      <td>0.168793</td>\n",
       "      <td>-0.663345</td>\n",
       "      <td>-0.004233</td>\n",
       "      <td>-0.025283</td>\n",
       "      <td>0.002458</td>\n",
       "      <td>-0.012836</td>\n",
       "      <td>-0.046958</td>\n",
       "      <td>-0.021414</td>\n",
       "      <td>-0.007756</td>\n",
       "      <td>0</td>\n",
       "      <td>HoboNickels</td>\n",
       "    </tr>\n",
       "  </tbody>\n",
       "</table>\n",
       "</div>"
      ],
      "text/plain": [
       "        PCA1      PCA2      PCA3      PCA4      PCA5      PCA6      PCA7  \\\n",
       "0  -0.209691 -0.808170  0.168907 -0.663340 -0.004221 -0.025304  0.002418   \n",
       "1  -0.187805 -0.810617  0.158472 -0.664012 -0.004872 -0.025161  0.002526   \n",
       "2   3.529267 -0.317246  2.910638  0.416936 -0.203725 -0.261915 -0.282133   \n",
       "3  -0.179927  0.699969 -0.165025  0.220439 -0.285466 -0.616501  0.622780   \n",
       "4  -0.173063  0.693041 -0.152954  0.115317 -0.215415 -0.104622 -0.242670   \n",
       "5  -0.176964  0.556028 -0.090335 -0.747459  0.134138  0.118467  0.058046   \n",
       "6  -0.217905 -0.756287  0.117317  0.442060 -0.633130  0.566863  0.161328   \n",
       "7  -0.173840  0.683577 -0.148887  0.107653 -0.216708 -0.098381 -0.215550   \n",
       "8  -0.170784  0.693366 -0.150887  0.115455 -0.215300 -0.104596 -0.242583   \n",
       "9  -0.174696  0.700172 -0.153752  0.120034 -0.218951 -0.111787 -0.272614   \n",
       "10 -0.112351 -0.125233 -0.094454  0.667074  0.803899 -0.014696 -0.093467   \n",
       "11  0.221744  0.687670 -0.108765  0.122834 -0.203668 -0.099592 -0.231260   \n",
       "12 -0.211049 -0.664236  0.094389  0.304571 -0.423819 -0.760258  0.567182   \n",
       "13 -0.198774 -0.088467 -0.109487  0.771745  0.709604 -0.539223  0.725350   \n",
       "14 -0.178508  0.556105 -0.090118 -0.747446  0.134154  0.118455  0.058026   \n",
       "15 -0.199168 -0.706964  0.121991  0.197393 -0.347080 -0.246467 -0.265423   \n",
       "16 -0.187018  0.607962 -0.141888  0.357942 -0.494764  0.710619  0.216926   \n",
       "17 -0.177959  0.556155 -0.089774 -0.747423  0.134173  0.118460  0.058043   \n",
       "18 -0.209235 -0.808200  0.168805 -0.663346 -0.004228 -0.025301  0.002423   \n",
       "19 -0.199854 -0.810167  0.159339 -0.663964 -0.004797 -0.025257  0.002351   \n",
       "20 -0.126951  0.687170 -0.157196  0.119351 -0.205763 -0.102624 -0.238074   \n",
       "21  3.827963  1.183279  3.845831 -0.484013  0.354379  0.165228  0.216683   \n",
       "22 -0.176017  0.699733 -0.165793  0.220391 -0.285518 -0.616472  0.622825   \n",
       "23 -0.174211  0.556092 -0.089625 -0.747410  0.134174  0.118492  0.058108   \n",
       "24 -0.177659  0.556229 -0.089332 -0.747393  0.134198  0.118464  0.058059   \n",
       "25 -0.207786 -0.808557  0.167054 -0.663461 -0.004333 -0.025295  0.002405   \n",
       "26 -0.169400  0.648470 -0.146693  0.149089 -0.168928 -0.119157 -0.269444   \n",
       "27 -0.172378  0.667097 -0.144337  0.108123 -0.217279 -0.101793 -0.212373   \n",
       "28 -0.177796  0.556062 -0.090256 -0.747454  0.134145  0.118460  0.058034   \n",
       "29 -0.209685 -0.808170  0.168911 -0.663340 -0.004221 -0.025304  0.002419   \n",
       "30 -0.178485  0.556100 -0.090140 -0.747447  0.134153  0.118455  0.058026   \n",
       "31 -0.209665 -0.808172  0.168901 -0.663340 -0.004222 -0.025304  0.002419   \n",
       "32 -0.178606  0.556096 -0.090183 -0.747450  0.134151  0.118454  0.058023   \n",
       "33 -0.187134  0.607978 -0.141816  0.357947 -0.494760  0.710618  0.216926   \n",
       "34  0.851430 -0.230901 -0.193811 -0.538639  0.427085  0.102795  0.055799   \n",
       "35 -0.204799 -0.697147  0.114697  0.192229 -0.355652 -0.245562 -0.268001   \n",
       "36  0.245389  0.666198 -0.222434  0.115339 -0.210315 -0.099799 -0.233579   \n",
       "37  0.329335  0.675304 -0.232392  0.216397 -0.290422 -0.612561  0.629447   \n",
       "38  0.156163  0.538742 -0.140667 -0.750517  0.130532  0.121022  0.062258   \n",
       "39 -0.178273  0.556057 -0.090346 -0.747461  0.134140  0.118456  0.058025   \n",
       "40 -0.172300  0.555891 -0.090469 -0.747464  0.134121  0.118504  0.058119   \n",
       "41 -0.178180  0.556080 -0.090212 -0.747452  0.134148  0.118457  0.058029   \n",
       "42 -0.195355 -0.131355 -0.099070  0.745254  0.928276 -0.020418 -0.161697   \n",
       "43 -0.178881 -0.170604 -0.006855 -0.525657  0.435025  0.095208  0.047655   \n",
       "44 -0.178681  0.556104 -0.090149 -0.747448  0.134153  0.118453  0.058023   \n",
       "45 -0.168346  0.680121 -0.148335  0.113911 -0.232026 -0.117024 -0.261834   \n",
       "46 -0.150306  0.555631 -0.088997 -0.747349  0.134161  0.118690  0.058511   \n",
       "47 -0.177069  0.555997 -0.090518 -0.747471  0.134128  0.118465  0.058040   \n",
       "48 -0.177417  0.556076 -0.090133 -0.747446  0.134151  0.118464  0.058043   \n",
       "49 -0.207057 -0.808255  0.168793 -0.663345 -0.004233 -0.025283  0.002458   \n",
       "\n",
       "        PCA8      PCA9     PCA10     PCA11  class              coin  \n",
       "0  -0.012781 -0.046990 -0.021372 -0.007774      0           42 Coin  \n",
       "1  -0.013793 -0.047109 -0.021429 -0.007660      0           404Coin  \n",
       "2  -0.137953  0.753249  0.347229 -0.241091      2         EliteCoin  \n",
       "3  -0.016936  0.028175  0.008040 -0.026113      5           Bitcoin  \n",
       "4   0.010629  0.111604 -0.125831  0.059776      5          Ethereum  \n",
       "5  -0.000564  0.041229  0.001572 -0.016901      5          Litecoin  \n",
       "6  -0.018780 -0.037801 -0.015352 -0.012666      0              Dash  \n",
       "7   0.009600  0.076833 -0.087447  0.024330      5            Monero  \n",
       "8   0.010707  0.111721 -0.125933  0.059799      5  Ethereum Classic  \n",
       "9   0.070045  0.166267 -0.213776  0.124003      5             ZCash  \n",
       "10 -0.010561  0.004490  0.064759  0.125812      3         Bitshares  \n",
       "11 -0.000633  0.112971 -0.117168  0.080526      5          DigiByte  \n",
       "12 -0.029172 -0.060015 -0.014936 -0.016974      0       BitcoinDark  \n",
       "13 -0.050522 -0.020128  0.120986  0.065941      3           PayCoin  \n",
       "14 -0.000523  0.041216  0.001592 -0.016911      5       ProsperCoin  \n",
       "15 -0.009146 -0.039292 -0.102109  0.043785      0          KoboCoin  \n",
       "16 -0.006527  0.050394  0.007623 -0.021805      5        Spreadcoin  \n",
       "17 -0.000513  0.041238  0.001572 -0.016906      5          Argentum  \n",
       "18 -0.012795 -0.046988 -0.021377 -0.007771      0       Aurora Coin  \n",
       "19 -0.013520 -0.047243 -0.021249 -0.007740      0          BlueCoin  \n",
       "20  0.002977  0.106074 -0.109698  0.077952      5        MyriadCoin  \n",
       "21  0.155011  0.258702 -0.187480  0.024571      2          MoonCoin  \n",
       "22 -0.017052  0.028198  0.007997 -0.026089      5          ZetaCoin  \n",
       "23 -0.000574  0.041297  0.001503 -0.016880      5           SexCoin  \n",
       "24 -0.000493  0.041260  0.001553 -0.016902      5           Quatloo  \n",
       "25 -0.012924 -0.047039 -0.021348 -0.007768      0        EnergyCoin  \n",
       "26 -0.036531  0.031812 -0.097403  0.662149      5         QuarkCoin  \n",
       "27  0.007069  0.056758 -0.083706  0.023727      5           Riecoin  \n",
       "28 -0.000544  0.041220  0.001584 -0.016907      5      Digitalcoin   \n",
       "29 -0.012781 -0.046990 -0.021372 -0.007774      0            BitBar  \n",
       "30 -0.000525  0.041215  0.001592 -0.016911      5           Catcoin  \n",
       "31 -0.012782 -0.046990 -0.021372 -0.007774      0     CryptoBullion  \n",
       "32 -0.000525  0.041212  0.001595 -0.016912      5         CannaCoin  \n",
       "33 -0.006521  0.050395  0.007622 -0.021806      5         CryptCoin  \n",
       "34  0.322903 -0.049840  0.103796 -0.055146      0        CasinoCoin  \n",
       "35 -0.005166 -0.031465 -0.106649  0.032856      0           Diamond  \n",
       "36 -0.007695  0.108655 -0.114101  0.080289      5             Verge  \n",
       "37 -0.030258  0.032599  0.001351 -0.022839      5           DevCoin  \n",
       "38 -0.009644  0.043866 -0.002613 -0.014782      5         EarthCoin  \n",
       "39 -0.000541  0.041210  0.001595 -0.016910      5          E-Gulden  \n",
       "40 -0.000658  0.041289  0.001496 -0.016870      5       Einsteinium  \n",
       "41 -0.000535  0.041217  0.001589 -0.016909      5           Emerald  \n",
       "42 -0.176380 -0.119540 -0.470174 -0.527143      3    Exclusive Coin  \n",
       "43  0.310849 -0.050666  0.104564 -0.055206      0       FlutterCoin  \n",
       "44 -0.000522  0.041212  0.001596 -0.016912      5            Franko  \n",
       "45  0.010495  0.094858 -0.182348  0.058464      5       FeatherCoin  \n",
       "46 -0.000978  0.041659  0.001073 -0.016713      5         GrandCoin  \n",
       "47 -0.000573  0.041220  0.001579 -0.016903      5        GlobalCoin  \n",
       "48 -0.000544  0.041231  0.001573 -0.016904      5          GoldCoin  \n",
       "49 -0.012836 -0.046958 -0.021414 -0.007756      0       HoboNickels  "
      ]
     },
     "execution_count": 64,
     "metadata": {},
     "output_type": "execute_result"
    }
   ],
   "source": [
    "df_pca.head(50)\n",
    "  "
   ]
  },
  {
   "cell_type": "code",
   "execution_count": null,
   "id": "3cd3d5f2",
   "metadata": {},
   "outputs": [],
   "source": []
  },
  {
   "cell_type": "code",
   "execution_count": null,
   "id": "c28e55c8",
   "metadata": {},
   "outputs": [],
   "source": []
  },
  {
   "cell_type": "code",
   "execution_count": null,
   "id": "901cc01b",
   "metadata": {},
   "outputs": [],
   "source": []
  },
  {
   "cell_type": "code",
   "execution_count": null,
   "id": "0011fed0",
   "metadata": {},
   "outputs": [],
   "source": []
  },
  {
   "cell_type": "code",
   "execution_count": 65,
   "id": "77d3f12e",
   "metadata": {},
   "outputs": [],
   "source": [
    "# some coins arent trading, some of the columns are not numeric. Class 2 coins are not clustered as well as the other classes.  \n",
    "# Class 0, 3, and 5 can be grouped into clusters.  \n",
    "# recommendation: identify crypto coins within the 0,3, and 5 classes and focus on those. \n",
    "# the total supply and total mined is almost even with BitTorrent, implying that the total supply is currently available.  \n",
    "# this is likely an outlier in the charts as it is the sole blue dot in one corner. TurtleCoin is also a unique coin along with BitTorrent\n",
    "# with pricing data added in a more ideal recommendation could be made. \n",
    "# suggestion - find coins similar to BitCoin and Etherium that is still reasonable priced withm \"room to grow\""
   ]
  }
 ],
 "metadata": {
  "kernelspec": {
   "display_name": "Python 3",
   "language": "python",
   "name": "python3"
  },
  "language_info": {
   "codemirror_mode": {
    "name": "ipython",
    "version": 3
   },
   "file_extension": ".py",
   "mimetype": "text/x-python",
   "name": "python",
   "nbconvert_exporter": "python",
   "pygments_lexer": "ipython3",
   "version": "3.8.8"
  }
 },
 "nbformat": 4,
 "nbformat_minor": 5
}
